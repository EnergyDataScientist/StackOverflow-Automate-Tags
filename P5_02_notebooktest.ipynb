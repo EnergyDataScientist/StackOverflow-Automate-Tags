{
 "cells": [
  {
   "cell_type": "markdown",
   "metadata": {},
   "source": [
    "# Projet 5 : Catégorisez automatiquement des questions"
   ]
  },
  {
   "cell_type": "markdown",
   "metadata": {},
   "source": [
    "L'objectif de ce projet est d'appliquer des tags à des questions issues du site stackoverflow. Pour cela on va utiliser l'outil StackExchange qui permet de lancer des requêtes SQL sur la base de données de stackoverflow."
   ]
  },
  {
   "cell_type": "markdown",
   "metadata": {},
   "source": [
    "## Notebook 1 : Exploration\n",
    "* Extraction des données"
   ]
  },
  {
   "cell_type": "markdown",
   "metadata": {},
   "source": [
    "## Ressources intéressantes"
   ]
  },
  {
   "cell_type": "markdown",
   "metadata": {},
   "source": [
    "MODELS : https://scikit-learn.org/stable/modules/classes.html#module-sklearn.multioutput\n",
    "METRICS : https://scikit-learn.org/stable/modules/generated/sklearn.metrics.zero_one_loss.html#sklearn.metrics.zero_one_loss\n",
    "\n",
    "LDA evaluation on sklearn and explanations https://github.com/derekgreene/topic-model-tutorial\n",
    "LDA : https://towardsdatascience.com/end-to-end-topic-modeling-in-python-latent-dirichlet-allocation-lda-35ce4ed6b3e0\n",
    "LDA Evaluatio : https://towardsdatascience.com/evaluate-topic-model-in-python-latent-dirichlet-allocation-lda-7d57484bb5d0\n",
    "sklearn lda and nmf : https://medium.com/mlreview/topic-modeling-with-scikit-learn-e80d33668730\n",
    "topic model with gensim : https://www.machinelearningplus.com/nlp/topic-modeling-gensim-python/\n",
    "Try LSA (first you need to do TF-IDF) : https://mccormickml.com/2016/03/25/lsa-for-text-classification-tutorial/\n",
    "complet lda with gensim choosing best k for Nbr topics : https://www.machinelearningplus.com/nlp/topic-modeling-gensim-python/#17howtofindtheoptimalnumberoftopicsforlda\n",
    "automatic choice of K using HDP : https://datascience.stackexchange.com/questions/128/latent-dirichlet-allocation-vs-hierarchical-dirichlet-process\n",
    "\n",
    "lda vs lsa vs plsa vs lda2vec : https://medium.com/nanonets/topic-modeling-with-lsa-psla-lda-and-lda2vec-555ff65b0b05\n",
    "LDA evaluation : https://towardsdatascience.com/evaluate-topic-model-in-python-latent-dirichlet-allocation-lda-7d57484bb5d0\n",
    "\n",
    "count vectorizer : \n",
    "https://scikit-learn.org/stable/modules/generated/sklearn.feature_extraction.text.CountVectorizer.html\n",
    "\n",
    "https://stackoverflow.com/questions/27697766/understanding-min-df-and-max-df-in-scikit-countvectorizer"
   ]
  },
  {
   "cell_type": "markdown",
   "metadata": {},
   "source": [
    "utiliser sklearn.feature_extraction.text.CountVectorizer"
   ]
  },
  {
   "cell_type": "markdown",
   "metadata": {},
   "source": [
    "### Stratification\n",
    "\n",
    "http://videolectures.net/ecmlpkdd2011_tsoumakas_stratification/?q=stratification%20multi%20label"
   ]
  },
  {
   "cell_type": "markdown",
   "metadata": {},
   "source": [
    "http://scikit.ml/api/skmultilearn.model_selection.iterative_stratification.html"
   ]
  },
  {
   "cell_type": "markdown",
   "metadata": {},
   "source": [
    "## Librairies  utilisées"
   ]
  },
  {
   "cell_type": "code",
   "execution_count": 1,
   "metadata": {},
   "outputs": [],
   "source": [
    "import pandas as pd\n",
    "import numpy as np\n",
    "\n",
    "# text preprocessing\n",
    "import re\n",
    "from string import punctuation\n",
    "import nltk\n",
    "from bs4 import BeautifulSoup\n",
    "import spacy\n",
    "\n",
    "# gensim\n",
    "import gensim\n",
    "from gensim.models import CoherenceModel\n",
    "import gensim.corpora as corpora\n",
    "\n",
    "# plotting tools\n",
    "import matplotlib.pyplot as plt\n",
    "%matplotlib inline\n",
    "import seaborn as sns\n",
    "import pyLDAvis\n",
    "import pyLDAvis.gensim\n",
    "\n",
    "# sklearn\n",
    "from sklearn.preprocessing import MultiLabelBinarizer\n",
    "from sklearn.feature_extraction.text import CountVectorizer, TfidfVectorizer\n",
    "from sklearn.ensemble import RandomForestClassifier, GradientBoostingClassifier\n",
    "from sklearn.linear_model import LogisticRegression\n",
    "from sklearn.multioutput import MultiOutputClassifier, ClassifierChain\n",
    "from sklearn.multiclass import OneVsRestClassifier\n",
    "from sklearn.decomposition import LatentDirichletAllocation\n",
    "from sklearn.metrics import accuracy_score, jaccard_score\n",
    "from sklearn.pipeline import Pipeline\n",
    "from sklearn.model_selection import cross_validate, GridSearchCV, RandomizedSearchCV\n",
    "\n",
    "nlp = spacy.load(\"en_core_web_sm\")\n",
    "#nltk.download()\n",
    "n_jobs = -1 # enable multiprocessing"
   ]
  },
  {
   "cell_type": "markdown",
   "metadata": {},
   "source": [
    "## Chargement des données"
   ]
  },
  {
   "cell_type": "code",
   "execution_count": 2,
   "metadata": {},
   "outputs": [],
   "source": [
    "df = pd.read_csv('df_process.csv', sep=';')"
   ]
  },
  {
   "cell_type": "code",
   "execution_count": 3,
   "metadata": {},
   "outputs": [],
   "source": [
    "df['Tags_process'] = df['Tags_process'].apply(lambda x: [text[1:-1] for text in x.strip('[]').split(', ')])\n",
    "df['Tags'] = df['Tags'].apply(lambda x: [text[1:-1] for text in x.strip('[]').split(', ')])"
   ]
  },
  {
   "cell_type": "code",
   "execution_count": 4,
   "metadata": {},
   "outputs": [
    {
     "data": {
      "text/html": [
       "<div>\n",
       "<style scoped>\n",
       "    .dataframe tbody tr th:only-of-type {\n",
       "        vertical-align: middle;\n",
       "    }\n",
       "\n",
       "    .dataframe tbody tr th {\n",
       "        vertical-align: top;\n",
       "    }\n",
       "\n",
       "    .dataframe thead th {\n",
       "        text-align: right;\n",
       "    }\n",
       "</style>\n",
       "<table border=\"1\" class=\"dataframe\">\n",
       "  <thead>\n",
       "    <tr style=\"text-align: right;\">\n",
       "      <th></th>\n",
       "      <th>Tags</th>\n",
       "      <th>Title</th>\n",
       "      <th>Body</th>\n",
       "      <th>data_words</th>\n",
       "      <th>Body_process</th>\n",
       "      <th>Tags_process</th>\n",
       "    </tr>\n",
       "  </thead>\n",
       "  <tbody>\n",
       "    <tr>\n",
       "      <th>0</th>\n",
       "      <td>[node.js, npm]</td>\n",
       "      <td>Easy way to list node modules I have npm linked?</td>\n",
       "      <td>&lt;p&gt;I am looking for a command that will list t...</td>\n",
       "      <td>['command', 'name', 'module', 'copy', 'path', ...</td>\n",
       "      <td>command name module copy path fact list module...</td>\n",
       "      <td>[node.js, npm]</td>\n",
       "    </tr>\n",
       "    <tr>\n",
       "      <th>1</th>\n",
       "      <td>[python, pandas]</td>\n",
       "      <td>Appending to an empty DataFrame in Pandas?</td>\n",
       "      <td>&lt;p&gt;Is it possible to append to an empty data f...</td>\n",
       "      <td>['data_frame', 'index', 'column', 'dataframe',...</td>\n",
       "      <td>data frame index column dataframe end e g</td>\n",
       "      <td>[python, pandas]</td>\n",
       "    </tr>\n",
       "    <tr>\n",
       "      <th>2</th>\n",
       "      <td>[html, xhtml]</td>\n",
       "      <td>Why can't the &lt;p&gt; tag contain a &lt;div&gt; tag insi...</td>\n",
       "      <td>&lt;p&gt;As far as I know, this is right:&lt;/p&gt;\\n\\n&lt;pr...</td>\n",
       "      <td>['one', 'one', 'tag', 'containment', 'relation...</td>\n",
       "      <td>one one tag containment relationship</td>\n",
       "      <td>[html]</td>\n",
       "    </tr>\n",
       "    <tr>\n",
       "      <th>3</th>\n",
       "      <td>[android, view]</td>\n",
       "      <td>Android - get children inside a View?</td>\n",
       "      <td>&lt;p&gt;Given a View how can I get the child views ...</td>\n",
       "      <td>['view', 'child', 'view', 'custom', 'view', 'd...</td>\n",
       "      <td>view child view custom view debugger view way ...</td>\n",
       "      <td>[android]</td>\n",
       "    </tr>\n",
       "    <tr>\n",
       "      <th>4</th>\n",
       "      <td>[ios, arrays, swift]</td>\n",
       "      <td>Array extension to remove object by value</td>\n",
       "      <td>&lt;pre&gt;&lt;code&gt;extension Array {\\n    func removeO...</td>\n",
       "      <td>['method', 'signature', 'anyobject', 'way']</td>\n",
       "      <td>method signature anyobject way</td>\n",
       "      <td>[ios, arrays, swift]</td>\n",
       "    </tr>\n",
       "    <tr>\n",
       "      <th>...</th>\n",
       "      <td>...</td>\n",
       "      <td>...</td>\n",
       "      <td>...</td>\n",
       "      <td>...</td>\n",
       "      <td>...</td>\n",
       "      <td>...</td>\n",
       "    </tr>\n",
       "    <tr>\n",
       "      <th>29042</th>\n",
       "      <td>[html, events, angular, typescript]</td>\n",
       "      <td>Detect click outside Angular component</td>\n",
       "      <td>&lt;p&gt;How can I detect clicks &lt;em&gt;outside&lt;/em&gt; a ...</td>\n",
       "      <td>['click', 'component']</td>\n",
       "      <td>click component</td>\n",
       "      <td>[html, angular, typescript]</td>\n",
       "    </tr>\n",
       "    <tr>\n",
       "      <th>29043</th>\n",
       "      <td>[ios, iphone, objective-c, uiview, transition]</td>\n",
       "      <td>\"From View Controller\" disappears using UIView...</td>\n",
       "      <td>&lt;p&gt;I got one problem and i have described it b...</td>\n",
       "      <td>['problem', 'custom', 'transition', 'view', 'c...</td>\n",
       "      <td>problem custom transition view controller view...</td>\n",
       "      <td>[ios, iphone, objective-c]</td>\n",
       "    </tr>\n",
       "    <tr>\n",
       "      <th>29044</th>\n",
       "      <td>[swift]</td>\n",
       "      <td>How to test equality of Swift enums with assoc...</td>\n",
       "      <td>&lt;p&gt;I want to test the equality of two Swift en...</td>\n",
       "      <td>['equality', 'value', 'example', 'compiler', '...</td>\n",
       "      <td>equality value example compiler equality expre...</td>\n",
       "      <td>[swift]</td>\n",
       "    </tr>\n",
       "    <tr>\n",
       "      <th>29045</th>\n",
       "      <td>[ios, swift, cocoa-touch, uiview, instantiation]</td>\n",
       "      <td>How do I write a custom init for a UIView subc...</td>\n",
       "      <td>&lt;p&gt;Say I want to &lt;code&gt;init&lt;/code&gt; a &lt;code&gt;UIV...</td>\n",
       "      <td>['subclass', 'swift', 'custom', 'function', 'p...</td>\n",
       "      <td>subclass swift custom function parameter strin...</td>\n",
       "      <td>[ios, swift, cocoa-touch]</td>\n",
       "    </tr>\n",
       "    <tr>\n",
       "      <th>29046</th>\n",
       "      <td>[java, macos, java-8, installation]</td>\n",
       "      <td>How to install Java 8 on Mac</td>\n",
       "      <td>&lt;p&gt;I want to do some programming with the late...</td>\n",
       "      <td>['programming', 'javafx', 'ce', 'maverick', 'o...</td>\n",
       "      <td>programming javafx ce maverick oracle installe...</td>\n",
       "      <td>[java, macos, java-8]</td>\n",
       "    </tr>\n",
       "  </tbody>\n",
       "</table>\n",
       "<p>29047 rows × 6 columns</p>\n",
       "</div>"
      ],
      "text/plain": [
       "                                                   Tags  \\\n",
       "0                                        [node.js, npm]   \n",
       "1                                      [python, pandas]   \n",
       "2                                         [html, xhtml]   \n",
       "3                                       [android, view]   \n",
       "4                                  [ios, arrays, swift]   \n",
       "...                                                 ...   \n",
       "29042               [html, events, angular, typescript]   \n",
       "29043    [ios, iphone, objective-c, uiview, transition]   \n",
       "29044                                           [swift]   \n",
       "29045  [ios, swift, cocoa-touch, uiview, instantiation]   \n",
       "29046               [java, macos, java-8, installation]   \n",
       "\n",
       "                                                   Title  \\\n",
       "0       Easy way to list node modules I have npm linked?   \n",
       "1             Appending to an empty DataFrame in Pandas?   \n",
       "2      Why can't the <p> tag contain a <div> tag insi...   \n",
       "3                  Android - get children inside a View?   \n",
       "4              Array extension to remove object by value   \n",
       "...                                                  ...   \n",
       "29042             Detect click outside Angular component   \n",
       "29043  \"From View Controller\" disappears using UIView...   \n",
       "29044  How to test equality of Swift enums with assoc...   \n",
       "29045  How do I write a custom init for a UIView subc...   \n",
       "29046                       How to install Java 8 on Mac   \n",
       "\n",
       "                                                    Body  \\\n",
       "0      <p>I am looking for a command that will list t...   \n",
       "1      <p>Is it possible to append to an empty data f...   \n",
       "2      <p>As far as I know, this is right:</p>\\n\\n<pr...   \n",
       "3      <p>Given a View how can I get the child views ...   \n",
       "4      <pre><code>extension Array {\\n    func removeO...   \n",
       "...                                                  ...   \n",
       "29042  <p>How can I detect clicks <em>outside</em> a ...   \n",
       "29043  <p>I got one problem and i have described it b...   \n",
       "29044  <p>I want to test the equality of two Swift en...   \n",
       "29045  <p>Say I want to <code>init</code> a <code>UIV...   \n",
       "29046  <p>I want to do some programming with the late...   \n",
       "\n",
       "                                              data_words  \\\n",
       "0      ['command', 'name', 'module', 'copy', 'path', ...   \n",
       "1      ['data_frame', 'index', 'column', 'dataframe',...   \n",
       "2      ['one', 'one', 'tag', 'containment', 'relation...   \n",
       "3      ['view', 'child', 'view', 'custom', 'view', 'd...   \n",
       "4            ['method', 'signature', 'anyobject', 'way']   \n",
       "...                                                  ...   \n",
       "29042                             ['click', 'component']   \n",
       "29043  ['problem', 'custom', 'transition', 'view', 'c...   \n",
       "29044  ['equality', 'value', 'example', 'compiler', '...   \n",
       "29045  ['subclass', 'swift', 'custom', 'function', 'p...   \n",
       "29046  ['programming', 'javafx', 'ce', 'maverick', 'o...   \n",
       "\n",
       "                                            Body_process  \\\n",
       "0      command name module copy path fact list module...   \n",
       "1              data frame index column dataframe end e g   \n",
       "2                   one one tag containment relationship   \n",
       "3      view child view custom view debugger view way ...   \n",
       "4                         method signature anyobject way   \n",
       "...                                                  ...   \n",
       "29042                                    click component   \n",
       "29043  problem custom transition view controller view...   \n",
       "29044  equality value example compiler equality expre...   \n",
       "29045  subclass swift custom function parameter strin...   \n",
       "29046  programming javafx ce maverick oracle installe...   \n",
       "\n",
       "                      Tags_process  \n",
       "0                   [node.js, npm]  \n",
       "1                 [python, pandas]  \n",
       "2                           [html]  \n",
       "3                        [android]  \n",
       "4             [ios, arrays, swift]  \n",
       "...                            ...  \n",
       "29042  [html, angular, typescript]  \n",
       "29043   [ios, iphone, objective-c]  \n",
       "29044                      [swift]  \n",
       "29045    [ios, swift, cocoa-touch]  \n",
       "29046        [java, macos, java-8]  \n",
       "\n",
       "[29047 rows x 6 columns]"
      ]
     },
     "execution_count": 4,
     "metadata": {},
     "output_type": "execute_result"
    }
   ],
   "source": [
    "df"
   ]
  },
  {
   "cell_type": "markdown",
   "metadata": {},
   "source": [
    "# Apprentissage supervisé"
   ]
  },
  {
   "cell_type": "markdown",
   "metadata": {},
   "source": [
    "## Train test split"
   ]
  },
  {
   "cell_type": "markdown",
   "metadata": {},
   "source": [
    "### MultiLabelBinarizer"
   ]
  },
  {
   "cell_type": "markdown",
   "metadata": {},
   "source": [
    "#### example"
   ]
  },
  {
   "cell_type": "code",
   "execution_count": 5,
   "metadata": {},
   "outputs": [
    {
     "data": {
      "text/plain": [
       "0      [node.js, npm]\n",
       "1    [python, pandas]\n",
       "Name: Tags_process, dtype: object"
      ]
     },
     "execution_count": 5,
     "metadata": {},
     "output_type": "execute_result"
    }
   ],
   "source": [
    "test = df['Tags_process'][0:2]\n",
    "test"
   ]
  },
  {
   "cell_type": "code",
   "execution_count": 6,
   "metadata": {},
   "outputs": [],
   "source": [
    "mlb = MultiLabelBinarizer()"
   ]
  },
  {
   "cell_type": "code",
   "execution_count": 7,
   "metadata": {},
   "outputs": [
    {
     "data": {
      "text/plain": [
       "array([[1, 1, 0, 0],\n",
       "       [0, 0, 1, 1]])"
      ]
     },
     "execution_count": 7,
     "metadata": {},
     "output_type": "execute_result"
    }
   ],
   "source": [
    "mlb.fit_transform(test)"
   ]
  },
  {
   "cell_type": "code",
   "execution_count": 8,
   "metadata": {},
   "outputs": [
    {
     "data": {
      "text/plain": [
       "array(['node.js', 'npm', 'pandas', 'python'], dtype=object)"
      ]
     },
     "execution_count": 8,
     "metadata": {},
     "output_type": "execute_result"
    }
   ],
   "source": [
    "mlb.classes_"
   ]
  },
  {
   "cell_type": "markdown",
   "metadata": {},
   "source": [
    "#### example train test split stratified in a multilabel problem"
   ]
  },
  {
   "cell_type": "markdown",
   "metadata": {},
   "source": [
    "On crée un example similaire à notre problème où l'on va controler les proportions topic. On imagine que sur notre forum il y a 4 topics avec les proportions suivantes :\n",
    "* android : 30 %\n",
    "* machine learning : 60 %\n",
    "* web : 9 %\n",
    "* nvidia : 1 %\n",
    "\n",
    "Pour chaque topic on a un post associé. Dans un premier temps on va écrire une fonction qui donne aléatoirement un post en respectant les proportions du forum."
   ]
  },
  {
   "cell_type": "code",
   "execution_count": 9,
   "metadata": {},
   "outputs": [],
   "source": [
    "def generatePost(dataframeSize):\n",
    "    df = pd.DataFrame(columns=['Post','Tags','Topic'])\n",
    "    \n",
    "    for i in range(dataframeSize):\n",
    "    \n",
    "        rnd1 = np.random.random()\n",
    "        rnd2 = np.random.randint(1,4)\n",
    "        rnd3 = np.random.randint(1,6)\n",
    "\n",
    "        # android\n",
    "        if (rnd1<0.3):\n",
    "            topic = 'android'\n",
    "            tag_list = ['android','eclipse','java','user-interface','pixel']\n",
    "            post_list = ['I got an error while running my Android project',\n",
    "                        'Do Android devices have a unique ID',\n",
    "                        'I have an EditText and a Button in my layout',\n",
    "                        'What is the difference between Android units of measure?']\n",
    "            tags = tag_list[:rnd3]\n",
    "            post = post_list[rnd2]\n",
    "\n",
    "        # machine learning\n",
    "        elif(rnd1>=0.3 and rnd1<0.9):\n",
    "            topic = 'machine learning'\n",
    "            tag_list = ['machine-learning','python','pandas','numpy','tensorflow']\n",
    "            post_list = ['“Large data” workflows using pandas',\n",
    "                        'Peak signal detection in realtime timeseries data',\n",
    "                        'TensorFlow, why was python the chosen language? ',\n",
    "                        'Can anyone explain me StandardScaler? ']\n",
    "            tags = tag_list[:rnd3]\n",
    "            post = post_list[rnd2]  \n",
    "            \n",
    "        # web\n",
    "        elif(rnd1>=0.9 and rnd1<0.99):\n",
    "            topic = 'web'\n",
    "            tag_list = ['html','https','browser','javascript','layout']\n",
    "            post_list = ['How do you disable browser Autocomplete on web form field / input tag?',\n",
    "                        'How do we control web page caching, across all browsers?',\n",
    "                        '403 Forbidden vs 401 Unauthorized HTTP responses',\n",
    "                        'Get the size of the screen, current web page and browser window']\n",
    "            tags = tag_list[:rnd3]\n",
    "            post = post_list[rnd2]\n",
    "            \n",
    "        # nvidia\n",
    "        else:\n",
    "            topic = 'nvidia'\n",
    "            tag_list = ['nvidia','cuda','driver','gpu','pytorch']\n",
    "            post_list = ['NVIDIA vs AMD: GPGPU performance',\n",
    "                        'NVIDIA NVML Driver/library version mismatch',\n",
    "                        'Understanding CUDA grid dimensions',\n",
    "                        'How to check if pytorch is using the GPU?']\n",
    "            tags = tag_list[:rnd3]\n",
    "            post = post_list[rnd2]\n",
    "   \n",
    "\n",
    "        df.loc[i,:] = [post, tags, topic]\n",
    "        \n",
    "    return df"
   ]
  },
  {
   "cell_type": "code",
   "execution_count": 10,
   "metadata": {},
   "outputs": [
    {
     "name": "stderr",
     "output_type": "stream",
     "text": [
      "/home/hugo/anaconda3/envs/projet5/lib/python3.8/site-packages/pandas/core/internals/blocks.py:983: VisibleDeprecationWarning: Creating an ndarray from ragged nested sequences (which is a list-or-tuple of lists-or-tuples-or ndarrays with different lengths or shapes) is deprecated. If you meant to do this, you must specify 'dtype=object' when creating the ndarray.\n",
      "  arr_value = np.array(value)\n"
     ]
    }
   ],
   "source": [
    "df_100 = generatePost(100)\n",
    "df_1000 = generatePost(1000)\n",
    "df_10000 = generatePost(10000)"
   ]
  },
  {
   "cell_type": "code",
   "execution_count": 11,
   "metadata": {},
   "outputs": [
    {
     "data": {
      "text/html": [
       "<div>\n",
       "<style scoped>\n",
       "    .dataframe tbody tr th:only-of-type {\n",
       "        vertical-align: middle;\n",
       "    }\n",
       "\n",
       "    .dataframe tbody tr th {\n",
       "        vertical-align: top;\n",
       "    }\n",
       "\n",
       "    .dataframe thead th {\n",
       "        text-align: right;\n",
       "    }\n",
       "</style>\n",
       "<table border=\"1\" class=\"dataframe\">\n",
       "  <thead>\n",
       "    <tr style=\"text-align: right;\">\n",
       "      <th></th>\n",
       "      <th>Post</th>\n",
       "      <th>Tags</th>\n",
       "      <th>Topic</th>\n",
       "    </tr>\n",
       "  </thead>\n",
       "  <tbody>\n",
       "    <tr>\n",
       "      <th>0</th>\n",
       "      <td>Peak signal detection in realtime timeseries data</td>\n",
       "      <td>[machine-learning, python, pandas, numpy]</td>\n",
       "      <td>machine learning</td>\n",
       "    </tr>\n",
       "    <tr>\n",
       "      <th>1</th>\n",
       "      <td>TensorFlow, why was python the chosen language?</td>\n",
       "      <td>[machine-learning]</td>\n",
       "      <td>machine learning</td>\n",
       "    </tr>\n",
       "    <tr>\n",
       "      <th>2</th>\n",
       "      <td>Do Android devices have a unique ID</td>\n",
       "      <td>[android]</td>\n",
       "      <td>android</td>\n",
       "    </tr>\n",
       "    <tr>\n",
       "      <th>3</th>\n",
       "      <td>Peak signal detection in realtime timeseries data</td>\n",
       "      <td>[machine-learning, python, pandas, numpy]</td>\n",
       "      <td>machine learning</td>\n",
       "    </tr>\n",
       "    <tr>\n",
       "      <th>4</th>\n",
       "      <td>TensorFlow, why was python the chosen language?</td>\n",
       "      <td>[machine-learning, python]</td>\n",
       "      <td>machine learning</td>\n",
       "    </tr>\n",
       "    <tr>\n",
       "      <th>...</th>\n",
       "      <td>...</td>\n",
       "      <td>...</td>\n",
       "      <td>...</td>\n",
       "    </tr>\n",
       "    <tr>\n",
       "      <th>95</th>\n",
       "      <td>Can anyone explain me StandardScaler?</td>\n",
       "      <td>[machine-learning]</td>\n",
       "      <td>machine learning</td>\n",
       "    </tr>\n",
       "    <tr>\n",
       "      <th>96</th>\n",
       "      <td>I have an EditText and a Button in my layout</td>\n",
       "      <td>[android, eclipse, java, user-interface, pixel]</td>\n",
       "      <td>android</td>\n",
       "    </tr>\n",
       "    <tr>\n",
       "      <th>97</th>\n",
       "      <td>I have an EditText and a Button in my layout</td>\n",
       "      <td>[android, eclipse, java, user-interface, pixel]</td>\n",
       "      <td>android</td>\n",
       "    </tr>\n",
       "    <tr>\n",
       "      <th>98</th>\n",
       "      <td>I have an EditText and a Button in my layout</td>\n",
       "      <td>[android, eclipse]</td>\n",
       "      <td>android</td>\n",
       "    </tr>\n",
       "    <tr>\n",
       "      <th>99</th>\n",
       "      <td>TensorFlow, why was python the chosen language?</td>\n",
       "      <td>[machine-learning, python, pandas, numpy]</td>\n",
       "      <td>machine learning</td>\n",
       "    </tr>\n",
       "  </tbody>\n",
       "</table>\n",
       "<p>100 rows × 3 columns</p>\n",
       "</div>"
      ],
      "text/plain": [
       "                                                 Post  \\\n",
       "0   Peak signal detection in realtime timeseries data   \n",
       "1    TensorFlow, why was python the chosen language?    \n",
       "2                 Do Android devices have a unique ID   \n",
       "3   Peak signal detection in realtime timeseries data   \n",
       "4    TensorFlow, why was python the chosen language?    \n",
       "..                                                ...   \n",
       "95             Can anyone explain me StandardScaler?    \n",
       "96       I have an EditText and a Button in my layout   \n",
       "97       I have an EditText and a Button in my layout   \n",
       "98       I have an EditText and a Button in my layout   \n",
       "99   TensorFlow, why was python the chosen language?    \n",
       "\n",
       "                                               Tags             Topic  \n",
       "0         [machine-learning, python, pandas, numpy]  machine learning  \n",
       "1                                [machine-learning]  machine learning  \n",
       "2                                         [android]           android  \n",
       "3         [machine-learning, python, pandas, numpy]  machine learning  \n",
       "4                        [machine-learning, python]  machine learning  \n",
       "..                                              ...               ...  \n",
       "95                               [machine-learning]  machine learning  \n",
       "96  [android, eclipse, java, user-interface, pixel]           android  \n",
       "97  [android, eclipse, java, user-interface, pixel]           android  \n",
       "98                               [android, eclipse]           android  \n",
       "99        [machine-learning, python, pandas, numpy]  machine learning  \n",
       "\n",
       "[100 rows x 3 columns]"
      ]
     },
     "execution_count": 11,
     "metadata": {},
     "output_type": "execute_result"
    }
   ],
   "source": [
    "df_100"
   ]
  },
  {
   "cell_type": "code",
   "execution_count": 12,
   "metadata": {},
   "outputs": [
    {
     "data": {
      "image/png": "[encoded data removed]",
      "text/plain": [
       "<Figure size 432x288 with 1 Axes>"
      ]
     },
     "metadata": {
      "needs_background": "light"
     },
     "output_type": "display_data"
    }
   ],
   "source": [
    "ax = sns.countplot(x='Topic', data=df_10000)\n",
    "total = float(len(df_10000))\n",
    "for p in ax.patches:\n",
    "    height = p.get_height()\n",
    "    ax.text(p.get_x()+p.get_width()/2.,\n",
    "            height,\n",
    "            '{:1.2f}'.format(height/total),\n",
    "            ha=\"center\") "
   ]
  },
  {
   "cell_type": "markdown",
   "metadata": {},
   "source": [
    "Lorque l'on fait un split des données en un jeu d'entrainement et de test, on peut soit :\n",
    "* séparer aléatoirement sans tenir compte de y\n",
    "* séparer aléatoirement en respectant les mêmes proportions des catégories de y\n",
    "\n"
   ]
  },
  {
   "cell_type": "markdown",
   "metadata": {},
   "source": [
    "#### train test split classique"
   ]
  },
  {
   "cell_type": "code",
   "execution_count": 13,
   "metadata": {},
   "outputs": [],
   "source": [
    "from sklearn.model_selection import train_test_split"
   ]
  },
  {
   "cell_type": "markdown",
   "metadata": {},
   "source": [
    "#### train test split stratifié"
   ]
  },
  {
   "cell_type": "code",
   "execution_count": 14,
   "metadata": {},
   "outputs": [],
   "source": [
    "from skmultilearn.model_selection import IterativeStratification\n",
    "\n",
    "def iterative_train_test_split(X, y, train_size):\n",
    "    \"\"\"Custom iterative train test split which\n",
    "    'maintains balanced representation with respect\n",
    "    to order-th label combinations.'\n",
    "    \"\"\"\n",
    "    stratifier = IterativeStratification(\n",
    "        n_splits=2, order=1, sample_distribution_per_fold=[1.0-train_size, train_size, ])\n",
    "    train_indices, test_indices = next(stratifier.split(X, y))\n",
    "    X_train, y_train = X[train_indices], y[train_indices]\n",
    "    X_test, y_test = X[test_indices], y[test_indices]\n",
    "    return X_train, X_test, y_train, y_test"
   ]
  },
  {
   "cell_type": "markdown",
   "metadata": {},
   "source": [
    "https://madewithml.com/courses/applied-ml/splitting/"
   ]
  },
  {
   "cell_type": "markdown",
   "metadata": {},
   "source": [
    "#### comparaison"
   ]
  },
  {
   "cell_type": "markdown",
   "metadata": {},
   "source": [
    "Afin de comparer les deux façons de faire la séparation des données, on va étudier la proportion des topics dans le jeu de test et d'entraînement. Dans l'idéal on cherche à obtenir la même proportion des topics dans le jeu d'entrainement et de test. On va comparer deux fonctions :\n",
    "* train_test_split : séparation aléatoire non stratifiée\n",
    "* iterative_train_test_split : séparation aléatoire stratifiée"
   ]
  },
  {
   "cell_type": "code",
   "execution_count": 15,
   "metadata": {},
   "outputs": [],
   "source": [
    "def compareSplit(df):\n",
    "    train_size = 0.8\n",
    "    test_size = 1-train_size\n",
    "    # train test split without stratifying\n",
    "    df_no_strat = df.copy()\n",
    "    X = df_no_strat[['Post','Topic']]\n",
    "    y = df_no_strat['Tags']\n",
    "    X_train, X_test, y_train, y_test = train_test_split(X, y, test_size=test_size, random_state=42, shuffle=False)\n",
    "    df_no_strat['Set'] = 'train'\n",
    "    df_no_strat.loc[X_test.index,'Set'] = 'test'\n",
    "    # train test split with stratifying\n",
    "    df_copy = df.copy()\n",
    "    X = df_copy[['Post','Topic']].values\n",
    "    y = df_copy['Tags'].values\n",
    "    mlb = MultiLabelBinarizer()\n",
    "    y_mlb = mlb.fit_transform(y)\n",
    "    X_train, X_test, y_train, y_test = iterative_train_test_split(X, y_mlb, train_size=train_size)\n",
    "    df_train = pd.DataFrame(data={'Post':X_train[:,0], 'Topic':X_train[:,1], 'Tags':mlb.inverse_transform(y_train), 'Set':'train'})\n",
    "    df_test = pd.DataFrame(data={'Post':X_test[:,0], 'Topic':X_test[:,1], 'Tags':mlb.inverse_transform(y_test), 'Set':'test'})\n",
    "    df_strat = pd.concat([df_train, df_test], axis=0, ignore_index=True)\n",
    "    # plot\n",
    "    fig, axs = plt.subplots(1, 2, figsize=(15, 6))\n",
    "    sns.countplot(ax=axs[0], x='Set', hue='Topic', hue_order=['machine learning','android','web','nvidia'], data=df_no_strat)\n",
    "    axs[0].set_title('train_test_split')\n",
    "    for p in axs[0].patches:\n",
    "        total = len(df)*train_size if (p.get_x() < 0.5) else len(df)*test_size\n",
    "        height = p.get_height()\n",
    "        axs[0].text(p.get_x()+p.get_width()/2,height,'{:1.2f}'.format(height/total),ha=\"center\")\n",
    "    sns.countplot(ax=axs[1], x='Set', hue='Topic', hue_order=['machine learning','android','web','nvidia'], data=df_strat)\n",
    "    axs[1].set_title('iterative_train_test_split')\n",
    "    for p in axs[1].patches:\n",
    "        total = len(df)*train_size if (p.get_x() < 0.5) else len(df)*test_size\n",
    "        height = p.get_height()\n",
    "        axs[1].text(p.get_x()+p.get_width()/2,height,'{:1.2f}'.format(height/total),ha=\"center\")\n",
    "     \n",
    "    "
   ]
  },
  {
   "cell_type": "markdown",
   "metadata": {},
   "source": [
    "#### dataframe 100 entrées"
   ]
  },
  {
   "cell_type": "code",
   "execution_count": 16,
   "metadata": {},
   "outputs": [
    {
     "name": "stderr",
     "output_type": "stream",
     "text": [
      "posx and posy should be finite values\n",
      "posx and posy should be finite values\n",
      "posx and posy should be finite values\n",
      "posx and posy should be finite values\n"
     ]
    },
    {
     "data": {
      "image/png": "[encoded data removed]",
      "text/plain": [
       "<Figure size 1080x432 with 2 Axes>"
      ]
     },
     "metadata": {
      "needs_background": "light"
     },
     "output_type": "display_data"
    }
   ],
   "source": [
    "compareSplit(df_100)"
   ]
  },
  {
   "cell_type": "markdown",
   "metadata": {},
   "source": [
    "#### dataframe 1000 entrées"
   ]
  },
  {
   "cell_type": "code",
   "execution_count": 17,
   "metadata": {},
   "outputs": [
    {
     "data": {
      "image/png": "[encoded data removed]",
      "text/plain": [
       "<Figure size 1080x432 with 2 Axes>"
      ]
     },
     "metadata": {
      "needs_background": "light"
     },
     "output_type": "display_data"
    }
   ],
   "source": [
    "compareSplit(df_1000)"
   ]
  },
  {
   "cell_type": "markdown",
   "metadata": {},
   "source": [
    "#### dataframe 10 000 entrées"
   ]
  },
  {
   "cell_type": "code",
   "execution_count": 18,
   "metadata": {},
   "outputs": [
    {
     "data": {
      "image/png": "[encoded data removed]",
      "text/plain": [
       "<Figure size 1080x432 with 2 Axes>"
      ]
     },
     "metadata": {
      "needs_background": "light"
     },
     "output_type": "display_data"
    }
   ],
   "source": [
    "compareSplit(df_10000)"
   ]
  },
  {
   "cell_type": "markdown",
   "metadata": {},
   "source": [
    "### Cas d'étude"
   ]
  },
  {
   "cell_type": "code",
   "execution_count": 19,
   "metadata": {},
   "outputs": [],
   "source": [
    "X = df['Body_process'].values\n",
    "y = df['Tags_process'].values"
   ]
  },
  {
   "cell_type": "markdown",
   "metadata": {},
   "source": [
    "#### Multilabel binarizer"
   ]
  },
  {
   "cell_type": "code",
   "execution_count": 20,
   "metadata": {},
   "outputs": [],
   "source": [
    "mlb = MultiLabelBinarizer()\n",
    "y_mlb = mlb.fit_transform(y)"
   ]
  },
  {
   "cell_type": "code",
   "execution_count": 21,
   "metadata": {},
   "outputs": [],
   "source": [
    "X_train, X_test, y_train, y_test = iterative_train_test_split(X, y_mlb, train_size = 0.2)"
   ]
  },
  {
   "cell_type": "code",
   "execution_count": 22,
   "metadata": {},
   "outputs": [
    {
     "data": {
      "text/plain": [
       "(5827, 100)"
      ]
     },
     "execution_count": 22,
     "metadata": {},
     "output_type": "execute_result"
    }
   ],
   "source": [
    "y_train.shape"
   ]
  },
  {
   "cell_type": "markdown",
   "metadata": {},
   "source": [
    "https://towardsdatascience.com/journey-to-the-center-of-multi-label-classification-384c40229bff"
   ]
  },
  {
   "cell_type": "markdown",
   "metadata": {},
   "source": [
    "https://towardsdatascience.com/multi-label-text-classification-5c505fdedca8"
   ]
  },
  {
   "cell_type": "markdown",
   "metadata": {},
   "source": [
    "### Métrique : Jaccard score"
   ]
  },
  {
   "cell_type": "markdown",
   "metadata": {},
   "source": [
    "On cherche à faire de la classification multilabel. C'est à dire qu'un poste peut être associé à plusieurs tags. Cela signifie que la prédiction que l'on va faire va peut-être trouver un bon tag et des mauvais tags. On ne peut donc pas raisonner avec du tout ou rien. Le coefficient de jaccard permet de prendre en compte les intersections et union des ensembles."
   ]
  },
  {
   "cell_type": "markdown",
   "metadata": {},
   "source": [
    "#### exemple"
   ]
  },
  {
   "cell_type": "code",
   "execution_count": 23,
   "metadata": {},
   "outputs": [
    {
     "data": {
      "text/plain": [
       "0.6666666666666666"
      ]
     },
     "execution_count": 23,
     "metadata": {},
     "output_type": "execute_result"
    }
   ],
   "source": [
    "y_true = np.array([[0, 1, 1],[1, 1, 0]])\n",
    "y_pred = np.array([[1, 1, 1],[1, 0, 0]])\n",
    "jaccard_score(y_true, y_pred, average='macro')"
   ]
  },
  {
   "cell_type": "markdown",
   "metadata": {},
   "source": [
    "### Bag of words representation"
   ]
  },
  {
   "cell_type": "markdown",
   "metadata": {},
   "source": [
    "#### CountVectorizer"
   ]
  },
  {
   "cell_type": "code",
   "execution_count": 24,
   "metadata": {},
   "outputs": [],
   "source": [
    "preprocessor_cv = Pipeline(steps=[('transformer', CountVectorizer(lowercase=False, max_df=0.05, min_df=0.01))])"
   ]
  },
  {
   "cell_type": "markdown",
   "metadata": {},
   "source": [
    "#### TfidfVectorizer"
   ]
  },
  {
   "cell_type": "code",
   "execution_count": 25,
   "metadata": {},
   "outputs": [],
   "source": [
    "preprocessor_tv = Pipeline(steps=[('transformer', TfidfVectorizer(lowercase=False, max_df=0.05, min_df=0.01))])"
   ]
  },
  {
   "cell_type": "markdown",
   "metadata": {},
   "source": [
    "### Classifier Chain"
   ]
  },
  {
   "cell_type": "markdown",
   "metadata": {},
   "source": [
    "#### Logistic regression"
   ]
  },
  {
   "cell_type": "code",
   "execution_count": 26,
   "metadata": {},
   "outputs": [],
   "source": [
    "base_lr = LogisticRegression(solver='lbfgs', random_state=0)\n",
    "chain_lr = ClassifierChain(base_lr, order='random', random_state=0)"
   ]
  },
  {
   "cell_type": "markdown",
   "metadata": {},
   "source": [
    "#### Random forest classifier"
   ]
  },
  {
   "cell_type": "code",
   "execution_count": 27,
   "metadata": {},
   "outputs": [],
   "source": [
    "base_rf = RandomForestClassifier(random_state=0)\n",
    "chain_rf = ClassifierChain(base_rf, order='random', random_state=0)"
   ]
  },
  {
   "cell_type": "markdown",
   "metadata": {},
   "source": [
    "#### Gradient boosting classifier"
   ]
  },
  {
   "cell_type": "code",
   "execution_count": 28,
   "metadata": {},
   "outputs": [],
   "source": [
    "base_gb = GradientBoostingClassifier(random_state=0)\n",
    "chain_gb = ClassifierChain(base_gb, order='random', random_state=0)"
   ]
  },
  {
   "cell_type": "markdown",
   "metadata": {},
   "source": [
    "### OneVsRest Classifier"
   ]
  },
  {
   "cell_type": "markdown",
   "metadata": {},
   "source": [
    "#### Logistic regression"
   ]
  },
  {
   "cell_type": "code",
   "execution_count": 29,
   "metadata": {},
   "outputs": [],
   "source": [
    "base_lr = LogisticRegression(solver='lbfgs', random_state=0)\n",
    "ovr_lr = OneVsRestClassifier(base_lr, n_jobs=n_jobs)"
   ]
  },
  {
   "cell_type": "markdown",
   "metadata": {},
   "source": [
    "#### Random forest classifier"
   ]
  },
  {
   "cell_type": "code",
   "execution_count": 30,
   "metadata": {},
   "outputs": [],
   "source": [
    "base_rf = RandomForestClassifier(random_state=0)\n",
    "ovr_rf = OneVsRestClassifier(base_rf, n_jobs=n_jobs)"
   ]
  },
  {
   "cell_type": "markdown",
   "metadata": {},
   "source": [
    "#### Gradiant boosting classifier"
   ]
  },
  {
   "cell_type": "code",
   "execution_count": 31,
   "metadata": {},
   "outputs": [],
   "source": [
    "base_gb = GradientBoostingClassifier(random_state=0)\n",
    "ovr_gb = OneVsRestClassifier(base_gb, n_jobs=n_jobs)"
   ]
  },
  {
   "cell_type": "markdown",
   "metadata": {},
   "source": [
    " ### Evaluation"
   ]
  },
  {
   "cell_type": "code",
   "execution_count": 32,
   "metadata": {},
   "outputs": [],
   "source": [
    "pipeline_dict = {\n",
    "    'logistic regression CC CV':Pipeline(steps=[('preprocessor', preprocessor_cv),('classifier', chain_lr)]),\n",
    "    'logistic regression CC TV':Pipeline(steps=[('preprocessor', preprocessor_tv),('classifier', chain_lr)]),\n",
    "    'logistic regression OVR CV':Pipeline(steps=[('preprocessor', preprocessor_cv),('classifier', ovr_lr)]),\n",
    "    'logistic regression OVR TV':Pipeline(steps=[('preprocessor', preprocessor_tv),('classifier', ovr_lr)]),\n",
    "    'random forest CC CV':Pipeline(steps=[('preprocessor', preprocessor_cv),('classifier', chain_rf)]),\n",
    "    'random forest CC TV':Pipeline(steps=[('preprocessor', preprocessor_tv),('classifier', chain_rf)]),\n",
    "    'random forest OVR CV':Pipeline(steps=[('preprocessor', preprocessor_cv),('classifier', ovr_rf)]),\n",
    "    'random forest OVR TV':Pipeline(steps=[('preprocessor', preprocessor_tv),('classifier', ovr_rf)]),\n",
    "    'gradient boosting CC CV':Pipeline(steps=[('preprocessor', preprocessor_cv),('classifier', chain_gb)]),\n",
    "    'gradient boosting CC TV':Pipeline(steps=[('preprocessor', preprocessor_tv),('classifier', chain_gb)]),\n",
    "    'gradient boosting OVR CV':Pipeline(steps=[('preprocessor', preprocessor_cv),('classifier', ovr_gb)]),\n",
    "    'gradient boosting OVR TV':Pipeline(steps=[('preprocessor', preprocessor_tv),('classifier', ovr_gb)])\n",
    "}"
   ]
  },
  {
   "cell_type": "code",
   "execution_count": 33,
   "metadata": {},
   "outputs": [],
   "source": [
    "df_score = pd.DataFrame(columns=['model','jaccard','score'])\n",
    "df_time = pd.DataFrame(columns=['model','temps en s','time'])"
   ]
  },
  {
   "cell_type": "code",
   "execution_count": 34,
   "metadata": {
    "scrolled": false
   },
   "outputs": [
    {
     "name": "stdout",
     "output_type": "stream",
     "text": [
      "logistic regression CC CV\n",
      "validation score : 0.110\n",
      "logistic regression CC TV\n",
      "validation score : 0.064\n",
      "logistic regression OVR CV\n",
      "validation score : 0.109\n",
      "logistic regression OVR TV\n",
      "validation score : 0.064\n",
      "random forest CC CV\n",
      "validation score : 0.094\n",
      "random forest CC TV\n",
      "validation score : 0.075\n",
      "random forest OVR CV\n",
      "validation score : 0.096\n",
      "random forest OVR TV\n",
      "validation score : 0.075\n",
      "gradient boosting CC CV\n",
      "validation score : 0.112\n",
      "gradient boosting CC TV\n",
      "validation score : 0.108\n",
      "gradient boosting OVR CV\n",
      "validation score : 0.115\n",
      "gradient boosting OVR TV\n",
      "validation score : 0.110\n"
     ]
    }
   ],
   "source": [
    "for i, pipeline in zip(range(0,len(pipeline_dict)*2,2), pipeline_dict):\n",
    "    model_name = pipeline\n",
    "    print(model_name)\n",
    "    model = pipeline_dict[pipeline]\n",
    "    cv_results = cross_validate(model, X_train, y_train, scoring='jaccard_macro', cv=5, return_train_score=True, n_jobs=n_jobs)\n",
    "    # On stocke les résultats\n",
    "    df_score.loc[i] = [model_name,cv_results['train_score'].mean(),'train']\n",
    "    df_score.loc[i+1] = [model_name,cv_results['test_score'].mean(),'validation']\n",
    "    df_time.loc[i] = [model_name,cv_results['fit_time'].mean(),'fit']\n",
    "    df_time.loc[i+1] = [model_name,cv_results['score_time'].mean(),'score']\n",
    "    print(\"validation score : %.3f\" % cv_results['test_score'].mean())"
   ]
  },
  {
   "cell_type": "code",
   "execution_count": 35,
   "metadata": {},
   "outputs": [
    {
     "data": {
      "text/html": [
       "<div>\n",
       "<style scoped>\n",
       "    .dataframe tbody tr th:only-of-type {\n",
       "        vertical-align: middle;\n",
       "    }\n",
       "\n",
       "    .dataframe tbody tr th {\n",
       "        vertical-align: top;\n",
       "    }\n",
       "\n",
       "    .dataframe thead th {\n",
       "        text-align: right;\n",
       "    }\n",
       "</style>\n",
       "<table border=\"1\" class=\"dataframe\">\n",
       "  <thead>\n",
       "    <tr style=\"text-align: right;\">\n",
       "      <th></th>\n",
       "      <th>model</th>\n",
       "      <th>jaccard</th>\n",
       "      <th>score</th>\n",
       "    </tr>\n",
       "  </thead>\n",
       "  <tbody>\n",
       "    <tr>\n",
       "      <th>1</th>\n",
       "      <td>logistic regression CC CV</td>\n",
       "      <td>0.110127</td>\n",
       "      <td>validation</td>\n",
       "    </tr>\n",
       "    <tr>\n",
       "      <th>3</th>\n",
       "      <td>logistic regression CC TV</td>\n",
       "      <td>0.064201</td>\n",
       "      <td>validation</td>\n",
       "    </tr>\n",
       "    <tr>\n",
       "      <th>5</th>\n",
       "      <td>logistic regression OVR CV</td>\n",
       "      <td>0.108936</td>\n",
       "      <td>validation</td>\n",
       "    </tr>\n",
       "    <tr>\n",
       "      <th>7</th>\n",
       "      <td>logistic regression OVR TV</td>\n",
       "      <td>0.063926</td>\n",
       "      <td>validation</td>\n",
       "    </tr>\n",
       "    <tr>\n",
       "      <th>9</th>\n",
       "      <td>random forest CC CV</td>\n",
       "      <td>0.093781</td>\n",
       "      <td>validation</td>\n",
       "    </tr>\n",
       "    <tr>\n",
       "      <th>11</th>\n",
       "      <td>random forest CC TV</td>\n",
       "      <td>0.075054</td>\n",
       "      <td>validation</td>\n",
       "    </tr>\n",
       "    <tr>\n",
       "      <th>13</th>\n",
       "      <td>random forest OVR CV</td>\n",
       "      <td>0.095576</td>\n",
       "      <td>validation</td>\n",
       "    </tr>\n",
       "    <tr>\n",
       "      <th>15</th>\n",
       "      <td>random forest OVR TV</td>\n",
       "      <td>0.074746</td>\n",
       "      <td>validation</td>\n",
       "    </tr>\n",
       "    <tr>\n",
       "      <th>17</th>\n",
       "      <td>gradient boosting CC CV</td>\n",
       "      <td>0.111744</td>\n",
       "      <td>validation</td>\n",
       "    </tr>\n",
       "    <tr>\n",
       "      <th>19</th>\n",
       "      <td>gradient boosting CC TV</td>\n",
       "      <td>0.108370</td>\n",
       "      <td>validation</td>\n",
       "    </tr>\n",
       "    <tr>\n",
       "      <th>21</th>\n",
       "      <td>gradient boosting OVR CV</td>\n",
       "      <td>0.115359</td>\n",
       "      <td>validation</td>\n",
       "    </tr>\n",
       "    <tr>\n",
       "      <th>23</th>\n",
       "      <td>gradient boosting OVR TV</td>\n",
       "      <td>0.110357</td>\n",
       "      <td>validation</td>\n",
       "    </tr>\n",
       "  </tbody>\n",
       "</table>\n",
       "</div>"
      ],
      "text/plain": [
       "                         model   jaccard       score\n",
       "1    logistic regression CC CV  0.110127  validation\n",
       "3    logistic regression CC TV  0.064201  validation\n",
       "5   logistic regression OVR CV  0.108936  validation\n",
       "7   logistic regression OVR TV  0.063926  validation\n",
       "9          random forest CC CV  0.093781  validation\n",
       "11         random forest CC TV  0.075054  validation\n",
       "13        random forest OVR CV  0.095576  validation\n",
       "15        random forest OVR TV  0.074746  validation\n",
       "17     gradient boosting CC CV  0.111744  validation\n",
       "19     gradient boosting CC TV  0.108370  validation\n",
       "21    gradient boosting OVR CV  0.115359  validation\n",
       "23    gradient boosting OVR TV  0.110357  validation"
      ]
     },
     "execution_count": 35,
     "metadata": {},
     "output_type": "execute_result"
    }
   ],
   "source": [
    "df_score[df_score.score == 'validation']"
   ]
  },
  {
   "cell_type": "code",
   "execution_count": 36,
   "metadata": {},
   "outputs": [],
   "source": [
    "index_CC = df_score['model'].apply(lambda x: 'CC' in x)\n",
    "df_score['methode'] = 'OneVsRest Classifier'\n",
    "df_score.loc[index_CC,'methode'] = 'Classifier Chain'"
   ]
  },
  {
   "cell_type": "code",
   "execution_count": 37,
   "metadata": {},
   "outputs": [],
   "source": [
    "index_CV = df_score['model'].apply(lambda x: 'CV' in x)\n",
    "df_score['vectorizer'] = 'TfidfVectorizer'\n",
    "df_score.loc[index_CV,'vectorizer'] = 'CountVectorizer'"
   ]
  },
  {
   "cell_type": "code",
   "execution_count": 38,
   "metadata": {},
   "outputs": [],
   "source": [
    "index_RF = df_score['model'].apply(lambda x: 'random forest' in x)\n",
    "index_GB = df_score['model'].apply(lambda x: 'gradient boosting' in x)\n",
    "df_score['base'] = 'logistic regression'\n",
    "df_score.loc[index_RF,'base'] = 'random forest'\n",
    "df_score.loc[index_GB,'base'] = 'gradient boosting'"
   ]
  },
  {
   "cell_type": "code",
   "execution_count": 39,
   "metadata": {},
   "outputs": [
    {
     "data": {
      "text/plain": [
       "<seaborn.axisgrid.FacetGrid at 0x7f0957909d60>"
      ]
     },
     "execution_count": 39,
     "metadata": {},
     "output_type": "execute_result"
    },
    {
     "data": {
      "image/png": "[encoded data removed]",
      "text/plain": [
       "<Figure size 1195.5x360 with 3 Axes>"
      ]
     },
     "metadata": {
      "needs_background": "light"
     },
     "output_type": "display_data"
    }
   ],
   "source": [
    "sns.catplot(x='methode', y='jaccard', col='base', hue='vectorizer', data=df_score[df_score.score == 'validation'], saturation=.5, kind=\"bar\", ci=None)"
   ]
  },
  {
   "cell_type": "markdown",
   "metadata": {},
   "source": [
    "On peut conclure que les deux meilleurs base de modèles sont :\n",
    "* gradient boosting\n",
    "* logistic regression\n",
    "\n",
    "Classifier Chain et CountVectorizer permettent d'obtenir les meilleurs résultats."
   ]
  },
  {
   "cell_type": "code",
   "execution_count": null,
   "metadata": {},
   "outputs": [],
   "source": []
  },
  {
   "cell_type": "code",
   "execution_count": null,
   "metadata": {},
   "outputs": [],
   "source": []
  },
  {
   "cell_type": "markdown",
   "metadata": {},
   "source": [
    "### Comparaison des meilleurs modèles"
   ]
  },
  {
   "cell_type": "code",
   "execution_count": 40,
   "metadata": {},
   "outputs": [],
   "source": [
    "grid_list = []"
   ]
  },
  {
   "cell_type": "markdown",
   "metadata": {},
   "source": [
    "#### Logistic Regression"
   ]
  },
  {
   "cell_type": "markdown",
   "metadata": {},
   "source": [
    "https://scikit-learn.org/stable/modules/generated/sklearn.linear_model.LogisticRegression.html"
   ]
  },
  {
   "cell_type": "code",
   "execution_count": 41,
   "metadata": {},
   "outputs": [],
   "source": [
    "preprocessor_lr = Pipeline(steps=[('transformer', CountVectorizer(lowercase=False, max_df=0.05, min_df=0.01))])"
   ]
  },
  {
   "cell_type": "code",
   "execution_count": 42,
   "metadata": {},
   "outputs": [],
   "source": [
    "base_lr = LogisticRegression(solver='saga', random_state=0)\n",
    "chain_lr = ClassifierChain(base_lr, order='random', random_state=0)"
   ]
  },
  {
   "cell_type": "code",
   "execution_count": 43,
   "metadata": {},
   "outputs": [],
   "source": [
    "lr_pipeline = Pipeline(steps=[('preprocessor', preprocessor_lr),('model', chain_lr)])"
   ]
  },
  {
   "cell_type": "markdown",
   "metadata": {},
   "source": [
    "Il existe de nombreux hyper-paramètres pour le model de gradient boosting."
   ]
  },
  {
   "cell_type": "code",
   "execution_count": 44,
   "metadata": {},
   "outputs": [
    {
     "data": {
      "text/plain": [
       "{'base_estimator__C': 1.0,\n",
       " 'base_estimator__class_weight': None,\n",
       " 'base_estimator__dual': False,\n",
       " 'base_estimator__fit_intercept': True,\n",
       " 'base_estimator__intercept_scaling': 1,\n",
       " 'base_estimator__l1_ratio': None,\n",
       " 'base_estimator__max_iter': 100,\n",
       " 'base_estimator__multi_class': 'auto',\n",
       " 'base_estimator__n_jobs': None,\n",
       " 'base_estimator__penalty': 'l2',\n",
       " 'base_estimator__random_state': 0,\n",
       " 'base_estimator__solver': 'saga',\n",
       " 'base_estimator__tol': 0.0001,\n",
       " 'base_estimator__verbose': 0,\n",
       " 'base_estimator__warm_start': False,\n",
       " 'base_estimator': LogisticRegression(random_state=0, solver='saga'),\n",
       " 'cv': None,\n",
       " 'order': 'random',\n",
       " 'random_state': 0}"
      ]
     },
     "execution_count": 44,
     "metadata": {},
     "output_type": "execute_result"
    }
   ],
   "source": [
    "lr_pipeline['model'].get_params()"
   ]
  },
  {
   "cell_type": "markdown",
   "metadata": {},
   "source": [
    "On sélectionne les hyper-paramètres suivant :"
   ]
  },
  {
   "cell_type": "code",
   "execution_count": 45,
   "metadata": {},
   "outputs": [],
   "source": [
    "param_grid = {\n",
    "    'preprocessor__transformer__min_df':[0.01],\n",
    "    'preprocessor__transformer__max_df':[0.05],\n",
    "    'model__base_estimator__C':np.logspace(-2,2,5),\n",
    "    'model__base_estimator__penalty':[\"l1\",\"l2\"]\n",
    "}"
   ]
  },
  {
   "cell_type": "markdown",
   "metadata": {},
   "source": [
    "On effectue GridSearchCV et on stocke les résultats dans une liste."
   ]
  },
  {
   "cell_type": "code",
   "execution_count": 46,
   "metadata": {
    "scrolled": true
   },
   "outputs": [
    {
     "name": "stderr",
     "output_type": "stream",
     "text": [
      "/home/hugo/anaconda3/envs/projet5/lib/python3.8/site-packages/sklearn/linear_model/_sag.py:328: ConvergenceWarning: The max_iter was reached which means the coef_ did not converge\n",
      "  warnings.warn(\"The max_iter was reached which means \"\n",
      "/home/hugo/anaconda3/envs/projet5/lib/python3.8/site-packages/sklearn/linear_model/_sag.py:328: ConvergenceWarning: The max_iter was reached which means the coef_ did not converge\n",
      "  warnings.warn(\"The max_iter was reached which means \"\n",
      "/home/hugo/anaconda3/envs/projet5/lib/python3.8/site-packages/sklearn/linear_model/_sag.py:328: ConvergenceWarning: The max_iter was reached which means the coef_ did not converge\n",
      "  warnings.warn(\"The max_iter was reached which means \"\n",
      "/home/hugo/anaconda3/envs/projet5/lib/python3.8/site-packages/sklearn/linear_model/_sag.py:328: ConvergenceWarning: The max_iter was reached which means the coef_ did not converge\n",
      "  warnings.warn(\"The max_iter was reached which means \"\n",
      "/home/hugo/anaconda3/envs/projet5/lib/python3.8/site-packages/sklearn/linear_model/_sag.py:328: ConvergenceWarning: The max_iter was reached which means the coef_ did not converge\n",
      "  warnings.warn(\"The max_iter was reached which means \"\n",
      "/home/hugo/anaconda3/envs/projet5/lib/python3.8/site-packages/sklearn/linear_model/_sag.py:328: ConvergenceWarning: The max_iter was reached which means the coef_ did not converge\n",
      "  warnings.warn(\"The max_iter was reached which means \"\n",
      "/home/hugo/anaconda3/envs/projet5/lib/python3.8/site-packages/sklearn/linear_model/_sag.py:328: ConvergenceWarning: The max_iter was reached which means the coef_ did not converge\n",
      "  warnings.warn(\"The max_iter was reached which means \"\n",
      "/home/hugo/anaconda3/envs/projet5/lib/python3.8/site-packages/sklearn/linear_model/_sag.py:328: ConvergenceWarning: The max_iter was reached which means the coef_ did not converge\n",
      "  warnings.warn(\"The max_iter was reached which means \"\n",
      "/home/hugo/anaconda3/envs/projet5/lib/python3.8/site-packages/sklearn/linear_model/_sag.py:328: ConvergenceWarning: The max_iter was reached which means the coef_ did not converge\n",
      "  warnings.warn(\"The max_iter was reached which means \"\n",
      "/home/hugo/anaconda3/envs/projet5/lib/python3.8/site-packages/sklearn/linear_model/_sag.py:328: ConvergenceWarning: The max_iter was reached which means the coef_ did not converge\n",
      "  warnings.warn(\"The max_iter was reached which means \"\n",
      "/home/hugo/anaconda3/envs/projet5/lib/python3.8/site-packages/sklearn/linear_model/_sag.py:328: ConvergenceWarning: The max_iter was reached which means the coef_ did not converge\n",
      "  warnings.warn(\"The max_iter was reached which means \"\n",
      "/home/hugo/anaconda3/envs/projet5/lib/python3.8/site-packages/sklearn/linear_model/_sag.py:328: ConvergenceWarning: The max_iter was reached which means the coef_ did not converge\n",
      "  warnings.warn(\"The max_iter was reached which means \"\n",
      "/home/hugo/anaconda3/envs/projet5/lib/python3.8/site-packages/sklearn/linear_model/_sag.py:328: ConvergenceWarning: The max_iter was reached which means the coef_ did not converge\n",
      "  warnings.warn(\"The max_iter was reached which means \"\n",
      "/home/hugo/anaconda3/envs/projet5/lib/python3.8/site-packages/sklearn/linear_model/_sag.py:328: ConvergenceWarning: The max_iter was reached which means the coef_ did not converge\n",
      "  warnings.warn(\"The max_iter was reached which means \"\n",
      "/home/hugo/anaconda3/envs/projet5/lib/python3.8/site-packages/sklearn/linear_model/_sag.py:328: ConvergenceWarning: The max_iter was reached which means the coef_ did not converge\n",
      "  warnings.warn(\"The max_iter was reached which means \"\n",
      "/home/hugo/anaconda3/envs/projet5/lib/python3.8/site-packages/sklearn/linear_model/_sag.py:328: ConvergenceWarning: The max_iter was reached which means the coef_ did not converge\n",
      "  warnings.warn(\"The max_iter was reached which means \"\n",
      "/home/hugo/anaconda3/envs/projet5/lib/python3.8/site-packages/sklearn/linear_model/_sag.py:328: ConvergenceWarning: The max_iter was reached which means the coef_ did not converge\n",
      "  warnings.warn(\"The max_iter was reached which means \"\n",
      "/home/hugo/anaconda3/envs/projet5/lib/python3.8/site-packages/sklearn/linear_model/_sag.py:328: ConvergenceWarning: The max_iter was reached which means the coef_ did not converge\n",
      "  warnings.warn(\"The max_iter was reached which means \"\n",
      "/home/hugo/anaconda3/envs/projet5/lib/python3.8/site-packages/sklearn/linear_model/_sag.py:328: ConvergenceWarning: The max_iter was reached which means the coef_ did not converge\n",
      "  warnings.warn(\"The max_iter was reached which means \"\n",
      "/home/hugo/anaconda3/envs/projet5/lib/python3.8/site-packages/sklearn/linear_model/_sag.py:328: ConvergenceWarning: The max_iter was reached which means the coef_ did not converge\n",
      "  warnings.warn(\"The max_iter was reached which means \"\n",
      "/home/hugo/anaconda3/envs/projet5/lib/python3.8/site-packages/sklearn/linear_model/_sag.py:328: ConvergenceWarning: The max_iter was reached which means the coef_ did not converge\n",
      "  warnings.warn(\"The max_iter was reached which means \"\n",
      "/home/hugo/anaconda3/envs/projet5/lib/python3.8/site-packages/sklearn/linear_model/_sag.py:328: ConvergenceWarning: The max_iter was reached which means the coef_ did not converge\n",
      "  warnings.warn(\"The max_iter was reached which means \"\n",
      "/home/hugo/anaconda3/envs/projet5/lib/python3.8/site-packages/sklearn/linear_model/_sag.py:328: ConvergenceWarning: The max_iter was reached which means the coef_ did not converge\n",
      "  warnings.warn(\"The max_iter was reached which means \"\n",
      "/home/hugo/anaconda3/envs/projet5/lib/python3.8/site-packages/sklearn/linear_model/_sag.py:328: ConvergenceWarning: The max_iter was reached which means the coef_ did not converge\n",
      "  warnings.warn(\"The max_iter was reached which means \"\n",
      "/home/hugo/anaconda3/envs/projet5/lib/python3.8/site-packages/sklearn/linear_model/_sag.py:328: ConvergenceWarning: The max_iter was reached which means the coef_ did not converge\n",
      "  warnings.warn(\"The max_iter was reached which means \"\n",
      "/home/hugo/anaconda3/envs/projet5/lib/python3.8/site-packages/sklearn/linear_model/_sag.py:328: ConvergenceWarning: The max_iter was reached which means the coef_ did not converge\n",
      "  warnings.warn(\"The max_iter was reached which means \"\n",
      "/home/hugo/anaconda3/envs/projet5/lib/python3.8/site-packages/sklearn/linear_model/_sag.py:328: ConvergenceWarning: The max_iter was reached which means the coef_ did not converge\n",
      "  warnings.warn(\"The max_iter was reached which means \"\n",
      "/home/hugo/anaconda3/envs/projet5/lib/python3.8/site-packages/sklearn/linear_model/_sag.py:328: ConvergenceWarning: The max_iter was reached which means the coef_ did not converge\n",
      "  warnings.warn(\"The max_iter was reached which means \"\n",
      "/home/hugo/anaconda3/envs/projet5/lib/python3.8/site-packages/sklearn/linear_model/_sag.py:328: ConvergenceWarning: The max_iter was reached which means the coef_ did not converge\n",
      "  warnings.warn(\"The max_iter was reached which means \"\n",
      "/home/hugo/anaconda3/envs/projet5/lib/python3.8/site-packages/sklearn/linear_model/_sag.py:328: ConvergenceWarning: The max_iter was reached which means the coef_ did not converge\n",
      "  warnings.warn(\"The max_iter was reached which means \"\n",
      "/home/hugo/anaconda3/envs/projet5/lib/python3.8/site-packages/sklearn/linear_model/_sag.py:328: ConvergenceWarning: The max_iter was reached which means the coef_ did not converge\n",
      "  warnings.warn(\"The max_iter was reached which means \"\n",
      "/home/hugo/anaconda3/envs/projet5/lib/python3.8/site-packages/sklearn/linear_model/_sag.py:328: ConvergenceWarning: The max_iter was reached which means the coef_ did not converge\n",
      "  warnings.warn(\"The max_iter was reached which means \"\n",
      "/home/hugo/anaconda3/envs/projet5/lib/python3.8/site-packages/sklearn/linear_model/_sag.py:328: ConvergenceWarning: The max_iter was reached which means the coef_ did not converge\n",
      "  warnings.warn(\"The max_iter was reached which means \"\n",
      "/home/hugo/anaconda3/envs/projet5/lib/python3.8/site-packages/sklearn/linear_model/_sag.py:328: ConvergenceWarning: The max_iter was reached which means the coef_ did not converge\n",
      "  warnings.warn(\"The max_iter was reached which means \"\n",
      "/home/hugo/anaconda3/envs/projet5/lib/python3.8/site-packages/sklearn/linear_model/_sag.py:328: ConvergenceWarning: The max_iter was reached which means the coef_ did not converge\n",
      "  warnings.warn(\"The max_iter was reached which means \"\n",
      "/home/hugo/anaconda3/envs/projet5/lib/python3.8/site-packages/sklearn/linear_model/_sag.py:328: ConvergenceWarning: The max_iter was reached which means the coef_ did not converge\n",
      "  warnings.warn(\"The max_iter was reached which means \"\n"
     ]
    },
    {
     "name": "stderr",
     "output_type": "stream",
     "text": [
      "/home/hugo/anaconda3/envs/projet5/lib/python3.8/site-packages/sklearn/linear_model/_sag.py:328: ConvergenceWarning: The max_iter was reached which means the coef_ did not converge\n",
      "  warnings.warn(\"The max_iter was reached which means \"\n",
      "/home/hugo/anaconda3/envs/projet5/lib/python3.8/site-packages/sklearn/linear_model/_sag.py:328: ConvergenceWarning: The max_iter was reached which means the coef_ did not converge\n",
      "  warnings.warn(\"The max_iter was reached which means \"\n",
      "/home/hugo/anaconda3/envs/projet5/lib/python3.8/site-packages/sklearn/linear_model/_sag.py:328: ConvergenceWarning: The max_iter was reached which means the coef_ did not converge\n",
      "  warnings.warn(\"The max_iter was reached which means \"\n",
      "/home/hugo/anaconda3/envs/projet5/lib/python3.8/site-packages/sklearn/linear_model/_sag.py:328: ConvergenceWarning: The max_iter was reached which means the coef_ did not converge\n",
      "  warnings.warn(\"The max_iter was reached which means \"\n",
      "/home/hugo/anaconda3/envs/projet5/lib/python3.8/site-packages/sklearn/linear_model/_sag.py:328: ConvergenceWarning: The max_iter was reached which means the coef_ did not converge\n",
      "  warnings.warn(\"The max_iter was reached which means \"\n",
      "/home/hugo/anaconda3/envs/projet5/lib/python3.8/site-packages/sklearn/linear_model/_sag.py:328: ConvergenceWarning: The max_iter was reached which means the coef_ did not converge\n",
      "  warnings.warn(\"The max_iter was reached which means \"\n",
      "/home/hugo/anaconda3/envs/projet5/lib/python3.8/site-packages/sklearn/linear_model/_sag.py:328: ConvergenceWarning: The max_iter was reached which means the coef_ did not converge\n",
      "  warnings.warn(\"The max_iter was reached which means \"\n",
      "/home/hugo/anaconda3/envs/projet5/lib/python3.8/site-packages/sklearn/linear_model/_sag.py:328: ConvergenceWarning: The max_iter was reached which means the coef_ did not converge\n",
      "  warnings.warn(\"The max_iter was reached which means \"\n",
      "/home/hugo/anaconda3/envs/projet5/lib/python3.8/site-packages/sklearn/linear_model/_sag.py:328: ConvergenceWarning: The max_iter was reached which means the coef_ did not converge\n",
      "  warnings.warn(\"The max_iter was reached which means \"\n",
      "/home/hugo/anaconda3/envs/projet5/lib/python3.8/site-packages/sklearn/linear_model/_sag.py:328: ConvergenceWarning: The max_iter was reached which means the coef_ did not converge\n",
      "  warnings.warn(\"The max_iter was reached which means \"\n",
      "/home/hugo/anaconda3/envs/projet5/lib/python3.8/site-packages/sklearn/linear_model/_sag.py:328: ConvergenceWarning: The max_iter was reached which means the coef_ did not converge\n",
      "  warnings.warn(\"The max_iter was reached which means \"\n",
      "/home/hugo/anaconda3/envs/projet5/lib/python3.8/site-packages/sklearn/linear_model/_sag.py:328: ConvergenceWarning: The max_iter was reached which means the coef_ did not converge\n",
      "  warnings.warn(\"The max_iter was reached which means \"\n",
      "/home/hugo/anaconda3/envs/projet5/lib/python3.8/site-packages/sklearn/linear_model/_sag.py:328: ConvergenceWarning: The max_iter was reached which means the coef_ did not converge\n",
      "  warnings.warn(\"The max_iter was reached which means \"\n",
      "/home/hugo/anaconda3/envs/projet5/lib/python3.8/site-packages/sklearn/linear_model/_sag.py:328: ConvergenceWarning: The max_iter was reached which means the coef_ did not converge\n",
      "  warnings.warn(\"The max_iter was reached which means \"\n",
      "/home/hugo/anaconda3/envs/projet5/lib/python3.8/site-packages/sklearn/linear_model/_sag.py:328: ConvergenceWarning: The max_iter was reached which means the coef_ did not converge\n",
      "  warnings.warn(\"The max_iter was reached which means \"\n",
      "/home/hugo/anaconda3/envs/projet5/lib/python3.8/site-packages/sklearn/linear_model/_sag.py:328: ConvergenceWarning: The max_iter was reached which means the coef_ did not converge\n",
      "  warnings.warn(\"The max_iter was reached which means \"\n",
      "/home/hugo/anaconda3/envs/projet5/lib/python3.8/site-packages/sklearn/linear_model/_sag.py:328: ConvergenceWarning: The max_iter was reached which means the coef_ did not converge\n",
      "  warnings.warn(\"The max_iter was reached which means \"\n",
      "/home/hugo/anaconda3/envs/projet5/lib/python3.8/site-packages/sklearn/linear_model/_sag.py:328: ConvergenceWarning: The max_iter was reached which means the coef_ did not converge\n",
      "  warnings.warn(\"The max_iter was reached which means \"\n",
      "/home/hugo/anaconda3/envs/projet5/lib/python3.8/site-packages/sklearn/linear_model/_sag.py:328: ConvergenceWarning: The max_iter was reached which means the coef_ did not converge\n",
      "  warnings.warn(\"The max_iter was reached which means \"\n",
      "/home/hugo/anaconda3/envs/projet5/lib/python3.8/site-packages/sklearn/linear_model/_sag.py:328: ConvergenceWarning: The max_iter was reached which means the coef_ did not converge\n",
      "  warnings.warn(\"The max_iter was reached which means \"\n",
      "/home/hugo/anaconda3/envs/projet5/lib/python3.8/site-packages/sklearn/linear_model/_sag.py:328: ConvergenceWarning: The max_iter was reached which means the coef_ did not converge\n",
      "  warnings.warn(\"The max_iter was reached which means \"\n",
      "/home/hugo/anaconda3/envs/projet5/lib/python3.8/site-packages/sklearn/linear_model/_sag.py:328: ConvergenceWarning: The max_iter was reached which means the coef_ did not converge\n",
      "  warnings.warn(\"The max_iter was reached which means \"\n",
      "/home/hugo/anaconda3/envs/projet5/lib/python3.8/site-packages/sklearn/linear_model/_sag.py:328: ConvergenceWarning: The max_iter was reached which means the coef_ did not converge\n",
      "  warnings.warn(\"The max_iter was reached which means \"\n",
      "/home/hugo/anaconda3/envs/projet5/lib/python3.8/site-packages/sklearn/linear_model/_sag.py:328: ConvergenceWarning: The max_iter was reached which means the coef_ did not converge\n",
      "  warnings.warn(\"The max_iter was reached which means \"\n",
      "/home/hugo/anaconda3/envs/projet5/lib/python3.8/site-packages/sklearn/linear_model/_sag.py:328: ConvergenceWarning: The max_iter was reached which means the coef_ did not converge\n",
      "  warnings.warn(\"The max_iter was reached which means \"\n",
      "/home/hugo/anaconda3/envs/projet5/lib/python3.8/site-packages/sklearn/linear_model/_sag.py:328: ConvergenceWarning: The max_iter was reached which means the coef_ did not converge\n",
      "  warnings.warn(\"The max_iter was reached which means \"\n",
      "/home/hugo/anaconda3/envs/projet5/lib/python3.8/site-packages/sklearn/linear_model/_sag.py:328: ConvergenceWarning: The max_iter was reached which means the coef_ did not converge\n",
      "  warnings.warn(\"The max_iter was reached which means \"\n",
      "/home/hugo/anaconda3/envs/projet5/lib/python3.8/site-packages/sklearn/linear_model/_sag.py:328: ConvergenceWarning: The max_iter was reached which means the coef_ did not converge\n",
      "  warnings.warn(\"The max_iter was reached which means \"\n",
      "/home/hugo/anaconda3/envs/projet5/lib/python3.8/site-packages/sklearn/linear_model/_sag.py:328: ConvergenceWarning: The max_iter was reached which means the coef_ did not converge\n",
      "  warnings.warn(\"The max_iter was reached which means \"\n",
      "/home/hugo/anaconda3/envs/projet5/lib/python3.8/site-packages/sklearn/linear_model/_sag.py:328: ConvergenceWarning: The max_iter was reached which means the coef_ did not converge\n",
      "  warnings.warn(\"The max_iter was reached which means \"\n",
      "/home/hugo/anaconda3/envs/projet5/lib/python3.8/site-packages/sklearn/linear_model/_sag.py:328: ConvergenceWarning: The max_iter was reached which means the coef_ did not converge\n",
      "  warnings.warn(\"The max_iter was reached which means \"\n",
      "/home/hugo/anaconda3/envs/projet5/lib/python3.8/site-packages/sklearn/linear_model/_sag.py:328: ConvergenceWarning: The max_iter was reached which means the coef_ did not converge\n",
      "  warnings.warn(\"The max_iter was reached which means \"\n",
      "/home/hugo/anaconda3/envs/projet5/lib/python3.8/site-packages/sklearn/linear_model/_sag.py:328: ConvergenceWarning: The max_iter was reached which means the coef_ did not converge\n",
      "  warnings.warn(\"The max_iter was reached which means \"\n",
      "/home/hugo/anaconda3/envs/projet5/lib/python3.8/site-packages/sklearn/linear_model/_sag.py:328: ConvergenceWarning: The max_iter was reached which means the coef_ did not converge\n",
      "  warnings.warn(\"The max_iter was reached which means \"\n",
      "/home/hugo/anaconda3/envs/projet5/lib/python3.8/site-packages/sklearn/linear_model/_sag.py:328: ConvergenceWarning: The max_iter was reached which means the coef_ did not converge\n",
      "  warnings.warn(\"The max_iter was reached which means \"\n",
      "/home/hugo/anaconda3/envs/projet5/lib/python3.8/site-packages/sklearn/linear_model/_sag.py:328: ConvergenceWarning: The max_iter was reached which means the coef_ did not converge\n",
      "  warnings.warn(\"The max_iter was reached which means \"\n"
     ]
    },
    {
     "name": "stderr",
     "output_type": "stream",
     "text": [
      "/home/hugo/anaconda3/envs/projet5/lib/python3.8/site-packages/sklearn/linear_model/_sag.py:328: ConvergenceWarning: The max_iter was reached which means the coef_ did not converge\n",
      "  warnings.warn(\"The max_iter was reached which means \"\n",
      "/home/hugo/anaconda3/envs/projet5/lib/python3.8/site-packages/sklearn/linear_model/_sag.py:328: ConvergenceWarning: The max_iter was reached which means the coef_ did not converge\n",
      "  warnings.warn(\"The max_iter was reached which means \"\n",
      "/home/hugo/anaconda3/envs/projet5/lib/python3.8/site-packages/sklearn/linear_model/_sag.py:328: ConvergenceWarning: The max_iter was reached which means the coef_ did not converge\n",
      "  warnings.warn(\"The max_iter was reached which means \"\n",
      "/home/hugo/anaconda3/envs/projet5/lib/python3.8/site-packages/sklearn/linear_model/_sag.py:328: ConvergenceWarning: The max_iter was reached which means the coef_ did not converge\n",
      "  warnings.warn(\"The max_iter was reached which means \"\n",
      "/home/hugo/anaconda3/envs/projet5/lib/python3.8/site-packages/sklearn/linear_model/_sag.py:328: ConvergenceWarning: The max_iter was reached which means the coef_ did not converge\n",
      "  warnings.warn(\"The max_iter was reached which means \"\n",
      "/home/hugo/anaconda3/envs/projet5/lib/python3.8/site-packages/sklearn/linear_model/_sag.py:328: ConvergenceWarning: The max_iter was reached which means the coef_ did not converge\n",
      "  warnings.warn(\"The max_iter was reached which means \"\n",
      "/home/hugo/anaconda3/envs/projet5/lib/python3.8/site-packages/sklearn/linear_model/_sag.py:328: ConvergenceWarning: The max_iter was reached which means the coef_ did not converge\n",
      "  warnings.warn(\"The max_iter was reached which means \"\n",
      "/home/hugo/anaconda3/envs/projet5/lib/python3.8/site-packages/sklearn/linear_model/_sag.py:328: ConvergenceWarning: The max_iter was reached which means the coef_ did not converge\n",
      "  warnings.warn(\"The max_iter was reached which means \"\n",
      "/home/hugo/anaconda3/envs/projet5/lib/python3.8/site-packages/sklearn/linear_model/_sag.py:328: ConvergenceWarning: The max_iter was reached which means the coef_ did not converge\n",
      "  warnings.warn(\"The max_iter was reached which means \"\n",
      "/home/hugo/anaconda3/envs/projet5/lib/python3.8/site-packages/sklearn/linear_model/_sag.py:328: ConvergenceWarning: The max_iter was reached which means the coef_ did not converge\n",
      "  warnings.warn(\"The max_iter was reached which means \"\n",
      "/home/hugo/anaconda3/envs/projet5/lib/python3.8/site-packages/sklearn/linear_model/_sag.py:328: ConvergenceWarning: The max_iter was reached which means the coef_ did not converge\n",
      "  warnings.warn(\"The max_iter was reached which means \"\n",
      "/home/hugo/anaconda3/envs/projet5/lib/python3.8/site-packages/sklearn/linear_model/_sag.py:328: ConvergenceWarning: The max_iter was reached which means the coef_ did not converge\n",
      "  warnings.warn(\"The max_iter was reached which means \"\n",
      "/home/hugo/anaconda3/envs/projet5/lib/python3.8/site-packages/sklearn/linear_model/_sag.py:328: ConvergenceWarning: The max_iter was reached which means the coef_ did not converge\n",
      "  warnings.warn(\"The max_iter was reached which means \"\n",
      "/home/hugo/anaconda3/envs/projet5/lib/python3.8/site-packages/sklearn/linear_model/_sag.py:328: ConvergenceWarning: The max_iter was reached which means the coef_ did not converge\n",
      "  warnings.warn(\"The max_iter was reached which means \"\n",
      "/home/hugo/anaconda3/envs/projet5/lib/python3.8/site-packages/sklearn/linear_model/_sag.py:328: ConvergenceWarning: The max_iter was reached which means the coef_ did not converge\n",
      "  warnings.warn(\"The max_iter was reached which means \"\n",
      "/home/hugo/anaconda3/envs/projet5/lib/python3.8/site-packages/sklearn/linear_model/_sag.py:328: ConvergenceWarning: The max_iter was reached which means the coef_ did not converge\n",
      "  warnings.warn(\"The max_iter was reached which means \"\n",
      "/home/hugo/anaconda3/envs/projet5/lib/python3.8/site-packages/sklearn/linear_model/_sag.py:328: ConvergenceWarning: The max_iter was reached which means the coef_ did not converge\n",
      "  warnings.warn(\"The max_iter was reached which means \"\n",
      "/home/hugo/anaconda3/envs/projet5/lib/python3.8/site-packages/sklearn/linear_model/_sag.py:328: ConvergenceWarning: The max_iter was reached which means the coef_ did not converge\n",
      "  warnings.warn(\"The max_iter was reached which means \"\n",
      "/home/hugo/anaconda3/envs/projet5/lib/python3.8/site-packages/sklearn/linear_model/_sag.py:328: ConvergenceWarning: The max_iter was reached which means the coef_ did not converge\n",
      "  warnings.warn(\"The max_iter was reached which means \"\n",
      "/home/hugo/anaconda3/envs/projet5/lib/python3.8/site-packages/sklearn/linear_model/_sag.py:328: ConvergenceWarning: The max_iter was reached which means the coef_ did not converge\n",
      "  warnings.warn(\"The max_iter was reached which means \"\n",
      "/home/hugo/anaconda3/envs/projet5/lib/python3.8/site-packages/sklearn/linear_model/_sag.py:328: ConvergenceWarning: The max_iter was reached which means the coef_ did not converge\n",
      "  warnings.warn(\"The max_iter was reached which means \"\n",
      "/home/hugo/anaconda3/envs/projet5/lib/python3.8/site-packages/sklearn/linear_model/_sag.py:328: ConvergenceWarning: The max_iter was reached which means the coef_ did not converge\n",
      "  warnings.warn(\"The max_iter was reached which means \"\n",
      "/home/hugo/anaconda3/envs/projet5/lib/python3.8/site-packages/sklearn/linear_model/_sag.py:328: ConvergenceWarning: The max_iter was reached which means the coef_ did not converge\n",
      "  warnings.warn(\"The max_iter was reached which means \"\n",
      "/home/hugo/anaconda3/envs/projet5/lib/python3.8/site-packages/sklearn/linear_model/_sag.py:328: ConvergenceWarning: The max_iter was reached which means the coef_ did not converge\n",
      "  warnings.warn(\"The max_iter was reached which means \"\n",
      "/home/hugo/anaconda3/envs/projet5/lib/python3.8/site-packages/sklearn/linear_model/_sag.py:328: ConvergenceWarning: The max_iter was reached which means the coef_ did not converge\n",
      "  warnings.warn(\"The max_iter was reached which means \"\n",
      "/home/hugo/anaconda3/envs/projet5/lib/python3.8/site-packages/sklearn/linear_model/_sag.py:328: ConvergenceWarning: The max_iter was reached which means the coef_ did not converge\n",
      "  warnings.warn(\"The max_iter was reached which means \"\n",
      "/home/hugo/anaconda3/envs/projet5/lib/python3.8/site-packages/sklearn/linear_model/_sag.py:328: ConvergenceWarning: The max_iter was reached which means the coef_ did not converge\n",
      "  warnings.warn(\"The max_iter was reached which means \"\n",
      "/home/hugo/anaconda3/envs/projet5/lib/python3.8/site-packages/sklearn/linear_model/_sag.py:328: ConvergenceWarning: The max_iter was reached which means the coef_ did not converge\n",
      "  warnings.warn(\"The max_iter was reached which means \"\n"
     ]
    }
   ],
   "source": [
    "grid = GridSearchCV(lr_pipeline, param_grid, scoring='jaccard_macro', cv=5, return_train_score=True, n_jobs=n_jobs)\n",
    "grid.fit(X_train, y_train)\n",
    "grid_list.append(grid)"
   ]
  },
  {
   "cell_type": "markdown",
   "metadata": {},
   "source": [
    "#### Gradient Boosting"
   ]
  },
  {
   "cell_type": "markdown",
   "metadata": {},
   "source": [
    "https://scikit-learn.org/stable/modules/generated/sklearn.ensemble.GradientBoostingClassifier.html"
   ]
  },
  {
   "cell_type": "code",
   "execution_count": 47,
   "metadata": {},
   "outputs": [],
   "source": [
    "preprocessor_gb = Pipeline(steps=[('transformer', CountVectorizer(lowercase=False, max_df=0.05, min_df=0.01))])"
   ]
  },
  {
   "cell_type": "code",
   "execution_count": 48,
   "metadata": {},
   "outputs": [],
   "source": [
    "base_gb = GradientBoostingClassifier(random_state=0)\n",
    "ovr_gb = OneVsRestClassifier(base_gb, n_jobs=n_jobs)"
   ]
  },
  {
   "cell_type": "code",
   "execution_count": 49,
   "metadata": {},
   "outputs": [],
   "source": [
    "gb_pipeline = Pipeline(steps=[('preprocessor', preprocessor_gb),('model', ovr_gb)])"
   ]
  },
  {
   "cell_type": "markdown",
   "metadata": {},
   "source": [
    "Il existe de nombreux hyper-paramètres pour le model de gradient boosting."
   ]
  },
  {
   "cell_type": "code",
   "execution_count": 50,
   "metadata": {},
   "outputs": [
    {
     "data": {
      "text/plain": [
       "{'estimator__ccp_alpha': 0.0,\n",
       " 'estimator__criterion': 'friedman_mse',\n",
       " 'estimator__init': None,\n",
       " 'estimator__learning_rate': 0.1,\n",
       " 'estimator__loss': 'deviance',\n",
       " 'estimator__max_depth': 3,\n",
       " 'estimator__max_features': None,\n",
       " 'estimator__max_leaf_nodes': None,\n",
       " 'estimator__min_impurity_decrease': 0.0,\n",
       " 'estimator__min_impurity_split': None,\n",
       " 'estimator__min_samples_leaf': 1,\n",
       " 'estimator__min_samples_split': 2,\n",
       " 'estimator__min_weight_fraction_leaf': 0.0,\n",
       " 'estimator__n_estimators': 100,\n",
       " 'estimator__n_iter_no_change': None,\n",
       " 'estimator__random_state': 0,\n",
       " 'estimator__subsample': 1.0,\n",
       " 'estimator__tol': 0.0001,\n",
       " 'estimator__validation_fraction': 0.1,\n",
       " 'estimator__verbose': 0,\n",
       " 'estimator__warm_start': False,\n",
       " 'estimator': GradientBoostingClassifier(random_state=0),\n",
       " 'n_jobs': -1}"
      ]
     },
     "execution_count": 50,
     "metadata": {},
     "output_type": "execute_result"
    }
   ],
   "source": [
    "gb_pipeline['model'].get_params()"
   ]
  },
  {
   "cell_type": "markdown",
   "metadata": {},
   "source": [
    "On sélectionne les hyper-paramètres suivant :"
   ]
  },
  {
   "cell_type": "code",
   "execution_count": 51,
   "metadata": {},
   "outputs": [],
   "source": [
    "param_grid = {\n",
    "    'preprocessor__transformer__min_df':[0.01],\n",
    "    'preprocessor__transformer__max_df':[0.05],\n",
    "    'model__estimator__max_depth': [None, 5, 10],    \n",
    "    'model__estimator__max_features': ['auto', 'sqrt'],\n",
    "    'model__estimator__min_samples_leaf': [1, 5, 10],\n",
    "    'model__estimator__min_samples_split': [2, 10, 20],\n",
    "    'model__estimator__n_estimators': [50, 100, 150]\n",
    "}"
   ]
  },
  {
   "cell_type": "markdown",
   "metadata": {},
   "source": [
    "On effectue GridSearchCV et on stocke les résultats dans une liste."
   ]
  },
  {
   "cell_type": "code",
   "execution_count": 52,
   "metadata": {
    "scrolled": true
   },
   "outputs": [
    {
     "name": "stderr",
     "output_type": "stream",
     "text": [
      "/home/hugo/anaconda3/envs/projet5/lib/python3.8/site-packages/joblib/externals/loky/process_executor.py:688: UserWarning: A worker stopped while some jobs were given to the executor. This can be caused by a too short worker timeout or by a memory leak.\n",
      "  warnings.warn(\n",
      "/home/hugo/anaconda3/envs/projet5/lib/python3.8/site-packages/sklearn/model_selection/_search.py:918: UserWarning: One or more of the test scores are non-finite: [0.10569642 0.10529271 0.10341937 0.10491721 0.10387212 0.10240675\n",
      " 0.10815935 0.10404419 0.10271582 0.12118709 0.1155869  0.11324889\n",
      " 0.12118709 0.1155869  0.11324889 0.12175405 0.11924992 0.11622046\n",
      " 0.11623918 0.12006937 0.11623669 0.11623918 0.12006937 0.11623669\n",
      " 0.11623918 0.12006937 0.11623669 0.09909567 0.10364927 0.1045745\n",
      " 0.10164252 0.10363498 0.10250273 0.10569397 0.10849964 0.11005037\n",
      " 0.11200568 0.11740438 0.11688662 0.11200568 0.11740438 0.11688662\n",
      " 0.11097551 0.11531616 0.1171094  0.10801704 0.11937746 0.12296569\n",
      " 0.10801704 0.11937746 0.12296569 0.10801704 0.11937746 0.12296569\n",
      " 0.11219594 0.11404007 0.11351308 0.11375764 0.11544402 0.11748032\n",
      " 0.11702758 0.11701725 0.11828509 0.1219508  0.1267738  0.12701405\n",
      " 0.1219508  0.1267738  0.12701405 0.12355327 0.12615019 0.12655926\n",
      " 0.11494273 0.1236918  0.12539107 0.11494273 0.1236918  0.12539107\n",
      " 0.11494273 0.1236918  0.12539107 0.08596572 0.10111371 0.10724344\n",
      " 0.08639791 0.10309608 0.11099193 0.08665081        nan 0.11109385\n",
      " 0.09278835 0.11097312 0.11880709 0.09278835 0.11097312 0.11880709\n",
      " 0.08779977 0.11033643 0.11779353 0.08984233 0.11363545 0.11936139\n",
      " 0.08984233 0.11363545 0.11936139 0.08984233 0.11363545 0.11936139\n",
      " 0.10699671 0.10934936 0.11057986 0.11425263 0.11482771 0.11640656\n",
      " 0.11291502 0.11364199 0.11415538 0.12248293 0.12414037 0.12373796\n",
      " 0.12248293 0.12414037 0.12373796 0.12465583 0.12662091 0.12443312\n",
      " 0.11633008 0.12480615 0.12537268 0.11633008 0.12480615 0.12398758\n",
      " 0.11633008 0.12480615 0.12398758 0.09512884 0.10208136 0.10358094\n",
      " 0.10514866 0.11468876 0.11647868 0.10453771 0.1133051  0.11546624\n",
      " 0.10727745 0.11900938 0.12285087 0.10727745 0.11900938 0.12285087\n",
      " 0.10582214 0.12199046 0.12242441 0.10465925 0.11990791 0.12596658\n",
      " 0.10465925 0.11990791 0.12596658 0.10465925 0.11990791 0.12596658]\n",
      "  warnings.warn(\n",
      "/home/hugo/anaconda3/envs/projet5/lib/python3.8/site-packages/sklearn/model_selection/_search.py:918: UserWarning: One or more of the train scores are non-finite: [0.84720413 0.84720413 0.84242659 0.84176846 0.8425599  0.84256485\n",
      " 0.8332513  0.8403468  0.84162607 0.79669357 0.8317652  0.83689479\n",
      " 0.79669357 0.8317652  0.83689479 0.79106543 0.83076755 0.83650257\n",
      " 0.60590764 0.79585693 0.81987737 0.60590764 0.79585693 0.81987737\n",
      " 0.60590764 0.79585693 0.81987737 0.84720413 0.84720413 0.84720413\n",
      " 0.84460336 0.84445726 0.84452079 0.8444138  0.84466983 0.8446782\n",
      " 0.78434769 0.84268983 0.84411738 0.78434769 0.84268983 0.84411738\n",
      " 0.78527379 0.84270924 0.84401786 0.65369691 0.83450685 0.84183445\n",
      " 0.65369691 0.83450685 0.84183445 0.65369691 0.83450685 0.84183445\n",
      " 0.7076362  0.76274684 0.78448212 0.60591947 0.69551656 0.74323843\n",
      " 0.56009177 0.66225824 0.71879188 0.38658799 0.50794599 0.59278189\n",
      " 0.38658799 0.50794599 0.59278189 0.37416294 0.4962859  0.58118983\n",
      " 0.29552445 0.40053663 0.47303665 0.29552445 0.40053663 0.47303665\n",
      " 0.29552445 0.40053663 0.47303665 0.54676615 0.65638302 0.71224002\n",
      " 0.44194662 0.57156487 0.64697264 0.41858752        nan 0.62236106\n",
      " 0.26871861 0.38535961 0.46131785 0.26871861 0.38535961 0.46131785\n",
      " 0.26388068 0.38304339 0.45391445 0.19980339 0.30607963 0.37087785\n",
      " 0.19980339 0.30607963 0.37087785 0.19980339 0.30607963 0.37087785\n",
      " 0.80602787 0.82455212 0.83476239 0.74838016 0.79965148 0.81772507\n",
      " 0.71843142 0.78658083 0.80972214 0.57915176 0.71226328 0.76614859\n",
      " 0.57915176 0.71226328 0.76614859 0.56341642 0.7027663  0.76094841\n",
      " 0.41054489 0.57892515 0.67207957 0.41054489 0.57892515 0.67581275\n",
      " 0.41054489 0.57892515 0.67581275 0.76624502 0.80194378 0.81765094\n",
      " 0.6725299  0.76921715 0.79769181 0.6491407  0.75246623 0.78806694\n",
      " 0.41963636 0.57762115 0.66865592 0.41963636 0.57762115 0.66865592\n",
      " 0.41786979 0.57390775 0.66559047 0.30132867 0.45325444 0.546572\n",
      " 0.30132867 0.45325444 0.546572   0.30132867 0.45325444 0.546572  ]\n",
      "  warnings.warn(\n"
     ]
    }
   ],
   "source": [
    "grid = GridSearchCV(gb_pipeline, param_grid, scoring='jaccard_macro', cv=5, return_train_score=True, n_jobs=n_jobs)\n",
    "grid.fit(X_train, y_train)\n",
    "grid_list.append(grid)"
   ]
  },
  {
   "cell_type": "markdown",
   "metadata": {},
   "source": [
    "On écrit une fonction qui va retourner le meilleur score de cross-validation pour chaque modèle. Cette fonction retourne les résultats sous forme de dataframe."
   ]
  },
  {
   "cell_type": "code",
   "execution_count": 53,
   "metadata": {},
   "outputs": [],
   "source": [
    "def best_grid(grid_list):\n",
    "    df_score = pd.DataFrame(columns=['model','jaccard','score'])\n",
    "    df_time = pd.DataFrame(columns=['model','temps en s','time'])\n",
    "    \n",
    "    for i, grid in zip(range(0,len(grid_list)*2,2), grid_list):\n",
    "        best_model = grid.best_estimator_\n",
    "        model_name = str(grid.best_estimator_['model']).split('(')[1].split('=')[1]\n",
    "        print(model_name)\n",
    "        best_model_index = grid.best_index_\n",
    "        train_score = grid.cv_results_['mean_train_score'][best_model_index]\n",
    "        test_score = grid.cv_results_['mean_test_score'][best_model_index]\n",
    "        fit_time = grid.cv_results_['mean_fit_time'][best_model_index]\n",
    "        score_time = grid.cv_results_['mean_score_time'][best_model_index]\n",
    "        # On stocke les résultats\n",
    "        df_score.loc[i] = [model_name,train_score,'train']\n",
    "        df_score.loc[i+1] = [model_name,test_score,'validation']\n",
    "        df_time.loc[i] = [model_name,fit_time,'fit']\n",
    "        df_time.loc[i+1] = [model_name,score_time,'score']\n",
    "        print(\"Meilleur score validation : %.3f\" % df_score.loc[i+1,'jaccard'])\n",
    "\n",
    "    return df_score, df_time"
   ]
  },
  {
   "cell_type": "code",
   "execution_count": 54,
   "metadata": {
    "scrolled": true
   },
   "outputs": [
    {
     "name": "stdout",
     "output_type": "stream",
     "text": [
      "LogisticRegression\n",
      "Meilleur score validation : 0.116\n",
      "GradientBoostingClassifier\n",
      "Meilleur score validation : 0.127\n"
     ]
    }
   ],
   "source": [
    "df_score, df_time = best_grid(grid_list)"
   ]
  },
  {
   "cell_type": "markdown",
   "metadata": {},
   "source": [
    "On peut maintenant visualiser les meilleurs résultats moyens obtenus pour chaque modèle."
   ]
  },
  {
   "cell_type": "code",
   "execution_count": 55,
   "metadata": {},
   "outputs": [
    {
     "data": {
      "text/plain": [
       "<AxesSubplot:xlabel='jaccard', ylabel='model'>"
      ]
     },
     "execution_count": 55,
     "metadata": {},
     "output_type": "execute_result"
    },
    {
     "data": {
      "image/png": "[encoded data removed]",
      "text/plain": [
       "<Figure size 432x288 with 1 Axes>"
      ]
     },
     "metadata": {
      "needs_background": "light"
     },
     "output_type": "display_data"
    }
   ],
   "source": [
    "sns.barplot(x='jaccard', y='model', hue='score', data=df_score)"
   ]
  },
  {
   "cell_type": "code",
   "execution_count": 56,
   "metadata": {},
   "outputs": [
    {
     "data": {
      "text/plain": [
       "[None]"
      ]
     },
     "execution_count": 56,
     "metadata": {},
     "output_type": "execute_result"
    },
    {
     "data": {
      "image/png": "[encoded data removed]",
      "text/plain": [
       "<Figure size 432x288 with 1 Axes>"
      ]
     },
     "metadata": {
      "needs_background": "light"
     },
     "output_type": "display_data"
    }
   ],
   "source": [
    "g = sns.barplot(x='temps en s', y='model', hue='time', data=df_time)\n",
    "g.set(xscale=\"log\")"
   ]
  },
  {
   "cell_type": "code",
   "execution_count": 57,
   "metadata": {},
   "outputs": [
    {
     "data": {
      "text/plain": [
       "{'model__estimator__max_depth': 5,\n",
       " 'model__estimator__max_features': 'auto',\n",
       " 'model__estimator__min_samples_leaf': 5,\n",
       " 'model__estimator__min_samples_split': 2,\n",
       " 'model__estimator__n_estimators': 150,\n",
       " 'preprocessor__transformer__max_df': 0.05,\n",
       " 'preprocessor__transformer__min_df': 0.01}"
      ]
     },
     "execution_count": 57,
     "metadata": {},
     "output_type": "execute_result"
    }
   ],
   "source": [
    "grid_list[1].best_params_"
   ]
  },
  {
   "cell_type": "code",
   "execution_count": 58,
   "metadata": {},
   "outputs": [
    {
     "data": {
      "text/plain": [
       "0.1270140461570569"
      ]
     },
     "execution_count": 58,
     "metadata": {},
     "output_type": "execute_result"
    }
   ],
   "source": [
    "grid_list[1].best_score_"
   ]
  },
  {
   "cell_type": "markdown",
   "metadata": {},
   "source": [
    "### Optimisation finale"
   ]
  },
  {
   "cell_type": "code",
   "execution_count": 77,
   "metadata": {},
   "outputs": [],
   "source": [
    "preprocessor_gb = Pipeline(steps=[('transformer', CountVectorizer(lowercase=False))])"
   ]
  },
  {
   "cell_type": "code",
   "execution_count": 78,
   "metadata": {},
   "outputs": [],
   "source": [
    "base_gb = GradientBoostingClassifier(random_state=0)\n",
    "ovr_gb = OneVsRestClassifier(base_gb, n_jobs=n_jobs)"
   ]
  },
  {
   "cell_type": "code",
   "execution_count": 79,
   "metadata": {},
   "outputs": [],
   "source": [
    "gb_pipeline = Pipeline(steps=[('preprocessor', preprocessor_gb),('model', ovr_gb)])"
   ]
  },
  {
   "cell_type": "code",
   "execution_count": 80,
   "metadata": {},
   "outputs": [],
   "source": [
    "param_grid = {\n",
    "    'preprocessor__transformer__min_df':[0,0.01,0.02],\n",
    "    'preprocessor__transformer__max_df':[0.03,0.05,0.07,0.09,0.11],\n",
    "    'model__estimator__max_depth': [5],    \n",
    "    'model__estimator__max_features': ['auto'],\n",
    "    'model__estimator__min_samples_leaf': [5],\n",
    "    'model__estimator__min_samples_split': [2],\n",
    "    'model__estimator__n_estimators': [150]\n",
    "}"
   ]
  },
  {
   "cell_type": "code",
   "execution_count": 81,
   "metadata": {
    "scrolled": true
   },
   "outputs": [
    {
     "data": {
      "text/plain": [
       "GridSearchCV(cv=5,\n",
       "             estimator=Pipeline(steps=[('preprocessor',\n",
       "                                        Pipeline(steps=[('transformer',\n",
       "                                                         CountVectorizer(lowercase=False))])),\n",
       "                                       ('model',\n",
       "                                        OneVsRestClassifier(estimator=GradientBoostingClassifier(random_state=0),\n",
       "                                                            n_jobs=-1))]),\n",
       "             n_jobs=-1,\n",
       "             param_grid={'model__estimator__max_depth': [5],\n",
       "                         'model__estimator__max_features': ['auto'],\n",
       "                         'model__estimator__min_samples_leaf': [5],\n",
       "                         'model__estimator__min_samples_split': [2],\n",
       "                         'model__estimator__n_estimators': [150],\n",
       "                         'preprocessor__transformer__max_df': [0.03, 0.05, 0.07,\n",
       "                                                               0.09, 0.11],\n",
       "                         'preprocessor__transformer__min_df': [0, 0.01, 0.02]},\n",
       "             return_train_score=True, scoring='jaccard_macro')"
      ]
     },
     "execution_count": 81,
     "metadata": {},
     "output_type": "execute_result"
    }
   ],
   "source": [
    "grid = GridSearchCV(gb_pipeline, param_grid, scoring='jaccard_macro', cv=5, return_train_score=True, n_jobs=n_jobs)\n",
    "grid.fit(X_train, y_train)"
   ]
  },
  {
   "cell_type": "code",
   "execution_count": 82,
   "metadata": {},
   "outputs": [
    {
     "data": {
      "text/plain": [
       "{'model__estimator__max_depth': 5,\n",
       " 'model__estimator__max_features': 'auto',\n",
       " 'model__estimator__min_samples_leaf': 5,\n",
       " 'model__estimator__min_samples_split': 2,\n",
       " 'model__estimator__n_estimators': 150,\n",
       " 'preprocessor__transformer__max_df': 0.11,\n",
       " 'preprocessor__transformer__min_df': 0}"
      ]
     },
     "execution_count": 82,
     "metadata": {},
     "output_type": "execute_result"
    }
   ],
   "source": [
    "grid.best_params_"
   ]
  },
  {
   "cell_type": "code",
   "execution_count": 83,
   "metadata": {},
   "outputs": [
    {
     "data": {
      "text/plain": [
       "0.2553593219129562"
      ]
     },
     "execution_count": 83,
     "metadata": {},
     "output_type": "execute_result"
    }
   ],
   "source": [
    "grid.best_score_"
   ]
  },
  {
   "cell_type": "markdown",
   "metadata": {},
   "source": [
    "### Apprentissage semi suppervisé"
   ]
  },
  {
   "cell_type": "markdown",
   "metadata": {},
   "source": [
    "lda score utiliser countvectorizer"
   ]
  },
  {
   "cell_type": "code",
   "execution_count": 84,
   "metadata": {},
   "outputs": [],
   "source": [
    "preprocessor_sm = Pipeline(steps=[('transformer', CountVectorizer(lowercase=False)), ('lda', LatentDirichletAllocation())])"
   ]
  },
  {
   "cell_type": "code",
   "execution_count": 85,
   "metadata": {},
   "outputs": [],
   "source": [
    "base_gb = GradientBoostingClassifier(random_state=0)\n",
    "ovr_gb = OneVsRestClassifier(base_gb, n_jobs=n_jobs)"
   ]
  },
  {
   "cell_type": "code",
   "execution_count": 86,
   "metadata": {},
   "outputs": [],
   "source": [
    "gb_pipeline = Pipeline(steps=[('preprocessor', preprocessor_sm),('model', ovr_gb)])"
   ]
  },
  {
   "cell_type": "code",
   "execution_count": 87,
   "metadata": {},
   "outputs": [],
   "source": [
    "param_grid = {\n",
    "    'preprocessor__transformer__min_df':[0,0.01,0.02],\n",
    "    'preprocessor__transformer__max_df':[0.03,0.05,0.07,0.09,0.11],\n",
    "    'model__estimator__max_depth': [5],    \n",
    "    'model__estimator__max_features': ['auto'],\n",
    "    'model__estimator__min_samples_leaf': [5],\n",
    "    'model__estimator__min_samples_split': [2],\n",
    "    'model__estimator__n_estimators': [150],\n",
    "     'preprocessor__lda__n_components':[15,75,375]\n",
    "}"
   ]
  },
  {
   "cell_type": "code",
   "execution_count": 88,
   "metadata": {},
   "outputs": [
    {
     "data": {
      "text/plain": [
       "GridSearchCV(cv=5,\n",
       "             estimator=Pipeline(steps=[('preprocessor',\n",
       "                                        Pipeline(steps=[('transformer',\n",
       "                                                         CountVectorizer(lowercase=False)),\n",
       "                                                        ('lda',\n",
       "                                                         LatentDirichletAllocation())])),\n",
       "                                       ('model',\n",
       "                                        OneVsRestClassifier(estimator=GradientBoostingClassifier(random_state=0),\n",
       "                                                            n_jobs=-1))]),\n",
       "             n_jobs=-1,\n",
       "             param_grid={'model__estimator__max_depth': [5],\n",
       "                         'model__estimator__max_features': ['auto'],\n",
       "                         'model__estimator__min_samples_leaf': [5],\n",
       "                         'model__estimator__min_samples_split': [2],\n",
       "                         'model__estimator__n_estimators': [150],\n",
       "                         'preprocessor__lda__n_components': [15, 75, 375],\n",
       "                         'preprocessor__transformer__max_df': [0.03, 0.05, 0.07,\n",
       "                                                               0.09, 0.11],\n",
       "                         'preprocessor__transformer__min_df': [0, 0.01, 0.02]},\n",
       "             return_train_score=True, scoring='jaccard_macro')"
      ]
     },
     "execution_count": 88,
     "metadata": {},
     "output_type": "execute_result"
    }
   ],
   "source": [
    "grid_semi_supervised = GridSearchCV(gb_pipeline, param_grid, scoring='jaccard_macro', cv=5, return_train_score=True, n_jobs=n_jobs)\n",
    "grid_semi_supervised.fit(X_train, y_train)"
   ]
  },
  {
   "cell_type": "code",
   "execution_count": 89,
   "metadata": {},
   "outputs": [
    {
     "data": {
      "text/plain": [
       "{'model__estimator__max_depth': 5,\n",
       " 'model__estimator__max_features': 'auto',\n",
       " 'model__estimator__min_samples_leaf': 5,\n",
       " 'model__estimator__min_samples_split': 2,\n",
       " 'model__estimator__n_estimators': 150,\n",
       " 'preprocessor__lda__n_components': 375,\n",
       " 'preprocessor__transformer__max_df': 0.09,\n",
       " 'preprocessor__transformer__min_df': 0}"
      ]
     },
     "execution_count": 89,
     "metadata": {},
     "output_type": "execute_result"
    }
   ],
   "source": [
    "grid_semi_supervised.best_params_"
   ]
  },
  {
   "cell_type": "code",
   "execution_count": 90,
   "metadata": {},
   "outputs": [
    {
     "data": {
      "text/plain": [
       "0.14270057848016043"
      ]
     },
     "execution_count": 90,
     "metadata": {},
     "output_type": "execute_result"
    }
   ],
   "source": [
    "grid_semi_supervised.best_score_"
   ]
  },
  {
   "cell_type": "markdown",
   "metadata": {},
   "source": [
    "On ne peut pas utiliser RF ou GB ou RL seul pour faire de la classification multi label. Il faut passer par une méthode one versus rest. Ou bien par le classfier chain. One versus rest principe prend les données d'une classe par modèle. classifier chain se sert des sorties d'un modèle pour faire les features du suivant."
   ]
  },
  {
   "cell_type": "code",
   "execution_count": null,
   "metadata": {},
   "outputs": [],
   "source": []
  },
  {
   "cell_type": "markdown",
   "metadata": {},
   "source": [
    "utiliser meilleur modèle pour API (semi supervisé si c'est le meilleur). API interface avec 2 saisies Titre et description. Sauvegarder modèle avec pickle. Charge le modèle puis predict."
   ]
  },
  {
   "cell_type": "code",
   "execution_count": null,
   "metadata": {},
   "outputs": [],
   "source": []
  }
 ],
 "metadata": {
  "kernelspec": {
   "display_name": "Python 3",
   "language": "python",
   "name": "python3"
  },
  "language_info": {
   "codemirror_mode": {
    "name": "ipython",
    "version": 3
   },
   "file_extension": ".py",
   "mimetype": "text/x-python",
   "name": "python",
   "nbconvert_exporter": "python",
   "pygments_lexer": "ipython3",
   "version": "3.8.6"
  }
 },
 "nbformat": 4,
 "nbformat_minor": 4
}
