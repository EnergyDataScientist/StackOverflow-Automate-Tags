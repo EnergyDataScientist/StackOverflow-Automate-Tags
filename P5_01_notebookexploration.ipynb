{
 "cells": [
  {
   "cell_type": "markdown",
   "metadata": {},
   "source": [
    "# Projet 5 : Catégorisez automatiquement des questions"
   ]
  },
  {
   "cell_type": "markdown",
   "metadata": {},
   "source": [
    "L'objectif de ce projet est d'appliquer des tags à des questions issues du site Stack Overflow."
   ]
  },
  {
   "cell_type": "markdown",
   "metadata": {},
   "source": [
    "## Notebook 1 : Deep Learning\n",
    "* Extraction des images\n",
    "* Preprocess des images"
   ]
  },
  {
   "cell_type": "markdown",
   "metadata": {},
   "source": [
    "## Ressources intéressantes"
   ]
  },
  {
   "cell_type": "markdown",
   "metadata": {},
   "source": [
    "MODELS : https://scikit-learn.org/stable/modules/classes.html#module-sklearn.multioutput\n",
    "METRICS : https://scikit-learn.org/stable/modules/generated/sklearn.metrics.zero_one_loss.html#sklearn.metrics.zero_one_loss\n",
    "\n",
    "LDA evaluation on sklearn and explanations https://github.com/derekgreene/topic-model-tutorial\n",
    "LDA : https://towardsdatascience.com/end-to-end-topic-modeling-in-python-latent-dirichlet-allocation-lda-35ce4ed6b3e0\n",
    "LDA Evaluatio : https://towardsdatascience.com/evaluate-topic-model-in-python-latent-dirichlet-allocation-lda-7d57484bb5d0\n",
    "sklearn lda and nmf : https://medium.com/mlreview/topic-modeling-with-scikit-learn-e80d33668730\n",
    "topic model with gensim : https://www.machinelearningplus.com/nlp/topic-modeling-gensim-python/\n",
    "Try LSA (first you need to do TF-IDF) : https://mccormickml.com/2016/03/25/lsa-for-text-classification-tutorial/\n",
    "complet lda with gensim choosing best k for Nbr topics : https://www.machinelearningplus.com/nlp/topic-modeling-gensim-python/#17howtofindtheoptimalnumberoftopicsforlda\n",
    "automatic choice of K using HDP : https://datascience.stackexchange.com/questions/128/latent-dirichlet-allocation-vs-hierarchical-dirichlet-process\n",
    "\n",
    "lda vs lsa vs plsa vs lda2vec : https://medium.com/nanonets/topic-modeling-with-lsa-psla-lda-and-lda2vec-555ff65b0b05\n",
    "LDA evaluation : https://towardsdatascience.com/evaluate-topic-model-in-python-latent-dirichlet-allocation-lda-7d57484bb5d0\n",
    "\n",
    "count vectorizer : \n",
    "https://scikit-learn.org/stable/modules/generated/sklearn.feature_extraction.text.CountVectorizer.html\n",
    "\n",
    "https://stackoverflow.com/questions/27697766/understanding-min-df-and-max-df-in-scikit-countvectorizer"
   ]
  },
  {
   "cell_type": "markdown",
   "metadata": {},
   "source": [
    "### Stratification\n",
    "\n",
    "http://videolectures.net/ecmlpkdd2011_tsoumakas_stratification/?q=stratification%20multi%20label"
   ]
  },
  {
   "cell_type": "markdown",
   "metadata": {},
   "source": [
    "http://scikit.ml/api/skmultilearn.model_selection.iterative_stratification.html"
   ]
  },
  {
   "cell_type": "markdown",
   "metadata": {},
   "source": [
    "## Librairies  utilisées"
   ]
  },
  {
   "cell_type": "code",
   "execution_count": 1,
   "metadata": {},
   "outputs": [
    {
     "name": "stderr",
     "output_type": "stream",
     "text": [
      "2022-02-03 19:30:38.310464: I tensorflow/stream_executor/platform/default/dso_loader.cc:53] Successfully opened dynamic library libcudart.so.11.0\n"
     ]
    }
   ],
   "source": [
    "import pandas as pd\n",
    "import numpy as np\n",
    "\n",
    "# text preprocessing\n",
    "import nltk\n",
    "from bs4 import BeautifulSoup\n",
    "import spacy\n",
    "\n",
    "# gensim\n",
    "import gensim\n",
    "from gensim.models import CoherenceModel\n",
    "import gensim.corpora as corpora\n",
    "\n",
    "# plotting tools\n",
    "import matplotlib.pyplot as plt\n",
    "%matplotlib inline\n",
    "import seaborn as sns\n",
    "import pyLDAvis\n",
    "import pyLDAvis.gensim\n",
    "\n",
    "# sklearn\n",
    "from sklearn.preprocessing import MultiLabelBinarizer\n",
    "from sklearn.feature_extraction.text import CountVectorizer, TfidfVectorizer\n",
    "from sklearn.ensemble import RandomForestClassifier, GradientBoostingClassifier\n",
    "from sklearn.linear_model import LogisticRegression\n",
    "from sklearn.multioutput import MultiOutputClassifier, ClassifierChain\n",
    "from sklearn.multiclass import OneVsRestClassifier\n",
    "from sklearn.decomposition import LatentDirichletAllocation\n",
    "from sklearn.metrics import accuracy_score\n",
    "from sklearn.pipeline import Pipeline\n",
    "from sklearn.model_selection import cross_validate, GridSearchCV, RandomizedSearchCV\n",
    "\n",
    "nlp = spacy.load(\"en_core_web_sm\")\n",
    "#nltk.download()\n",
    "n_jobs = -1 # enable multiprocessing\n",
    "# plt.rcParams.update({'font.size': 16}) # font size for entire document"
   ]
  },
  {
   "cell_type": "markdown",
   "metadata": {},
   "source": [
    "## Extraction des données"
   ]
  },
  {
   "cell_type": "markdown",
   "metadata": {},
   "source": [
    "On peut lancer des requêtes SQL grâce à l'outil StackExchanger : https://data.stackexchange.com/stackoverflow/query/new"
   ]
  },
  {
   "cell_type": "markdown",
   "metadata": {},
   "source": [
    "Les données ont été extraites avec la requête SQL suivante :\n",
    "\n",
    "```SQL\n",
    "SELECT \n",
    "       Posts.Tags as Tags,\n",
    "       Posts.Title as Title,\n",
    "       Posts.Body as Body\n",
    "\n",
    "FROM Posts\n",
    "\n",
    "WHERE Posts.CreationDate < '2020-01-01' and Posts.CreationDate > '2010-01-01'\n",
    "      and Posts.Score > 100 and LEN(Posts.Tags) > 0\n",
    "```"
   ]
  },
  {
   "cell_type": "markdown",
   "metadata": {},
   "source": [
    "## Chargement des données"
   ]
  },
  {
   "cell_type": "code",
   "execution_count": 2,
   "metadata": {},
   "outputs": [],
   "source": [
    "df = pd.read_csv('data/QueryResults1.csv')"
   ]
  },
  {
   "cell_type": "code",
   "execution_count": 3,
   "metadata": {},
   "outputs": [],
   "source": [
    "df = df.drop_duplicates()"
   ]
  },
  {
   "cell_type": "code",
   "execution_count": 4,
   "metadata": {},
   "outputs": [
    {
     "name": "stdout",
     "output_type": "stream",
     "text": [
      "<class 'pandas.core.frame.DataFrame'>\n",
      "Int64Index: 32049 entries, 0 to 32048\n",
      "Data columns (total 3 columns):\n",
      " #   Column  Non-Null Count  Dtype \n",
      "---  ------  --------------  ----- \n",
      " 0   Tags    32049 non-null  object\n",
      " 1   Title   32049 non-null  object\n",
      " 2   Body    32049 non-null  object\n",
      "dtypes: object(3)\n",
      "memory usage: 1001.5+ KB\n"
     ]
    }
   ],
   "source": [
    "df.info()"
   ]
  },
  {
   "cell_type": "code",
   "execution_count": 5,
   "metadata": {},
   "outputs": [
    {
     "data": {
      "text/html": [
       "<div>\n",
       "<style scoped>\n",
       "    .dataframe tbody tr th:only-of-type {\n",
       "        vertical-align: middle;\n",
       "    }\n",
       "\n",
       "    .dataframe tbody tr th {\n",
       "        vertical-align: top;\n",
       "    }\n",
       "\n",
       "    .dataframe thead th {\n",
       "        text-align: right;\n",
       "    }\n",
       "</style>\n",
       "<table border=\"1\" class=\"dataframe\">\n",
       "  <thead>\n",
       "    <tr style=\"text-align: right;\">\n",
       "      <th></th>\n",
       "      <th>Tags</th>\n",
       "      <th>Title</th>\n",
       "      <th>Body</th>\n",
       "    </tr>\n",
       "  </thead>\n",
       "  <tbody>\n",
       "    <tr>\n",
       "      <th>0</th>\n",
       "      <td>&lt;node.js&gt;&lt;npm&gt;</td>\n",
       "      <td>Easy way to list node modules I have npm linked?</td>\n",
       "      <td>&lt;p&gt;I am looking for a command that will list t...</td>\n",
       "    </tr>\n",
       "    <tr>\n",
       "      <th>1</th>\n",
       "      <td>&lt;python&gt;&lt;pandas&gt;</td>\n",
       "      <td>Appending to an empty DataFrame in Pandas?</td>\n",
       "      <td>&lt;p&gt;Is it possible to append to an empty data f...</td>\n",
       "    </tr>\n",
       "    <tr>\n",
       "      <th>2</th>\n",
       "      <td>&lt;html&gt;&lt;xhtml&gt;</td>\n",
       "      <td>Why can't the &lt;p&gt; tag contain a &lt;div&gt; tag insi...</td>\n",
       "      <td>&lt;p&gt;As far as I know, this is right:&lt;/p&gt;\\n\\n&lt;pr...</td>\n",
       "    </tr>\n",
       "    <tr>\n",
       "      <th>3</th>\n",
       "      <td>&lt;android&gt;&lt;view&gt;</td>\n",
       "      <td>Android - get children inside a View?</td>\n",
       "      <td>&lt;p&gt;Given a View how can I get the child views ...</td>\n",
       "    </tr>\n",
       "    <tr>\n",
       "      <th>4</th>\n",
       "      <td>&lt;ios&gt;&lt;arrays&gt;&lt;swift&gt;</td>\n",
       "      <td>Array extension to remove object by value</td>\n",
       "      <td>&lt;pre&gt;&lt;code&gt;extension Array {\\n    func removeO...</td>\n",
       "    </tr>\n",
       "  </tbody>\n",
       "</table>\n",
       "</div>"
      ],
      "text/plain": [
       "                   Tags                                              Title  \\\n",
       "0        <node.js><npm>   Easy way to list node modules I have npm linked?   \n",
       "1      <python><pandas>         Appending to an empty DataFrame in Pandas?   \n",
       "2         <html><xhtml>  Why can't the <p> tag contain a <div> tag insi...   \n",
       "3       <android><view>              Android - get children inside a View?   \n",
       "4  <ios><arrays><swift>          Array extension to remove object by value   \n",
       "\n",
       "                                                Body  \n",
       "0  <p>I am looking for a command that will list t...  \n",
       "1  <p>Is it possible to append to an empty data f...  \n",
       "2  <p>As far as I know, this is right:</p>\\n\\n<pr...  \n",
       "3  <p>Given a View how can I get the child views ...  \n",
       "4  <pre><code>extension Array {\\n    func removeO...  "
      ]
     },
     "execution_count": 5,
     "metadata": {},
     "output_type": "execute_result"
    }
   ],
   "source": [
    "df.head()"
   ]
  },
  {
   "cell_type": "code",
   "execution_count": 6,
   "metadata": {},
   "outputs": [
    {
     "data": {
      "text/plain": [
       "<AxesSubplot:ylabel='Tags'>"
      ]
     },
     "execution_count": 6,
     "metadata": {},
     "output_type": "execute_result"
    },
    {
     "data": {
      "image/png": "[encoded data removed]",
      "text/plain": [
       "<Figure size 432x288 with 1 Axes>"
      ]
     },
     "metadata": {},
     "output_type": "display_data"
    }
   ],
   "source": [
    "df['Tags'] = df['Tags'].apply(lambda x: x[1:-1].split('><'))\n",
    "df['Tags'].apply(lambda x: len(x)).value_counts().plot.pie()"
   ]
  },
  {
   "cell_type": "code",
   "execution_count": 7,
   "metadata": {},
   "outputs": [
    {
     "data": {
      "text/plain": [
       "<AxesSubplot:ylabel=\"Nombre d'ocurrences\">"
      ]
     },
     "execution_count": 7,
     "metadata": {},
     "output_type": "execute_result"
    },
    {
     "data": {
      "image/png": "[encoded data removed]",
      "text/plain": [
       "<Figure size 1080x720 with 1 Axes>"
      ]
     },
     "metadata": {
      "needs_background": "light"
     },
     "output_type": "display_data"
    }
   ],
   "source": [
    "df_test = pd.DataFrame()\n",
    "df_test['Tags'] = [x for l in df['Tags'].to_list() for x in l]\n",
    "plt.subplots(figsize=(15,10))\n",
    "plt.ylabel('Nombre d\\'ocurrences')\n",
    "df_test['Tags'].value_counts().head(30).plot.bar()"
   ]
  },
  {
   "cell_type": "markdown",
   "metadata": {},
   "source": [
    "Python: NLTK part 1/3 | Natural Language Tool Kit - corpus, punctuation, stop words : https://www.youtube.com/watch?v=gRk53jBPYvE\n",
    "\n",
    "Python: NLTK part 2/3 | Natural Language Tool Kit - stemmer, tokenizer, POS tagger : https://www.youtube.com/watch?v=RYgqWufzbA8\n",
    "\n",
    "Python: NLTK part 3/3 | Natural Language Tool Kit - word2vec, clustering, classifying : https://www.youtube.com/watch?v=rJmmh7kiNuQ"
   ]
  },
  {
   "cell_type": "markdown",
   "metadata": {},
   "source": [
    "## Tag a supprimer\n",
    "\n",
    "Le format des posts correspond à du code html. C'est donc du texte avec des balises. On peut donc s'intéresser à l'utilité de toutes les balises que l'on peut rencontrer. Voici un exemple de post :"
   ]
  },
  {
   "cell_type": "code",
   "execution_count": 8,
   "metadata": {},
   "outputs": [
    {
     "data": {
      "text/plain": [
       "\"<p>I am looking for a command that will list the names of global modules that I have <code>npm link</code>'d to local copies, also listing the local path.</p>\\n\\n<p>In fact, a list of <strong>all</strong> globally installed modules would be even better, with the <code>npm link</code>'d ones <strong>flagged</strong> somehow.</p>\\n\""
      ]
     },
     "execution_count": 8,
     "metadata": {},
     "output_type": "execute_result"
    }
   ],
   "source": [
    "df['Body'][0]"
   ]
  },
  {
   "cell_type": "markdown",
   "metadata": {},
   "source": [
    "Il faut maintenant déterminer les balises que l'on peut rencontrer. Pour cela on va parcourir l'ensemble des posts afin de déterminer les différentes balises utilisées."
   ]
  },
  {
   "cell_type": "code",
   "execution_count": 9,
   "metadata": {},
   "outputs": [
    {
     "name": "stdout",
     "output_type": "stream",
     "text": [
      "['p', 'code', 'strong', 'pre', 'a', 'blockquote', 'h1', 'ul', 'li', 'hr', 'em', 'ol', 'div', 'h2', 'img', 'kbd', 'h3', 'br', 'b', 'del', 'sup', 'sub', 'i', 'strike', 's', 'table', 'thead', 'tr', 'th', 'tbody', 'td']\n"
     ]
    }
   ],
   "source": [
    "tag_list = []\n",
    "\n",
    "for post in df['Body'].to_list():\n",
    "    soup = BeautifulSoup(post, \"html.parser\")\n",
    "    \n",
    "    for tag in soup.find_all(True):\n",
    "        if (tag.name not in tag_list):\n",
    "            tag_list.append(tag.name)\n",
    "            \n",
    "print(tag_list)"
   ]
  },
  {
   "cell_type": "markdown",
   "metadata": {},
   "source": [
    "Voici un lien avec des explications sur les balises que l'on utilise en html : https://www.w3schools.com/tags/tag_p.asp"
   ]
  },
  {
   "cell_type": "markdown",
   "metadata": {},
   "source": [
    "Après avoir étudié l'ensemble des balises retrouvées dans le texte. Voici les balises que l'on va supprimer :\n",
    "* code : code\n",
    "* a : liens hypertexte\n",
    "* img : image\n",
    "* kbd : commande au clavier\n",
    "* del : texte à supprimer\n",
    "* strike : texte à supprimer\n",
    "* s : texte à supprimer"
   ]
  },
  {
   "cell_type": "code",
   "execution_count": 10,
   "metadata": {},
   "outputs": [],
   "source": [
    "tag_list = ['code','a','img','kbd','del','strike','s']"
   ]
  },
  {
   "cell_type": "markdown",
   "metadata": {},
   "source": [
    "On définit ensuite une fonction qui va retirer le contenu des tags inutiles ainsi que les tags pour ne laisser que du texte."
   ]
  },
  {
   "cell_type": "code",
   "execution_count": 11,
   "metadata": {},
   "outputs": [],
   "source": [
    "def removeTag(text):\n",
    "    tag_list = ['code','a','img','kbd','del','strike','s']\n",
    "    soup = BeautifulSoup(text, \"html.parser\")\n",
    "\n",
    "    for tag in tag_list:\n",
    "        for tagless in soup.find_all(tag):\n",
    "            tagless.decompose()\n",
    "            \n",
    "    # to get lowercase text\n",
    "    return soup.get_text().lower()"
   ]
  },
  {
   "cell_type": "code",
   "execution_count": 12,
   "metadata": {},
   "outputs": [
    {
     "data": {
      "text/plain": [
       "\"<p>I am looking for a command that will list the names of global modules that I have <code>npm link</code>'d to local copies, also listing the local path.</p>\\n\\n<p>In fact, a list of <strong>all</strong> globally installed modules would be even better, with the <code>npm link</code>'d ones <strong>flagged</strong> somehow.</p>\\n\""
      ]
     },
     "execution_count": 12,
     "metadata": {},
     "output_type": "execute_result"
    }
   ],
   "source": [
    "df['Body'][0]"
   ]
  },
  {
   "cell_type": "code",
   "execution_count": 13,
   "metadata": {},
   "outputs": [
    {
     "data": {
      "text/plain": [
       "\"i am looking for a command that will list the names of global modules that i have 'd to local copies, also listing the local path.\\nin fact, a list of all globally installed modules would be even better, with the 'd ones flagged somehow.\\n\""
      ]
     },
     "execution_count": 13,
     "metadata": {},
     "output_type": "execute_result"
    }
   ],
   "source": [
    "removeTag(df['Body'][0])"
   ]
  },
  {
   "cell_type": "code",
   "execution_count": 14,
   "metadata": {},
   "outputs": [],
   "source": [
    "blop = removeTag(df['Body'][0])"
   ]
  },
  {
   "cell_type": "code",
   "execution_count": 15,
   "metadata": {},
   "outputs": [
    {
     "data": {
      "text/plain": [
       "\"i am looking for a command that will list the names of global modules that i have 'd to local copies, also listing the local path.\\nin fact, a list of all globally installed modules would be even better, with the 'd ones flagged somehow.\\n\""
      ]
     },
     "execution_count": 15,
     "metadata": {},
     "output_type": "execute_result"
    }
   ],
   "source": [
    "blop"
   ]
  },
  {
   "cell_type": "code",
   "execution_count": 16,
   "metadata": {},
   "outputs": [
    {
     "data": {
      "text/plain": [
       "['i',\n",
       " 'am',\n",
       " 'looking',\n",
       " 'for',\n",
       " 'a',\n",
       " 'command',\n",
       " 'that',\n",
       " 'will',\n",
       " 'list',\n",
       " 'the',\n",
       " 'names',\n",
       " 'of',\n",
       " 'global',\n",
       " 'modules',\n",
       " 'that',\n",
       " 'i',\n",
       " 'have',\n",
       " \"'d\",\n",
       " 'to',\n",
       " 'local',\n",
       " 'copies,',\n",
       " 'also',\n",
       " 'listing',\n",
       " 'the',\n",
       " 'local',\n",
       " 'path.',\n",
       " 'in',\n",
       " 'fact,',\n",
       " 'a',\n",
       " 'list',\n",
       " 'of',\n",
       " 'all',\n",
       " 'globally',\n",
       " 'installed',\n",
       " 'modules',\n",
       " 'would',\n",
       " 'be',\n",
       " 'even',\n",
       " 'better,',\n",
       " 'with',\n",
       " 'the',\n",
       " \"'d\",\n",
       " 'ones',\n",
       " 'flagged',\n",
       " 'somehow.']"
      ]
     },
     "execution_count": 16,
     "metadata": {},
     "output_type": "execute_result"
    }
   ],
   "source": [
    "blop.split()"
   ]
  },
  {
   "cell_type": "markdown",
   "metadata": {},
   "source": [
    "## Ponctuation à supprimer"
   ]
  },
  {
   "cell_type": "code",
   "execution_count": 17,
   "metadata": {},
   "outputs": [
    {
     "name": "stdout",
     "output_type": "stream",
     "text": [
      "!\"#$%&'()*+,-./:;<=>?@[\\]^_`{|}~\n"
     ]
    }
   ],
   "source": [
    "import re\n",
    "from string import punctuation\n",
    "\n",
    "print(punctuation)"
   ]
  },
  {
   "cell_type": "code",
   "execution_count": 18,
   "metadata": {},
   "outputs": [],
   "source": [
    "def removePunctuation(text):\n",
    "    cleaned = re.sub('\\n',r' ',text)\n",
    "    # It is prefereable to replace punctuation char by white space to avoid creating new words\n",
    "    translate_table = dict((ord(char), ' ') for char in punctuation)   \n",
    "    cleaned = cleaned.translate(translate_table)\n",
    "    cleaned = re.sub(r'\\s+', ' ',cleaned)\n",
    "    \n",
    "    return cleaned"
   ]
  },
  {
   "cell_type": "code",
   "execution_count": 19,
   "metadata": {},
   "outputs": [],
   "source": [
    "blop = \"I'm looking for a command that will list the names of global modules that I have 'd to local copies, also listing the local path.\\nIn fact, a list of all globally installed modules would be even better, with the 'd ones flagged somehow.\\n\""
   ]
  },
  {
   "cell_type": "code",
   "execution_count": 20,
   "metadata": {},
   "outputs": [
    {
     "data": {
      "text/plain": [
       "\"I'm looking for a command that will list the names of global modules that I have 'd to local copies, also listing the local path.\\nIn fact, a list of all globally installed modules would be even better, with the 'd ones flagged somehow.\\n\""
      ]
     },
     "execution_count": 20,
     "metadata": {},
     "output_type": "execute_result"
    }
   ],
   "source": [
    "blop"
   ]
  },
  {
   "cell_type": "code",
   "execution_count": 21,
   "metadata": {},
   "outputs": [
    {
     "data": {
      "text/plain": [
       "'I m looking for a command that will list the names of global modules that I have d to local copies also listing the local path In fact a list of all globally installed modules would be even better with the d ones flagged somehow '"
      ]
     },
     "execution_count": 21,
     "metadata": {},
     "output_type": "execute_result"
    }
   ],
   "source": [
    "removePunctuation(blop)"
   ]
  },
  {
   "cell_type": "code",
   "execution_count": 22,
   "metadata": {},
   "outputs": [
    {
     "data": {
      "text/plain": [
       "['i',\n",
       " 'am',\n",
       " 'looking',\n",
       " 'for',\n",
       " 'a',\n",
       " 'command',\n",
       " 'that',\n",
       " 'will',\n",
       " 'list',\n",
       " 'the',\n",
       " 'names',\n",
       " 'of',\n",
       " 'global',\n",
       " 'modules',\n",
       " 'that',\n",
       " 'i',\n",
       " 'have',\n",
       " 'd',\n",
       " 'to',\n",
       " 'local',\n",
       " 'copies',\n",
       " 'also',\n",
       " 'listing',\n",
       " 'the',\n",
       " 'local',\n",
       " 'path',\n",
       " 'in',\n",
       " 'fact',\n",
       " 'a',\n",
       " 'list',\n",
       " 'of',\n",
       " 'all',\n",
       " 'globally',\n",
       " 'installed',\n",
       " 'modules',\n",
       " 'would',\n",
       " 'be',\n",
       " 'even',\n",
       " 'better',\n",
       " 'with',\n",
       " 'the',\n",
       " 'd',\n",
       " 'ones',\n",
       " 'flagged',\n",
       " 'somehow']"
      ]
     },
     "execution_count": 22,
     "metadata": {},
     "output_type": "execute_result"
    }
   ],
   "source": [
    "tokenizer = nltk.RegexpTokenizer(r'\\w+')\n",
    "tokenizer.tokenize(removeTag(df['Body'][0]))"
   ]
  },
  {
   "cell_type": "markdown",
   "metadata": {},
   "source": [
    "Donc r'\\w+' :  s'appelle expression régulière on utilise la fonction re.sub"
   ]
  },
  {
   "cell_type": "markdown",
   "metadata": {},
   "source": [
    "## Stop words à supprimer"
   ]
  },
  {
   "cell_type": "code",
   "execution_count": 23,
   "metadata": {},
   "outputs": [],
   "source": [
    "from nltk.stem.snowball import SnowballStemmer\n",
    "\n",
    "sw = nltk.corpus.stopwords.words('english')\n",
    "sw.extend(['error', 'code', 'program', 'question', 'result'])\n",
    "stemmer = SnowballStemmer(\"english\")"
   ]
  },
  {
   "cell_type": "code",
   "execution_count": 24,
   "metadata": {},
   "outputs": [
    {
     "data": {
      "text/plain": [
       "['i',\n",
       " 'me',\n",
       " 'my',\n",
       " 'myself',\n",
       " 'we',\n",
       " 'our',\n",
       " 'ours',\n",
       " 'ourselves',\n",
       " 'you',\n",
       " \"you're\",\n",
       " \"you've\",\n",
       " \"you'll\",\n",
       " \"you'd\",\n",
       " 'your',\n",
       " 'yours',\n",
       " 'yourself',\n",
       " 'yourselves',\n",
       " 'he',\n",
       " 'him',\n",
       " 'his',\n",
       " 'himself',\n",
       " 'she',\n",
       " \"she's\",\n",
       " 'her',\n",
       " 'hers',\n",
       " 'herself',\n",
       " 'it',\n",
       " \"it's\",\n",
       " 'its',\n",
       " 'itself',\n",
       " 'they',\n",
       " 'them',\n",
       " 'their',\n",
       " 'theirs',\n",
       " 'themselves',\n",
       " 'what',\n",
       " 'which',\n",
       " 'who',\n",
       " 'whom',\n",
       " 'this',\n",
       " 'that',\n",
       " \"that'll\",\n",
       " 'these',\n",
       " 'those',\n",
       " 'am',\n",
       " 'is',\n",
       " 'are',\n",
       " 'was',\n",
       " 'were',\n",
       " 'be',\n",
       " 'been',\n",
       " 'being',\n",
       " 'have',\n",
       " 'has',\n",
       " 'had',\n",
       " 'having',\n",
       " 'do',\n",
       " 'does',\n",
       " 'did',\n",
       " 'doing',\n",
       " 'a',\n",
       " 'an',\n",
       " 'the',\n",
       " 'and',\n",
       " 'but',\n",
       " 'if',\n",
       " 'or',\n",
       " 'because',\n",
       " 'as',\n",
       " 'until',\n",
       " 'while',\n",
       " 'of',\n",
       " 'at',\n",
       " 'by',\n",
       " 'for',\n",
       " 'with',\n",
       " 'about',\n",
       " 'against',\n",
       " 'between',\n",
       " 'into',\n",
       " 'through',\n",
       " 'during',\n",
       " 'before',\n",
       " 'after',\n",
       " 'above',\n",
       " 'below',\n",
       " 'to',\n",
       " 'from',\n",
       " 'up',\n",
       " 'down',\n",
       " 'in',\n",
       " 'out',\n",
       " 'on',\n",
       " 'off',\n",
       " 'over',\n",
       " 'under',\n",
       " 'again',\n",
       " 'further',\n",
       " 'then',\n",
       " 'once',\n",
       " 'here',\n",
       " 'there',\n",
       " 'when',\n",
       " 'where',\n",
       " 'why',\n",
       " 'how',\n",
       " 'all',\n",
       " 'any',\n",
       " 'both',\n",
       " 'each',\n",
       " 'few',\n",
       " 'more',\n",
       " 'most',\n",
       " 'other',\n",
       " 'some',\n",
       " 'such',\n",
       " 'no',\n",
       " 'nor',\n",
       " 'not',\n",
       " 'only',\n",
       " 'own',\n",
       " 'same',\n",
       " 'so',\n",
       " 'than',\n",
       " 'too',\n",
       " 'very',\n",
       " 's',\n",
       " 't',\n",
       " 'can',\n",
       " 'will',\n",
       " 'just',\n",
       " 'don',\n",
       " \"don't\",\n",
       " 'should',\n",
       " \"should've\",\n",
       " 'now',\n",
       " 'd',\n",
       " 'll',\n",
       " 'm',\n",
       " 'o',\n",
       " 're',\n",
       " 've',\n",
       " 'y',\n",
       " 'ain',\n",
       " 'aren',\n",
       " \"aren't\",\n",
       " 'couldn',\n",
       " \"couldn't\",\n",
       " 'didn',\n",
       " \"didn't\",\n",
       " 'doesn',\n",
       " \"doesn't\",\n",
       " 'hadn',\n",
       " \"hadn't\",\n",
       " 'hasn',\n",
       " \"hasn't\",\n",
       " 'haven',\n",
       " \"haven't\",\n",
       " 'isn',\n",
       " \"isn't\",\n",
       " 'ma',\n",
       " 'mightn',\n",
       " \"mightn't\",\n",
       " 'mustn',\n",
       " \"mustn't\",\n",
       " 'needn',\n",
       " \"needn't\",\n",
       " 'shan',\n",
       " \"shan't\",\n",
       " 'shouldn',\n",
       " \"shouldn't\",\n",
       " 'wasn',\n",
       " \"wasn't\",\n",
       " 'weren',\n",
       " \"weren't\",\n",
       " 'won',\n",
       " \"won't\",\n",
       " 'wouldn',\n",
       " \"wouldn't\",\n",
       " 'error',\n",
       " 'code',\n",
       " 'program',\n",
       " 'question',\n",
       " 'result']"
      ]
     },
     "execution_count": 24,
     "metadata": {},
     "output_type": "execute_result"
    }
   ],
   "source": [
    "sw"
   ]
  },
  {
   "cell_type": "code",
   "execution_count": 25,
   "metadata": {},
   "outputs": [],
   "source": [
    "def removeStopWords(text):\n",
    "    cleaned = \" \".join([w for w in text.split() if w not in sw])\n",
    "    \n",
    "    return cleaned"
   ]
  },
  {
   "cell_type": "code",
   "execution_count": 26,
   "metadata": {},
   "outputs": [],
   "source": [
    "def removeLem(text):\n",
    "    doc = nlp(text)\n",
    "    cleaned = \" \".join([w.lemma_ for w in doc])\n",
    "    \n",
    "    return cleaned"
   ]
  },
  {
   "cell_type": "markdown",
   "metadata": {},
   "source": [
    "utiliser lemmatisation car garde des mots du dictionnaire"
   ]
  },
  {
   "cell_type": "markdown",
   "metadata": {},
   "source": [
    "https://www.geeksforgeeks.org/part-speech-tagging-stop-words-using-nltk-python/"
   ]
  },
  {
   "cell_type": "code",
   "execution_count": 27,
   "metadata": {},
   "outputs": [],
   "source": [
    "def onlyNoun(text):\n",
    "    postag_list = nltk.pos_tag(text.split())\n",
    "    # essayer avec verbe et nom a voir dans optimisation\n",
    "    cleaned = \" \".join([postag[0] for postag in postag_list if postag[1] == 'NN'])\n",
    "    \n",
    "    return cleaned"
   ]
  },
  {
   "cell_type": "markdown",
   "metadata": {},
   "source": [
    "si on utilise spacy on dervait filtrer mieux"
   ]
  },
  {
   "cell_type": "code",
   "execution_count": 28,
   "metadata": {},
   "outputs": [],
   "source": [
    "def onlyNoun(text):\n",
    "    \n",
    "    doc = nlp(text) \n",
    "    cleaned = \" \".join([token.text for token in doc if token.pos_ == 'NOUN'])\n",
    "    \n",
    "    return cleaned"
   ]
  },
  {
   "cell_type": "code",
   "execution_count": 29,
   "metadata": {},
   "outputs": [],
   "source": [
    "test = removePunctuation(blop)\n",
    "result = onlyNoun(test)"
   ]
  },
  {
   "cell_type": "code",
   "execution_count": 30,
   "metadata": {},
   "outputs": [
    {
     "data": {
      "text/plain": [
       "'I m looking for a command that will list the names of global modules that I have d to local copies also listing the local path In fact a list of all globally installed modules would be even better with the d ones flagged somehow '"
      ]
     },
     "execution_count": 30,
     "metadata": {},
     "output_type": "execute_result"
    }
   ],
   "source": [
    "test"
   ]
  },
  {
   "cell_type": "code",
   "execution_count": 31,
   "metadata": {},
   "outputs": [
    {
     "data": {
      "text/plain": [
       "'command names modules d copies path fact list modules ones'"
      ]
     },
     "execution_count": 31,
     "metadata": {},
     "output_type": "execute_result"
    }
   ],
   "source": [
    "result"
   ]
  },
  {
   "cell_type": "code",
   "execution_count": 32,
   "metadata": {},
   "outputs": [],
   "source": [
    "def textPreprocessingString(text, allowed_postags=['NOUN']):\n",
    "    doc = nlp(text)\n",
    "    cleaned = \" \".join([token.lemma_ for token in doc if ((token.pos_ in allowed_postags) and (token.text not in sw))])\n",
    "    \n",
    "    return cleaned"
   ]
  },
  {
   "cell_type": "code",
   "execution_count": 33,
   "metadata": {},
   "outputs": [
    {
     "data": {
      "text/plain": [
       "'command name module copy path fact list module one'"
      ]
     },
     "execution_count": 33,
     "metadata": {},
     "output_type": "execute_result"
    }
   ],
   "source": [
    "textPreprocessingString(test)"
   ]
  },
  {
   "cell_type": "code",
   "execution_count": 34,
   "metadata": {},
   "outputs": [],
   "source": [
    "def textPreprocessingList(text, allowed_postags=['NOUN']):\n",
    "    doc = nlp(text)\n",
    "    cleaned = [token.lemma_ for token in doc if ((token.pos_ in allowed_postags) and (token.text not in sw))]\n",
    "    \n",
    "    return cleaned"
   ]
  },
  {
   "cell_type": "code",
   "execution_count": 35,
   "metadata": {
    "scrolled": true
   },
   "outputs": [],
   "source": [
    "def make_data_words(sentences):\n",
    "    data_words = [textPreprocessingList(removePunctuation(removeTag(sentence))) for sentence in sentences]\n",
    "    \n",
    "    return data_words\n",
    "    "
   ]
  },
  {
   "cell_type": "code",
   "execution_count": 36,
   "metadata": {},
   "outputs": [],
   "source": [
    "from gensim.models import CoherenceModel\n",
    "import gensim.corpora as corpora\n",
    "import gensim"
   ]
  },
  {
   "cell_type": "code",
   "execution_count": 37,
   "metadata": {
    "scrolled": true
   },
   "outputs": [],
   "source": [
    "data_words = make_data_words(df['Body'].to_list())"
   ]
  },
  {
   "cell_type": "code",
   "execution_count": 38,
   "metadata": {
    "jupyter": {
     "outputs_hidden": true
    }
   },
   "outputs": [
    {
     "data": {
      "text/plain": [
       "[['command',\n",
       "  'name',\n",
       "  'module',\n",
       "  'copy',\n",
       "  'path',\n",
       "  'fact',\n",
       "  'list',\n",
       "  'module',\n",
       "  'one'],\n",
       " ['datum', 'frame', 'index', 'column', 'dataframe', 'end', 'e', 'g'],\n",
       " ['one', 'one', 'tag', 'containment', 'relationship'],\n",
       " ['view',\n",
       "  'child',\n",
       "  'view',\n",
       "  'custom',\n",
       "  'view',\n",
       "  'debugger',\n",
       "  'view',\n",
       "  'way',\n",
       "  'view',\n",
       "  'api',\n",
       "  'suggestion',\n",
       "  'custom',\n",
       "  'view'],\n",
       " ['method', 'signature', 'anyobject', 'way']]"
      ]
     },
     "execution_count": 38,
     "metadata": {},
     "output_type": "execute_result"
    }
   ],
   "source": [
    "data_words[:5]"
   ]
  },
  {
   "cell_type": "code",
   "execution_count": 39,
   "metadata": {},
   "outputs": [],
   "source": [
    "# Build the bigram and trigram models\n",
    "bigram = gensim.models.Phrases(data_words, min_count=5, threshold=100)\n",
    "# higher threshold fewer phrases.\n",
    "trigram = gensim.models.Phrases(bigram[data_words], threshold=100)\n",
    "# Faster way to get a sentence clubbed as a trigram/bigram\n",
    "bigram_mod = gensim.models.phrases.Phraser(bigram)\n",
    "trigram_mod = gensim.models.phrases.Phraser(trigram)"
   ]
  },
  {
   "cell_type": "code",
   "execution_count": 40,
   "metadata": {},
   "outputs": [],
   "source": [
    "# Define functions for bigrams, trigrams\n",
    "\n",
    "def make_bigrams(texts):\n",
    "    return [bigram_mod[doc] for doc in texts]\n",
    "\n",
    "def make_trigrams(texts):\n",
    "    return [trigram_mod[bigram_mod[doc]] for doc in texts]"
   ]
  },
  {
   "cell_type": "code",
   "execution_count": 41,
   "metadata": {},
   "outputs": [],
   "source": [
    "# Form Bigrams\n",
    "data_words_bigrams = make_bigrams(data_words)"
   ]
  },
  {
   "cell_type": "code",
   "execution_count": 42,
   "metadata": {
    "scrolled": false
   },
   "outputs": [
    {
     "data": {
      "text/plain": [
       "[['command',\n",
       "  'name',\n",
       "  'module',\n",
       "  'copy',\n",
       "  'path',\n",
       "  'fact',\n",
       "  'list',\n",
       "  'module',\n",
       "  'one'],\n",
       " ['datum', 'frame', 'index', 'column', 'dataframe', 'end', 'e_g'],\n",
       " ['one', 'one', 'tag', 'containment', 'relationship'],\n",
       " ['view',\n",
       "  'child',\n",
       "  'view',\n",
       "  'custom',\n",
       "  'view',\n",
       "  'debugger',\n",
       "  'view',\n",
       "  'way',\n",
       "  'view',\n",
       "  'api',\n",
       "  'suggestion',\n",
       "  'custom',\n",
       "  'view'],\n",
       " ['method', 'signature', 'anyobject', 'way']]"
      ]
     },
     "execution_count": 42,
     "metadata": {},
     "output_type": "execute_result"
    }
   ],
   "source": [
    "data_words_bigrams[:5]"
   ]
  },
  {
   "cell_type": "code",
   "execution_count": 43,
   "metadata": {},
   "outputs": [],
   "source": [
    "df['data_words'] = data_words_bigrams"
   ]
  },
  {
   "cell_type": "code",
   "execution_count": 44,
   "metadata": {
    "scrolled": true
   },
   "outputs": [],
   "source": [
    "index_logic = df['data_words'].apply(lambda x: len(x) > 0)\n",
    "df_data_words = df.loc[index_logic,:]\n",
    "df_data_words = df_data_words.reset_index(drop=True)"
   ]
  },
  {
   "cell_type": "markdown",
   "metadata": {},
   "source": [
    "# Apprentissage non suppervisé"
   ]
  },
  {
   "cell_type": "markdown",
   "metadata": {},
   "source": [
    "## Coherence score"
   ]
  },
  {
   "cell_type": "markdown",
   "metadata": {},
   "source": [
    "le score est faible si le même mot est important sur plusieurs topic."
   ]
  },
  {
   "cell_type": "markdown",
   "metadata": {},
   "source": [
    "very interesting documentation : https://towardsdatascience.com/evaluate-topic-model-in-python-latent-dirichlet-allocation-lda-7d57484bb5d0\n",
    "\n",
    "https://arxiv.org/pdf/1403.6397.pdf\n",
    "\n",
    "https://stats.stackexchange.com/questions/375062/how-does-topic-coherence-score-in-lda-intuitively-makes-sense\n",
    "\n",
    "http://qpleple.com/topic-coherence-to-evaluate-topic-models/"
   ]
  },
  {
   "cell_type": "markdown",
   "metadata": {},
   "source": [
    "### Latent Dirichlet Allocation (LDA)"
   ]
  },
  {
   "cell_type": "markdown",
   "metadata": {},
   "source": [
    "LDA Part 1 : https://www.youtube.com/watch?v=T05t-SqKArY\n",
    "\n",
    "LDA Part 2 Gibbs Sampling : https://www.youtube.com/watch?v=BaM1uiCpj_E"
   ]
  },
  {
   "cell_type": "code",
   "execution_count": 45,
   "metadata": {},
   "outputs": [],
   "source": [
    "data_words = df_data_words['data_words'].to_list()\n",
    "\n",
    "# Create Dictionary\n",
    "id2word = corpora.Dictionary(data_words_bigrams)\n",
    "\n",
    "# Create Corpus\n",
    "texts = data_words_bigrams\n",
    "\n",
    "# Term Document Frequency\n",
    "corpus = [id2word.doc2bow(text) for text in texts]"
   ]
  },
  {
   "cell_type": "code",
   "execution_count": 46,
   "metadata": {},
   "outputs": [],
   "source": [
    "# Build LDA model\n",
    "lda_model = gensim.models.LdaMulticore(corpus=corpus,\n",
    "                                       id2word=id2word,\n",
    "                                       num_topics=10, \n",
    "                                       random_state=100,\n",
    "                                       chunksize=100,\n",
    "                                       passes=10,\n",
    "                                       per_word_topics=True)"
   ]
  },
  {
   "cell_type": "code",
   "execution_count": 47,
   "metadata": {},
   "outputs": [
    {
     "data": {
      "text/plain": [
       "[(0,\n",
       "  '0.062*\"line\" + 0.047*\"server\" + 0.035*\"user\" + 0.031*\"script\" + 0.029*\"command\"'),\n",
       " (1,\n",
       "  '0.058*\"page\" + 0.029*\"javascript\" + 0.027*\"browser\" + 0.026*\"image\" + 0.025*\"css\"'),\n",
       " (2,\n",
       "  '0.150*\"file\" + 0.036*\"project\" + 0.032*\"directory\" + 0.027*\"command\" + 0.027*\"folder\"'),\n",
       " (3,\n",
       "  '0.046*\"branch\" + 0.039*\"change\" + 0.033*\"git\" + 0.031*\"time\" + 0.031*\"date\"'),\n",
       " (4,\n",
       "  '0.069*\"object\" + 0.050*\"array\" + 0.038*\"view\" + 0.028*\"property\" + 0.025*\"way\"'),\n",
       " (5,\n",
       "  '0.056*\"value\" + 0.045*\"string\" + 0.040*\"table\" + 0.038*\"datum\" + 0.036*\"column\"'),\n",
       " (6,\n",
       "  '0.037*\"difference\" + 0.024*\"example\" + 0.023*\"c\" + 0.020*\"time\" + 0.017*\"answer\"'),\n",
       " (7,\n",
       "  '0.065*\"list\" + 0.047*\"element\" + 0.041*\"button\" + 0.030*\"item\" + 0.030*\"way\"'),\n",
       " (8,\n",
       "  '0.074*\"function\" + 0.064*\"method\" + 0.034*\"class\" + 0.033*\"request\" + 0.029*\"type\"'),\n",
       " (9,\n",
       "  '0.058*\"app\" + 0.035*\"test\" + 0.032*\"project\" + 0.027*\"application\" + 0.027*\"studio\"')]"
      ]
     },
     "execution_count": 47,
     "metadata": {},
     "output_type": "execute_result"
    }
   ],
   "source": [
    "lda_model.print_topics(num_topics=10, num_words=5)"
   ]
  },
  {
   "cell_type": "code",
   "execution_count": 48,
   "metadata": {},
   "outputs": [
    {
     "name": "stdout",
     "output_type": "stream",
     "text": [
      "\n",
      "Coherence Score:  0.5740796194175339\n"
     ]
    }
   ],
   "source": [
    "coherence_model_lda = CoherenceModel(model=lda_model, texts=data_words_bigrams, dictionary=id2word, coherence='c_v')\n",
    "coherence_lda = coherence_model_lda.get_coherence()\n",
    "print('\\nCoherence Score: ', coherence_lda)"
   ]
  },
  {
   "cell_type": "markdown",
   "metadata": {},
   "source": [
    "#### Visualisation"
   ]
  },
  {
   "cell_type": "code",
   "execution_count": 49,
   "metadata": {},
   "outputs": [
    {
     "name": "stderr",
     "output_type": "stream",
     "text": [
      "/home/hugo/anaconda3/envs/projet5/lib/python3.8/site-packages/pyLDAvis/_prepare.py:228: FutureWarning: In a future version of pandas all arguments of DataFrame.drop except for the argument 'labels' will be keyword-only\n",
      "  default_term_info  = pd.DataFrame({'saliency': saliency, 'Term': vocab, \\\n"
     ]
    },
    {
     "data": {
      "text/html": [
       "\n",
       "<link rel=\"stylesheet\" type=\"text/css\" href=\"https://cdn.rawgit.com/bmabey/pyLDAvis/files/ldavis.v1.0.0.css\">\n",
       "\n",
       "\n",
       "<div id=\"ldavis_el362071396878306736648827489061\"></div>\n",
       "<script type=\"text/javascript\">\n",
       "\n",
       "var ldavis_el362071396878306736648827489061_data = {\"mdsDat\": {\"x\": [-0.07750134636158032, 0.2518194291035873, -0.18452800544055462, 0.12598462625450405, -0.16912089305316622, 0.11327427908588228, -0.15741053359021528, -0.0222173030480207, -0.05244389708053812, 0.17214364413010289], \"y\": [-0.157603330415457, 0.029179841234503526, -0.011914791958915516, 0.08081633034252296, -0.09922700670082796, -0.1494611488131729, -0.023440466859354962, 0.24842238242713477, 0.19721356841554347, -0.1139853776719766], \"topics\": [1, 2, 3, 4, 5, 6, 7, 8, 9, 10], \"cluster\": [1, 1, 1, 1, 1, 1, 1, 1, 1, 1], \"Freq\": [13.245308324339138, 11.063228438023135, 10.951299361477354, 10.654430502233012, 10.565447995428483, 10.337761458787641, 9.415407897373825, 9.059046322310909, 7.50790731154282, 7.200162388483668]}, \"tinfo\": {\"Term\": [\"file\", \"function\", \"object\", \"method\", \"line\", \"page\", \"list\", \"app\", \"array\", \"project\", \"table\", \"value\", \"server\", \"string\", \"difference\", \"element\", \"branch\", \"column\", \"datum\", \"command\", \"test\", \"class\", \"button\", \"request\", \"image\", \"view\", \"directory\", \"version\", \"change\", \"database\", \"language\", \"operator\", \"pointer\", \"programming\", \"term\", \"vector\", \"memory\", \"programmer\", \"jenkin\", \"optimization\", \"game\", \"haskell\", \"generator\", \"algorithm\", \"standard\", \"bracket\", \"theory\", \"specification\", \"notebook\", \"analysis\", \"firebase\", \"kernel\", \"hardware\", \"factor\", \"ram\", \"register\", \"spark\", \"shadow\", \"artifact\", \"submit\", \"difference\", \"representation\", \"explanation\", \"speed\", \"performance\", \"compiler\", \"book\", \"c\", \"comparison\", \"stack\", \"advantage\", \"expression\", \"program\", \"loop\", \"bit\", \"answer\", \"r\", \"block\", \"point\", \"variable\", \"use\", \"case\", \"statement\", \"time\", \"example\", \"thing\", \"implementation\", \"lot\", \"reason\", \"question\", \"thread\", \"word\", \"one\", \"type\", \"number\", \"way\", \"value\", \"function\", \"package\", \"folder\", \"docker\", \"module\", \"icon\", \"dependency\", \"install\", \"npm\", \"font\", \"import\", \"gem\", \"png\", \"cli\", \"exe\", \"dockerfile\", \"asset\", \"scheme\", \"directory\", \"ide\", \"dimension\", \"prop\", \"deployment\", \"path\", \"pom\", \"pipe\", \"registry\", \"drive\", \"care\", \"pod\", \"binding\", \"xcode\", \"volume\", \"file\", \"container\", \"video\", \"installation\", \"project\", \"plugin\", \"image\", \"command\", \"rail\", \"eclipse\", \"version\", \"window\", \"node\", \"source\", \"config\", \"root\", \"name\", \"way\", \"problem\", \"system\", \"option\", \"idea\", \"line\", \"content\", \"issue\", \"solution\", \"table\", \"column\", \"query\", \"row\", \"sql\", \"record\", \"panda\", \"dataframe\", \"postgresql\", \"plot\", \"integer\", \"migration\", \"csv\", \"widget\", \"schema\", \"quote\", \"data_frame\", \"comma\", \"postgre\", \"axis\", \"join\", \"clause\", \"figure\", \"promise\", \"training\", \"redis\", \"insert\", \"database\", \"flutter\", \"checkout\", \"range\", \"theme\", \"dictionary\", \"count\", \"length\", \"field\", \"key\", \"value\", \"string\", \"datum\", \"number\", \"index\", \"annotation\", \"mysql\", \"int\", \"name\", \"way\", \"hash\", \"example\", \"data\", \"statement\", \"result\", \"type\", \"character\", \"order\", \"time\", \"output\", \"list\", \"password\", \"port\", \"login\", \"regex\", \"socket\", \"powershell\", \"margin\", \"cursor\", \"credential\", \"tomcat\", \"apache\", \"ip_address\", \"svg\", \"laravel\", \"username\", \"ip\", \"email\", \"padding\", \"mail\", \"websocket\", \"placeholder\", \"newline\", \"edittext\", \"circle\", \"perl\", \"administrator\", \"var\", \"netbean\", \"comprehension\", \"dict\", \"line\", \"authentication\", \"php\", \"permission\", \"param\", \"server\", \"script\", \"connection\", \"bash\", \"shell\", \"client\", \"user\", \"command\", \"host\", \"message\", \"process\", \"output\", \"log\", \"terminal\", \"access\", \"text\", \"console\", \"machine\", \"web\", \"window\", \"file\", \"way\", \"application\", \"problem\", \"site\", \"time\", \"response\", \"fragment\", \"constructor\", \"request\", \"pattern\", \"http\", \"filter\", \"mongodb\", \"timeout\", \"lambda\", \"localhost\", \"argument\", \"protocol\", \"queue\", \"curl\", \"factory\", \"iterator\", \"marker\", \"subclass\", \"workspace\", \"occurrence\", \"completion\", \"fork\", \"prototype\", \"basis\", \"adapter\", \"redirect\", \"ascii\", \"reflection\", \"httpclient\", \"parameter\", \"map\", \"call\", \"function\", \"async\", \"interface\", \"signature\", \"method\", \"header\", \"service\", \"task\", \"type\", \"class\", \"url\", \"api\", \"member\", \"return\", \"body\", \"example\", \"post\", \"way\", \"resource\", \"instance\", \"case\", \"datum\", \"template\", \"variable\", \"problem\", \"value\", \"object\", \"io\", \"device\", \"gradle\", \"unit\", \"test\", \"namespace\", \"simulator\", \"dll\", \"bean\", \"identity\", \"storyboard\", \"grid\", \"delegate\", \"webpack\", \"navigation_bar\", \"manager\", \"profile\", \"inheritance\", \"junit\", \"card\", \"revision\", \"ssh\", \"webview\", \"variant\", \"nexus\", \"classpath\", \"slice\", \"viewcontroller\", \"overflow\", \"generation\", \"nuget\", \"beta\", \"studio\", \"navigation\", \"yesterday\", \"app\", \"emulator\", \"phone\", \"android\", \"iphone\", \"gcc\", \"struct\", \"warning\", \"assembly\", \"swift\", \"build\", \"framework\", \"library\", \"target\", \"application\", \"project\", \"support\", \"class\", \"developer\", \"testing\", \"version\", \"platform\", \"problem\", \"solution\", \"issue\", \"feature\", \"tool\", \"system\", \"method\", \"reference\", \"message\", \"array\", \"controller\", \"action\", \"route\", \"validation\", \"entity\", \"mvc\", \"router\", \"listview\", \"hook\", \"stack_trace\", \"spring_boot\", \"anchor\", \"temp\", \"relation\", \"hex\", \"catch\", \"sheet\", \"equality\", \"operating_system\", \"span\", \"yaml\", \"weight\", \"bound\", \"chance\", \"actionbar\", \"reactjs\", \"postman\", \"handle\", \"alignment\", \"model\", \"component\", \"django\", \"object\", \"view\", \"heap\", \"property\", \"helper\", \"notation\", \"json\", \"exception\", \"form\", \"stream\", \"child\", \"context\", \"state\", \"thread\", \"spring\", \"collection\", \"net\", \"application\", \"method\", \"datum\", \"custom\", \"web\", \"way\", \"value\", \"field\", \"example\", \"instance\", \"system\", \"class\", \"api\", \"user\", \"css\", \"chrome\", \"color\", \"width\", \"height\", \"div\", \"browser\", \"html5\", \"bootstrap\", \"page\", \"scroll\", \"role\", \"dot\", \"transition\", \"modal\", \"endpoint\", \"textbox\", \"tooltip\", \"refresh\", \"internet_explorer\", \"stylesheet\", \"scrollbar\", \"colour\", \"flexbox\", \"alpha\", \"firefox\", \"cor\", \"selenium\", \"scrollview\", \"iframe\", \"tag\", \"bar\", \"background\", \"directive\", \"bottom\", \"javascript\", \"tab\", \"top\", \"link\", \"screen\", \"style\", \"session\", \"content\", \"image\", \"space\", \"text\", \"website\", \"size\", \"site\", \"string\", \"character\", \"way\", \"jquery\", \"work\", \"element\", \"window\", \"problem\", \"example\", \"solution\", \"activity\", \"xml\", \"dialog\", \"button\", \"jar\", \"handler\", \"animation\", \"border\", \"item\", \"proxy\", \"keyboard\", \"checkbox\", \"filename\", \"intent\", \"listener\", \"layout\", \"assignment\", \"mouse\", \"whitespace\", \"authorization\", \"shape\", \"zip\", \"bucket\", \"cmake\", \"subdirectory\", \"logging\", \"notepad\", \"underscore\", \"press\", \"logger\", \"textview\", \"list\", \"html\", \"event\", \"element\", \"category\", \"attribute\", \"center\", \"selector\", \"input\", \"jquery\", \"dom\", \"box\", \"b\", \"way\", \"text\", \"user\", \"search\", \"menu\", \"class\", \"option\", \"file\", \"example\", \"problem\", \"custom\", \"branch\", \"git\", \"date\", \"repository\", \"commit\", \"master\", \"history\", \"github\", \"dev\", \"timestamp\", \"conflict\", \"merge\", \"repo\", \"heroku\", \"remote\", \"matrix\", \"submodule\", \"mac\", \"pdf\", \"pull\", \"closure\", \"nginx\", \"driver\", \"diff\", \"virtualenv\", \"patch\", \"apk\", \"clone\", \"cmd\", \"eg\", \"change\", \"month\", \"react\", \"day\", \"format\", \"hour\", \"version\", \"production\", \"time\", \"development\", \"second\", \"environment\", \"origin\", \"way\", \"file\", \"mode\", \"issue\", \"update\", \"state\", \"project\", \"problem\", \"command\", \"feature\", \"message\"], \"Freq\": [9873.0, 4271.0, 3377.0, 4565.0, 3475.0, 2499.0, 2718.0, 3299.0, 2228.0, 3724.0, 2086.0, 4581.0, 2808.0, 3647.0, 2359.0, 2235.0, 1581.0, 1845.0, 3099.0, 3132.0, 1745.0, 3617.0, 1475.0, 1676.0, 2327.0, 1912.0, 1672.0, 2911.0, 1537.0, 1518.0, 817.4634078147142, 509.4974467274822, 465.85145452689113, 327.5559236826992, 363.8748650883315, 247.19330576289263, 666.6543051357597, 158.02195546203743, 156.16919242530733, 147.0595306792047, 141.44502640338848, 124.13483128230183, 112.52046835466119, 109.72827802438309, 247.81678571054897, 86.79246123115973, 87.43419503782064, 86.24326039203376, 84.97920074324782, 81.61664853761476, 80.90279043971296, 76.30698882030048, 77.275495190558, 72.78450534499761, 72.8746278389545, 71.00163143309969, 68.95075668611682, 66.69092309778001, 64.91642010321671, 63.70939372018012, 2311.503564983942, 106.69956180037684, 346.9225741623251, 144.37557791704566, 527.5059925664519, 636.3461498621722, 227.69552552062171, 1443.903709203494, 186.8028785033755, 248.69647708615406, 218.1406273912602, 472.56533927932134, 147.88813462388626, 553.5998803612373, 679.3349154850144, 1052.1349607416098, 306.75689675835207, 371.6028433795056, 626.6250751452342, 903.8060454583514, 651.1090003327859, 1023.4364758966404, 526.32588313837, 1226.3871315081904, 1479.4243309779433, 745.2982115676364, 373.07142075468954, 478.95633744374123, 475.9271464294848, 393.2734391139463, 395.3700544231887, 362.33987551384007, 430.4272809134247, 492.00932943847516, 464.2854648012931, 590.6430449011569, 528.5951175736611, 490.89577829900855, 1383.1833348192981, 1394.1963597491888, 555.207012125602, 1206.3168955480915, 391.9363160303335, 569.2832292392533, 275.86076305355505, 183.5457176500983, 211.33063373106867, 273.2474904916798, 150.38657318480904, 134.0660659199516, 123.40622154809544, 125.01488675290231, 117.48897073447671, 113.37865871906949, 101.9694648706565, 1656.77116915166, 179.64191571499018, 90.917368487379, 88.12557159734163, 86.41565861474689, 1120.0122769788848, 78.66636907174345, 76.4350742665264, 71.70426193509876, 77.75429711965903, 71.3424361163757, 70.29113703026783, 68.19417017464737, 165.0631142721401, 91.14428065077075, 7846.721594356051, 690.3497760168034, 217.73927945391247, 208.98068470576013, 1885.435959336934, 371.0125887676957, 1210.5520360982105, 1413.7303293253703, 253.4368969778724, 296.0073320194397, 959.1765060492701, 594.3703236951014, 333.2661725836944, 440.526122120808, 248.90209473122877, 258.8400811894514, 507.42806681603236, 839.5805687539729, 574.7879357781833, 351.65877251375105, 348.54193944645255, 342.26637094741767, 350.9400627684416, 303.6253624668524, 307.93447277038496, 318.336826258616, 2085.7192078221155, 1844.3397773525166, 1288.0148517806633, 1032.26595996019, 742.6425023089373, 479.40207955083815, 288.7645618621303, 286.8229751949943, 231.57150923744652, 216.03596531524548, 562.1656778388967, 198.89906896942543, 178.8599387733045, 158.33513409913851, 154.94552266697497, 177.10187664095963, 147.69504735267577, 143.1389305929189, 139.54222898377802, 121.35047120105008, 115.02427395222091, 113.4896807825041, 104.82202983190291, 196.67166282968432, 92.77975113910844, 91.51228557562916, 88.3935461623519, 1502.069539654696, 80.54404937550458, 73.9587870863832, 227.09224956699305, 134.60704479771144, 289.8856873241707, 127.53549201427056, 334.48746392862427, 1090.7016985917437, 881.7956505822578, 2879.819747870394, 2340.5321414254045, 1962.8698120015156, 1422.4692211723093, 565.0714869993396, 204.77487377036127, 450.6033911917147, 216.89618976692074, 755.9364234020825, 1386.981755632452, 236.18735541832632, 935.6161469704556, 282.8490662871176, 358.3709463549748, 303.3609346195196, 401.08068332676083, 313.5784945954461, 300.92680066531557, 378.9587658703943, 318.0046077637881, 295.2816516835433, 505.0494386023209, 375.3463281286834, 290.1398439456992, 229.0395446224873, 168.01367815109165, 153.65772682650635, 147.23686511697937, 144.58843519712062, 143.53793782496044, 141.39185327129073, 224.6595226575258, 133.95157642721867, 122.56933152048295, 149.51402387796807, 110.22465362294339, 109.54496910822908, 339.7606091957424, 102.53951455384839, 90.55970922221805, 78.55668916075457, 77.1620367973224, 75.19531849463112, 74.46097272159295, 70.17208810779357, 69.21594207242417, 69.22151807308516, 84.08934508321902, 62.392985495420575, 60.9391358646969, 60.3466520094241, 3105.17706765184, 268.14172812402586, 998.9119979691162, 340.86624375462844, 132.9873337333552, 2362.7968240974647, 1563.602903704852, 483.6688545714502, 382.00396715605785, 343.9731983737323, 666.7853273474635, 1786.2171563707118, 1458.7723050775107, 256.8444099965885, 855.486966812967, 472.8114823086004, 737.0709508196118, 375.7282694848141, 236.6706863827576, 355.2994482474866, 635.942205562613, 359.5197227878207, 366.8308996460933, 509.9848043802178, 449.27833874752844, 883.8099008175027, 824.0716498243531, 535.5324529809419, 544.8623888561889, 308.7028848311842, 345.1329125006731, 713.4047749735947, 395.78923465397634, 381.60757681455834, 1672.3975135924782, 426.13578091247354, 339.10595310802034, 194.2545033389318, 214.0297668429761, 150.53783801459747, 147.6582801586548, 142.02505369837405, 877.184372329284, 134.76730469720766, 128.63408710211752, 128.2799004953167, 122.23147140292717, 112.10316079706674, 109.52397518488596, 100.97956415119009, 98.13002487454331, 97.48838939526907, 95.40878123017835, 73.77425945075832, 71.27846396025507, 70.71714799099514, 70.1114101179014, 66.80423899826997, 63.50327902101612, 60.32475895550987, 59.00487372050657, 1093.980509737558, 401.3277091467669, 868.2325895972086, 3702.5627945605524, 215.83987785197746, 518.1933944600812, 116.73509983210714, 3212.5570325101053, 690.139397152572, 964.0129264918123, 458.1545578110945, 1455.5272619899797, 1720.5853507468971, 582.8253068048413, 590.4572509146141, 224.89672561158832, 354.6407077317403, 220.47865730085587, 1124.3908221707086, 364.5653441415862, 1214.9390698546829, 306.2713840268733, 402.068618025506, 420.6191211636434, 376.2058173731262, 256.49880827167584, 301.41748696394137, 331.7668999035359, 320.48497156631873, 311.9944914274138, 771.6857754024822, 809.5538011985615, 447.06080276822735, 308.7111114111764, 1737.6412868337354, 206.2135637605894, 194.6858651732428, 156.81574140032816, 134.2208729450895, 122.69661777624438, 113.22070632772235, 113.30540074040144, 95.63923857174402, 95.50613676420372, 79.43411773306495, 225.90592687231862, 231.07194398430238, 74.41433758793842, 71.54839291139926, 71.09307492788903, 93.36882286319472, 68.9529219169235, 63.15653117820629, 61.49111953954997, 61.13236550070576, 60.55462372762427, 58.847765644421834, 57.4056061059616, 57.14908853067246, 62.62816027304354, 139.21164057903374, 145.8616684467285, 1300.1260050171813, 126.42519009662342, 107.87932571721888, 2850.492119374806, 202.95127819391408, 281.5906560770394, 726.6962584552042, 274.99427484527024, 170.4842087092333, 144.57318001043336, 565.4716187353959, 253.80993094626533, 295.2266845593328, 591.0662520037391, 651.9333032491097, 986.0689065681021, 286.6220834142165, 1330.682125460158, 1560.3494739531961, 301.5562350633804, 1132.472571367375, 386.6524787187244, 211.00037155958435, 712.4180210203345, 221.40930119538652, 681.7970001200382, 548.3479318052997, 442.0283036385365, 333.3817455122219, 324.6266145291695, 319.47320808229387, 401.43569005622356, 301.5030787155196, 289.94511909273274, 2227.100541568508, 1062.0000213885107, 528.9756931595032, 238.4008266936155, 227.27534650305662, 428.3966500279795, 203.39761708545987, 96.33092765077315, 93.98786100139803, 82.78478605667019, 78.44942840116406, 77.61685288912045, 76.83353218422667, 75.76330196806674, 81.40939515413008, 70.27375349850772, 70.19414410537878, 68.18785966626561, 66.87560796411998, 60.92458774825687, 58.261826973200264, 57.00442745139731, 55.25639584205547, 55.07610642461332, 54.248920591024444, 51.67774800311898, 51.24328695750995, 48.92545521881882, 48.57835058007134, 47.89424565158688, 907.2695184218346, 998.1533296380506, 207.40190932837135, 3063.8818720594427, 1680.1256485512922, 139.40419938724108, 1246.7377616542353, 112.549176283149, 71.41017602771277, 481.19161398939406, 686.70331427543, 709.3992398635382, 222.44548844551375, 321.1709806559837, 326.926326466677, 432.3171789829992, 411.4769228022738, 205.4919277469651, 215.5288590454601, 216.49260416937585, 737.9728850020516, 931.3371015995648, 723.9138620215865, 296.7170852653137, 467.33019178279505, 1093.7616976795728, 603.1395379491563, 358.4389144582882, 531.2884986855313, 309.3312174914887, 297.8891482115835, 356.76169636991506, 278.45972084809324, 302.53621413008966, 1076.799038001835, 754.0838406221345, 745.5541369015285, 491.7624386782485, 489.66766142631275, 464.4257414191236, 1173.9547693778693, 219.1940816794706, 205.12112965933764, 2487.9637407874166, 184.45478300798075, 120.53433157047803, 110.27324826956784, 108.09821778423797, 106.35467832033812, 90.43114588892593, 84.2749075659017, 83.80671707656126, 81.69826120454128, 80.0030665202452, 79.86023035266727, 73.65243991837599, 73.02149483257674, 61.90214056942722, 61.69154077773587, 59.41393063346166, 56.411898171687646, 54.05637284887665, 53.897200272359555, 53.13055807964723, 891.8866357098088, 439.71434004742935, 693.0184039576408, 296.2515338009846, 217.46030409418452, 1260.1989386182793, 403.87755442922486, 339.12910184653555, 664.648885952813, 648.3821790251166, 477.70321523663694, 266.8090084836324, 846.4897635970271, 1111.7032794493296, 405.45412280457276, 927.1517769070789, 407.9898532059296, 548.4975579464335, 399.51314539542346, 830.808889286408, 429.3836946186693, 874.225169151142, 336.80651412131965, 422.4167707447653, 435.4423341389304, 389.09013680811074, 440.48026283864715, 425.7030767054557, 402.1904380242116, 806.6125989467407, 614.9711869571437, 316.9375950080587, 1470.9353060517178, 256.6633103989966, 219.25367972792844, 193.9201380948654, 170.85848257956084, 1074.3132808616099, 141.47417778650686, 260.48543910965816, 127.07565628236561, 123.64531973762656, 118.40979786939756, 122.40054138111834, 688.7998591154126, 114.82897331858597, 111.98839937729633, 99.5365250690787, 96.05989853622843, 92.3633572959953, 82.12339914240529, 82.00466822119976, 80.93967554123591, 80.32628765405103, 80.92256729160482, 73.22411166416575, 72.21128838046323, 71.73707684930436, 66.36477179259211, 96.78132675881355, 2294.09908484776, 258.19954178261804, 843.6009327600008, 1656.9449406254832, 137.5056269703385, 581.0504136440493, 133.38245600067947, 148.09702467588573, 550.3276077600608, 470.2876969680582, 140.37222764376298, 250.3398330355922, 229.07586866860038, 1052.0332719577177, 462.02366711915056, 590.2874772609395, 221.13838611686242, 187.73324517938707, 407.04318504671227, 273.51896078190674, 458.7377569934899, 348.56864523838715, 278.9043827153933, 191.5150129952268, 1580.614226499305, 1138.0444946334126, 1044.5813100197697, 977.040092801114, 889.6862811823003, 425.7742133560241, 264.44359350863454, 266.30971811290397, 211.20906687508196, 162.85578714458666, 138.4227900140108, 134.5367629768478, 131.69231786731783, 127.79037620670087, 121.67993906040341, 116.69173699333506, 108.49979575040528, 107.63209934929337, 103.47133063896983, 101.35326420382349, 100.12358953342232, 94.19256514813894, 93.61662096082551, 90.34731734821956, 86.50821621424498, 82.00528309966097, 81.57439705207324, 78.82359727176946, 76.11822246459776, 75.36312758342294, 1315.558301176278, 211.63923819407145, 211.96256552905407, 368.56355623335804, 449.9200643015457, 210.87271559675378, 996.1920873822123, 186.59192389188593, 1047.6062320417823, 242.3177879417262, 204.33892087743664, 251.45818197593928, 167.6783786540157, 655.0578452746556, 670.6917868666765, 194.13323180898698, 279.09919871253715, 239.77003461475138, 202.28186844029273, 277.9608742984189, 264.7231159219744, 239.2062884621811, 198.1428433622132, 204.34783116062795], \"Total\": [9873.0, 4271.0, 3377.0, 4565.0, 3475.0, 2499.0, 2718.0, 3299.0, 2228.0, 3724.0, 2086.0, 4581.0, 2808.0, 3647.0, 2359.0, 2235.0, 1581.0, 1845.0, 3099.0, 3132.0, 1745.0, 3617.0, 1475.0, 1676.0, 2327.0, 1912.0, 1672.0, 2911.0, 1537.0, 1518.0, 818.3619780294077, 510.39451739353103, 466.7637102626692, 328.45285908071463, 365.13045624927753, 248.0900614658974, 670.0412206523147, 158.92254071620354, 157.06768739425516, 147.9562006163563, 142.3582956385884, 125.03140413925274, 113.41710139962125, 110.62491404396819, 250.11249192995984, 87.68942977457888, 88.33856530003541, 87.14122551456427, 85.8757993378087, 82.5133328668344, 81.7995229181939, 77.20362882434448, 78.19741093341877, 73.68124376769951, 73.79715339040422, 71.90241794644118, 69.84739698717173, 67.58755831892326, 65.81316468105301, 64.6062317970094, 2359.3030426965865, 108.4687192250672, 367.5818911400623, 149.5375355415861, 569.3161608157036, 696.0180241777133, 242.81809450508237, 1726.1379407439563, 198.90532780856867, 275.01037246646024, 239.67146180065467, 587.616835780456, 162.35017429882313, 783.4721385633798, 1051.6845722498222, 1839.4381213469267, 403.685580393509, 518.178807394664, 1039.8616604293761, 1775.3888584590782, 1147.7365238095497, 2346.4085580773394, 912.5631888052376, 3700.9644557795827, 5372.595410701193, 2025.0527468024297, 641.645462899543, 1124.8890678578878, 1135.7617784727533, 748.7610074439011, 808.5087020794001, 670.1619931130106, 1388.4446281606993, 2734.3016636585025, 2144.137005532142, 8758.057867190817, 4581.988454298909, 4271.857972154866, 1384.1219254577047, 1395.1837194130792, 556.1042118926079, 1209.4373445324177, 393.025755555983, 570.8842505725698, 276.76396481050904, 184.44282299595923, 212.45181124974755, 274.8633856573232, 151.2909555150152, 134.96346814742316, 124.30573119566162, 125.9406699179652, 118.38609522924477, 114.27587598449139, 102.86692059363742, 1672.020218988912, 181.32990859380473, 91.81499137096573, 89.02292552270487, 87.32542055091687, 1132.024660822489, 79.56350591003515, 77.33238925289074, 72.60138758113865, 78.72962618076599, 72.23994615676618, 71.18831410197271, 69.09160172996316, 167.6446554299998, 93.12959652578031, 9873.085967954528, 796.8818155854465, 236.0222562462135, 228.39261323991533, 3724.783129853921, 523.962233389307, 2327.440465056416, 3132.5081923175235, 377.74390265895755, 480.1252513371411, 2911.7117729057973, 1517.9006004994287, 635.6965483002571, 1102.2626583889862, 423.7391442035182, 456.47464935571725, 2087.5252859256516, 8758.057867190817, 3870.033928964844, 1324.937824914585, 1633.4017576858118, 1828.4691946688142, 3475.6678340905146, 1444.818851412794, 1669.419405337395, 2492.0180952682285, 2086.616216397718, 1845.236221629313, 1288.9122301626808, 1033.1647151670647, 743.5392727417752, 480.3038145227691, 289.66079375791463, 287.7191754496612, 232.46773886766184, 216.93311873801656, 564.6189053596387, 199.79574316161813, 179.7623018873168, 159.23155312928816, 155.84244509684984, 178.15640955729842, 148.5912372871991, 144.03522676311013, 140.43845114754706, 122.24674584140392, 115.92052903640368, 114.38650491810566, 105.71838329531083, 198.48323980192987, 93.67600806309244, 92.4085758421112, 89.29013538572202, 1518.0019622920147, 81.44047166312886, 74.85555596877177, 230.54986210612154, 138.04957131002627, 310.0538790520209, 132.141711579064, 377.76743155500895, 1462.147756452305, 1168.4038640776535, 4581.988454298909, 3647.326299298602, 3099.739476248412, 2144.137005532142, 773.7586811566475, 233.13320047304217, 713.9889620588833, 265.6813310514402, 2087.5252859256516, 8758.057867190817, 315.45379221178814, 5372.595410701193, 457.37603469861637, 912.5631888052376, 795.1869731370064, 2734.3016636585025, 1007.0518425369378, 1010.2368516258347, 3700.9644557795827, 1688.519354780507, 2718.380063022773, 505.97815991039533, 376.242955145168, 291.0543788082662, 229.93588732411385, 168.9101951775216, 154.5587830120246, 148.13229225950164, 145.4845674096774, 144.4332320594927, 142.28720194848526, 226.12806130736226, 134.84686732296063, 123.46474259370241, 150.63192739295334, 111.11997989050991, 110.44024914482746, 342.5991614281447, 103.4349738245798, 91.50857030872945, 79.45197934201737, 78.0575372030416, 76.09064628062193, 75.35636840586571, 71.06816546561105, 70.11146555683237, 70.11727478257524, 85.2248779861949, 63.288340429111784, 61.83457668407878, 61.242188935184195, 3475.6678340905146, 281.2744100223864, 1098.1758714096718, 365.17365483855826, 138.08375553106669, 2808.671488885684, 1851.7060235986496, 558.4475911602386, 458.1674334749283, 411.1745629964667, 905.1755926371169, 3416.649193257564, 3132.5081923175235, 337.3805957963495, 1819.16831735944, 828.4068373314487, 1688.519354780507, 677.1809733344434, 341.7838263264825, 706.6739419906389, 2027.005775621444, 743.6322048402855, 772.236712385503, 1687.5564867663734, 1517.9006004994287, 9873.085967954528, 8758.057867190817, 2980.5847644529313, 3870.033928964844, 814.0881054144678, 3700.9644557795827, 714.7612234647967, 396.68667927524643, 382.5052423324755, 1676.3549530730454, 427.2195104637562, 340.0038264319216, 195.15571500187306, 215.02283254022464, 151.43530091452996, 148.55571261474037, 142.9232981732421, 882.9296219683603, 135.6693195074415, 129.53160258346097, 129.17738052495298, 123.12886584290148, 113.00066012667973, 110.42169400616552, 101.87704110201612, 99.02765709639436, 98.3859197791155, 96.30654717883148, 74.67178686989602, 72.17599979005537, 71.61490788622623, 71.00889569749732, 67.73508606385279, 64.40083953428646, 61.24163615416689, 59.90229989973562, 1134.9120499670405, 414.29821103499273, 914.4410732362534, 4271.857972154866, 227.1029670437868, 577.6248291065866, 122.52419683683647, 4565.304763606653, 859.5428862354299, 1256.0193138051568, 652.5679504522853, 2734.3016636585025, 3617.5093462643026, 972.8572633457835, 1023.5357430872157, 296.4446482625149, 576.584773892683, 290.7851412487315, 5372.595410701193, 829.1499872550314, 8758.057867190817, 625.2760299940245, 1152.7001121795229, 2346.4085580773394, 3099.739476248412, 566.6480414485003, 1775.3888584590782, 3870.033928964844, 4581.988454298909, 3377.2479800407373, 772.5850897840157, 810.9919063669016, 447.95794477902115, 309.61283519667586, 1745.2577560235534, 207.13749024184725, 195.58090281937342, 157.73443090707246, 135.11594787652115, 123.59181237140835, 114.11582210042037, 114.22352511043977, 96.53484862127497, 96.44567662008271, 80.32923441424497, 228.5010326498666, 233.83800181615365, 75.31032414292544, 72.4434232166773, 71.98824085596641, 94.57404347941325, 69.84821886146688, 64.05168406567297, 62.386290994844245, 62.02820714967992, 61.44976493624796, 59.74375930009319, 58.30065283651279, 58.044471914921104, 63.613109111615394, 142.34386045302134, 149.25410128420305, 1394.3779921347864, 129.97695669912437, 110.89518828256799, 3299.6437940539254, 213.73225726884556, 302.57867086231806, 821.9724340064446, 296.86596321562666, 182.23936248564075, 153.19379983069166, 664.3364332329932, 286.49620755091746, 343.24243945972546, 783.0075606836497, 883.4971301829262, 1466.8338785762955, 346.9752268864411, 2980.5847644529313, 3724.783129853921, 471.0032434815661, 3617.5093462643026, 693.4006059504437, 280.6619410925094, 2911.7117729057973, 312.68886995646477, 3870.033928964844, 2492.0180952682285, 1669.419405337395, 832.6473374225671, 837.9575746919667, 1324.937824914585, 4565.304763606653, 1044.3903440975387, 1819.16831735944, 2228.006756726796, 1062.908912641074, 529.8773271233224, 239.29895317369156, 228.17979481229932, 430.16970358284095, 204.29908384533408, 97.22901517387055, 94.886983947643, 83.68293345385882, 79.34760720687709, 78.51492237990955, 77.73165292091889, 76.66158479250338, 82.41734427466862, 71.17191717552478, 71.09226058849967, 69.08602556181428, 67.77363722639947, 61.82284444046199, 59.159965455571395, 57.90257868644005, 56.15453939741408, 55.974250288050236, 55.14722528892291, 52.5798081835058, 52.1413553886039, 49.82357265527464, 49.48308386792647, 48.79252517366988, 925.7462560298106, 1058.5295291565797, 214.6247290470686, 3377.2479800407373, 1912.6998937536466, 146.60621193927398, 1526.9032422134683, 119.22555363602204, 73.891034547579, 613.5485635181814, 948.4296781764672, 1079.7970831356179, 286.224499969257, 470.5369216558368, 529.0720916131554, 794.5340107422626, 808.5087020794001, 320.3313697394072, 382.4944249340254, 392.3278035262268, 2980.5847644529313, 4565.304763606653, 3099.739476248412, 720.4187160689684, 1687.5564867663734, 8758.057867190817, 4581.988454298909, 1462.147756452305, 5372.595410701193, 1152.7001121795229, 1324.937824914585, 3617.5093462643026, 1023.5357430872157, 3416.649193257564, 1077.7254505262365, 754.9832447139347, 746.4544138617731, 492.66271155029705, 490.5668809309463, 465.3228699323195, 1176.5918869281877, 220.1034221659203, 206.01855383993558, 2499.130920271343, 185.35158620938248, 121.43128109992149, 111.17428752057819, 108.99858587004273, 107.25148259612338, 91.32831226040321, 85.17174925876053, 84.70391290434658, 82.59515388440174, 80.89990953325982, 80.75703967335714, 74.54922029877117, 73.91834208165106, 62.798911774029634, 62.58849010092172, 60.31072331705427, 57.30872831986268, 54.95314833079211, 54.79400867998634, 54.030364985719096, 921.913488899216, 472.46722761831404, 758.7569096433803, 317.45276471781654, 236.07614113660551, 1536.4512406935496, 497.68169687944516, 419.0416978432575, 905.4372678850802, 885.0514092701982, 704.0680995218497, 348.1631518636169, 1444.818851412794, 2327.440465056416, 649.9552392552785, 2027.005775621444, 659.9874150978915, 1016.1985492744765, 814.0881054144678, 3647.326299298602, 1007.0518425369378, 8758.057867190817, 838.4006687136098, 1929.8846761895938, 2235.447191118645, 1517.9006004994287, 3870.033928964844, 5372.595410701193, 2492.0180952682285, 807.5120598036143, 615.8883014161186, 317.83656434490143, 1475.5132703682514, 257.57539947751866, 220.17867835489278, 194.816197848535, 171.75423350425763, 1081.107351453033, 142.3701185837051, 262.27609802288333, 127.97530308189822, 124.54147648563028, 119.30558480425029, 123.33944842676611, 694.1367300049076, 115.72605656613406, 112.90111023842849, 100.43233290735984, 96.95586328044676, 93.25920536264822, 83.0192857987736, 82.90046046787312, 81.83546693272784, 81.22219508941839, 81.82853029826852, 74.11988133009797, 73.1070830292998, 72.63298569466374, 67.26065523506949, 98.24833724073603, 2718.380063022773, 283.23899424046584, 998.725187584504, 2235.447191118645, 149.72003949682698, 795.4788593662332, 146.9635269505234, 175.84996218444667, 972.3055738625438, 838.4006687136098, 175.9320283768809, 486.77037440888455, 424.7203214114886, 8758.057867190817, 2027.005775621444, 3416.649193257564, 521.8266780625933, 351.8104707961621, 3617.5093462643026, 1633.4017576858118, 9873.085967954528, 5372.595410701193, 3870.033928964844, 720.4187160689684, 1581.510453275159, 1139.0032405510658, 1045.4781713230946, 977.9394047423871, 890.5845058162434, 426.6704503112241, 265.3467793059656, 267.3878959457105, 212.1127296024435, 163.7520488166607, 139.3191184265215, 135.43300790923223, 132.58904765756301, 128.69065551228695, 122.57609727771928, 117.58801881703953, 109.39839746147165, 108.5405048841554, 104.36756364768038, 102.2496257447063, 101.01984431377139, 95.08884904808853, 94.53111882337808, 91.24851257741454, 87.40440832541844, 82.90147024126905, 82.47164005199711, 79.71982268784808, 77.01454431663655, 76.25950629134992, 1537.6850745054655, 238.55614018485872, 257.46228084118445, 500.33400767092377, 697.4807562447534, 306.61087354764294, 2911.7117729057973, 261.2152652645834, 3700.9644557795827, 522.21677269693, 387.25887135417713, 618.0879207327097, 276.4452848749677, 8758.057867190817, 9873.085967954528, 454.9223962291179, 1669.419405337395, 1115.4698674080819, 794.5340107422626, 3724.783129853921, 3870.033928964844, 3132.5081923175235, 832.6473374225671, 1819.16831735944], \"Category\": [\"Default\", \"Default\", \"Default\", \"Default\", \"Default\", \"Default\", \"Default\", \"Default\", \"Default\", \"Default\", \"Default\", \"Default\", \"Default\", \"Default\", \"Default\", \"Default\", \"Default\", \"Default\", \"Default\", \"Default\", \"Default\", \"Default\", \"Default\", \"Default\", \"Default\", \"Default\", \"Default\", \"Default\", \"Default\", \"Default\", \"Topic1\", \"Topic1\", \"Topic1\", \"Topic1\", \"Topic1\", \"Topic1\", \"Topic1\", \"Topic1\", \"Topic1\", \"Topic1\", \"Topic1\", \"Topic1\", \"Topic1\", \"Topic1\", \"Topic1\", \"Topic1\", \"Topic1\", \"Topic1\", \"Topic1\", \"Topic1\", \"Topic1\", \"Topic1\", \"Topic1\", \"Topic1\", \"Topic1\", \"Topic1\", \"Topic1\", \"Topic1\", \"Topic1\", \"Topic1\", \"Topic1\", \"Topic1\", \"Topic1\", \"Topic1\", \"Topic1\", \"Topic1\", \"Topic1\", \"Topic1\", \"Topic1\", \"Topic1\", \"Topic1\", \"Topic1\", \"Topic1\", \"Topic1\", \"Topic1\", \"Topic1\", \"Topic1\", \"Topic1\", \"Topic1\", \"Topic1\", \"Topic1\", \"Topic1\", \"Topic1\", \"Topic1\", \"Topic1\", \"Topic1\", \"Topic1\", \"Topic1\", \"Topic1\", \"Topic1\", \"Topic1\", \"Topic1\", \"Topic1\", \"Topic1\", \"Topic1\", \"Topic1\", \"Topic1\", \"Topic1\", \"Topic2\", \"Topic2\", \"Topic2\", \"Topic2\", \"Topic2\", \"Topic2\", \"Topic2\", \"Topic2\", \"Topic2\", \"Topic2\", \"Topic2\", \"Topic2\", \"Topic2\", \"Topic2\", \"Topic2\", \"Topic2\", \"Topic2\", \"Topic2\", \"Topic2\", \"Topic2\", \"Topic2\", \"Topic2\", \"Topic2\", \"Topic2\", \"Topic2\", \"Topic2\", \"Topic2\", \"Topic2\", \"Topic2\", \"Topic2\", \"Topic2\", \"Topic2\", \"Topic2\", \"Topic2\", \"Topic2\", \"Topic2\", \"Topic2\", \"Topic2\", \"Topic2\", \"Topic2\", \"Topic2\", \"Topic2\", \"Topic2\", \"Topic2\", \"Topic2\", \"Topic2\", \"Topic2\", \"Topic2\", \"Topic2\", \"Topic2\", \"Topic2\", \"Topic2\", \"Topic2\", \"Topic2\", \"Topic2\", \"Topic2\", \"Topic2\", \"Topic2\", \"Topic3\", \"Topic3\", \"Topic3\", \"Topic3\", \"Topic3\", \"Topic3\", \"Topic3\", \"Topic3\", \"Topic3\", \"Topic3\", \"Topic3\", \"Topic3\", \"Topic3\", \"Topic3\", \"Topic3\", \"Topic3\", \"Topic3\", \"Topic3\", \"Topic3\", \"Topic3\", \"Topic3\", \"Topic3\", \"Topic3\", \"Topic3\", \"Topic3\", \"Topic3\", \"Topic3\", \"Topic3\", \"Topic3\", \"Topic3\", \"Topic3\", \"Topic3\", \"Topic3\", \"Topic3\", \"Topic3\", \"Topic3\", \"Topic3\", \"Topic3\", \"Topic3\", \"Topic3\", \"Topic3\", \"Topic3\", \"Topic3\", \"Topic3\", \"Topic3\", \"Topic3\", \"Topic3\", \"Topic3\", \"Topic3\", \"Topic3\", \"Topic3\", \"Topic3\", \"Topic3\", \"Topic3\", \"Topic3\", \"Topic3\", \"Topic3\", \"Topic3\", \"Topic4\", \"Topic4\", \"Topic4\", \"Topic4\", \"Topic4\", \"Topic4\", \"Topic4\", \"Topic4\", \"Topic4\", \"Topic4\", \"Topic4\", \"Topic4\", \"Topic4\", \"Topic4\", \"Topic4\", \"Topic4\", \"Topic4\", \"Topic4\", \"Topic4\", \"Topic4\", \"Topic4\", \"Topic4\", \"Topic4\", \"Topic4\", \"Topic4\", \"Topic4\", \"Topic4\", \"Topic4\", \"Topic4\", \"Topic4\", \"Topic4\", \"Topic4\", \"Topic4\", \"Topic4\", \"Topic4\", \"Topic4\", \"Topic4\", \"Topic4\", \"Topic4\", \"Topic4\", \"Topic4\", \"Topic4\", \"Topic4\", \"Topic4\", \"Topic4\", \"Topic4\", \"Topic4\", \"Topic4\", \"Topic4\", \"Topic4\", \"Topic4\", \"Topic4\", \"Topic4\", \"Topic4\", \"Topic4\", \"Topic4\", \"Topic4\", \"Topic4\", \"Topic4\", \"Topic4\", \"Topic4\", \"Topic5\", \"Topic5\", \"Topic5\", \"Topic5\", \"Topic5\", \"Topic5\", \"Topic5\", \"Topic5\", \"Topic5\", \"Topic5\", \"Topic5\", \"Topic5\", \"Topic5\", \"Topic5\", \"Topic5\", \"Topic5\", \"Topic5\", \"Topic5\", \"Topic5\", \"Topic5\", \"Topic5\", \"Topic5\", \"Topic5\", \"Topic5\", \"Topic5\", \"Topic5\", \"Topic5\", \"Topic5\", \"Topic5\", \"Topic5\", \"Topic5\", \"Topic5\", \"Topic5\", \"Topic5\", \"Topic5\", \"Topic5\", \"Topic5\", \"Topic5\", \"Topic5\", \"Topic5\", \"Topic5\", \"Topic5\", \"Topic5\", \"Topic5\", \"Topic5\", \"Topic5\", \"Topic5\", \"Topic5\", \"Topic5\", \"Topic5\", \"Topic5\", \"Topic5\", \"Topic5\", \"Topic5\", \"Topic5\", \"Topic5\", \"Topic5\", \"Topic5\", \"Topic5\", \"Topic5\", \"Topic6\", \"Topic6\", \"Topic6\", \"Topic6\", \"Topic6\", \"Topic6\", \"Topic6\", \"Topic6\", \"Topic6\", \"Topic6\", \"Topic6\", \"Topic6\", \"Topic6\", \"Topic6\", \"Topic6\", \"Topic6\", \"Topic6\", \"Topic6\", \"Topic6\", \"Topic6\", \"Topic6\", \"Topic6\", \"Topic6\", \"Topic6\", \"Topic6\", \"Topic6\", \"Topic6\", \"Topic6\", \"Topic6\", \"Topic6\", \"Topic6\", \"Topic6\", \"Topic6\", \"Topic6\", \"Topic6\", \"Topic6\", \"Topic6\", \"Topic6\", \"Topic6\", \"Topic6\", \"Topic6\", \"Topic6\", \"Topic6\", \"Topic6\", \"Topic6\", \"Topic6\", \"Topic6\", \"Topic6\", \"Topic6\", \"Topic6\", \"Topic6\", \"Topic6\", \"Topic6\", \"Topic6\", \"Topic6\", \"Topic6\", \"Topic6\", \"Topic6\", \"Topic6\", \"Topic6\", \"Topic6\", \"Topic6\", \"Topic6\", \"Topic6\", \"Topic6\", \"Topic6\", \"Topic7\", \"Topic7\", \"Topic7\", \"Topic7\", \"Topic7\", \"Topic7\", \"Topic7\", \"Topic7\", \"Topic7\", \"Topic7\", \"Topic7\", \"Topic7\", \"Topic7\", \"Topic7\", \"Topic7\", \"Topic7\", \"Topic7\", \"Topic7\", \"Topic7\", \"Topic7\", \"Topic7\", \"Topic7\", \"Topic7\", \"Topic7\", \"Topic7\", \"Topic7\", \"Topic7\", \"Topic7\", \"Topic7\", \"Topic7\", \"Topic7\", \"Topic7\", \"Topic7\", \"Topic7\", \"Topic7\", \"Topic7\", \"Topic7\", \"Topic7\", \"Topic7\", \"Topic7\", \"Topic7\", \"Topic7\", \"Topic7\", \"Topic7\", \"Topic7\", \"Topic7\", \"Topic7\", \"Topic7\", \"Topic7\", \"Topic7\", \"Topic7\", \"Topic7\", \"Topic7\", \"Topic7\", \"Topic7\", \"Topic7\", \"Topic7\", \"Topic7\", \"Topic7\", \"Topic7\", \"Topic7\", \"Topic7\", \"Topic7\", \"Topic7\", \"Topic8\", \"Topic8\", \"Topic8\", \"Topic8\", \"Topic8\", \"Topic8\", \"Topic8\", \"Topic8\", \"Topic8\", \"Topic8\", \"Topic8\", \"Topic8\", \"Topic8\", \"Topic8\", \"Topic8\", \"Topic8\", \"Topic8\", \"Topic8\", \"Topic8\", \"Topic8\", \"Topic8\", \"Topic8\", \"Topic8\", \"Topic8\", \"Topic8\", \"Topic8\", \"Topic8\", \"Topic8\", \"Topic8\", \"Topic8\", \"Topic8\", \"Topic8\", \"Topic8\", \"Topic8\", \"Topic8\", \"Topic8\", \"Topic8\", \"Topic8\", \"Topic8\", \"Topic8\", \"Topic8\", \"Topic8\", \"Topic8\", \"Topic8\", \"Topic8\", \"Topic8\", \"Topic8\", \"Topic8\", \"Topic8\", \"Topic8\", \"Topic8\", \"Topic8\", \"Topic8\", \"Topic8\", \"Topic8\", \"Topic8\", \"Topic8\", \"Topic8\", \"Topic8\", \"Topic9\", \"Topic9\", \"Topic9\", \"Topic9\", \"Topic9\", \"Topic9\", \"Topic9\", \"Topic9\", \"Topic9\", \"Topic9\", \"Topic9\", \"Topic9\", \"Topic9\", \"Topic9\", \"Topic9\", \"Topic9\", \"Topic9\", \"Topic9\", \"Topic9\", \"Topic9\", \"Topic9\", \"Topic9\", \"Topic9\", \"Topic9\", \"Topic9\", \"Topic9\", \"Topic9\", \"Topic9\", \"Topic9\", \"Topic9\", \"Topic9\", \"Topic9\", \"Topic9\", \"Topic9\", \"Topic9\", \"Topic9\", \"Topic9\", \"Topic9\", \"Topic9\", \"Topic9\", \"Topic9\", \"Topic9\", \"Topic9\", \"Topic9\", \"Topic9\", \"Topic9\", \"Topic9\", \"Topic9\", \"Topic9\", \"Topic9\", \"Topic9\", \"Topic9\", \"Topic9\", \"Topic9\", \"Topic9\", \"Topic10\", \"Topic10\", \"Topic10\", \"Topic10\", \"Topic10\", \"Topic10\", \"Topic10\", \"Topic10\", \"Topic10\", \"Topic10\", \"Topic10\", \"Topic10\", \"Topic10\", \"Topic10\", \"Topic10\", \"Topic10\", \"Topic10\", \"Topic10\", \"Topic10\", \"Topic10\", \"Topic10\", \"Topic10\", \"Topic10\", \"Topic10\", \"Topic10\", \"Topic10\", \"Topic10\", \"Topic10\", \"Topic10\", \"Topic10\", \"Topic10\", \"Topic10\", \"Topic10\", \"Topic10\", \"Topic10\", \"Topic10\", \"Topic10\", \"Topic10\", \"Topic10\", \"Topic10\", \"Topic10\", \"Topic10\", \"Topic10\", \"Topic10\", \"Topic10\", \"Topic10\", \"Topic10\", \"Topic10\", \"Topic10\", \"Topic10\", \"Topic10\", \"Topic10\", \"Topic10\", \"Topic10\"], \"logprob\": [30.0, 29.0, 28.0, 27.0, 26.0, 25.0, 24.0, 23.0, 22.0, 21.0, 20.0, 19.0, 18.0, 17.0, 16.0, 15.0, 14.0, 13.0, 12.0, 11.0, 10.0, 9.0, 8.0, 7.0, 6.0, 5.0, 4.0, 3.0, 2.0, 1.0, -4.34060001373291, -4.813399791717529, -4.9029998779296875, -5.255199909210205, -5.150000095367432, -5.5366997718811035, -4.544600009918213, -5.984099864959717, -5.9959001541137695, -6.056000232696533, -6.094900131225586, -6.225500106811523, -6.323699951171875, -6.348800182342529, -5.53410005569458, -6.5833001136779785, -6.575900077819824, -6.589700222015381, -6.604400157928467, -6.644800186157227, -6.653600215911865, -6.712100028991699, -6.69950008392334, -6.759300231933594, -6.7581000328063965, -6.78410005569458, -6.813399791717529, -6.846799850463867, -6.873700141906738, -6.892499923706055, -3.3011999130249023, -6.376800060272217, -5.197700023651123, -6.074399948120117, -4.77869987487793, -4.591100215911865, -5.618800163269043, -3.771699905395508, -5.816800117492676, -5.530600070953369, -5.6616997718811035, -4.888700008392334, -6.0503997802734375, -4.730400085449219, -4.525700092315674, -4.0883002281188965, -5.320799827575684, -5.129000186920166, -4.606500148773193, -4.240200042724609, -4.56820011138916, -4.115900039672852, -4.780900001525879, -3.934999942779541, -3.7474000453948975, -4.433000087738037, -5.125100135803223, -4.875199794769287, -4.8815999031066895, -5.072299957275391, -5.066999912261963, -5.154200077056885, -4.982100009918213, -4.848299980163574, -4.906300067901611, -4.665599822998047, -4.776599884033203, -4.850599765777588, -3.634700059890747, -3.626699924468994, -4.547500133514404, -3.7715001106262207, -4.895699977874756, -4.52239990234375, -5.2469000816345215, -5.654399871826172, -5.513400077819824, -5.256400108337402, -5.853600025177002, -5.968500137329102, -6.051300048828125, -6.038400173187256, -6.100500106811523, -6.136099815368652, -6.242099761962891, -3.454200029373169, -5.675899982452393, -6.356900215148926, -6.3881001472473145, -6.407599925994873, -3.8457000255584717, -6.5015997886657715, -6.530399799346924, -6.594299793243408, -6.513299942016602, -6.599299907684326, -6.614200115203857, -6.644499778747559, -5.760499954223633, -6.354400157928467, -1.8990000486373901, -4.329599857330322, -5.483500003814697, -5.524600028991699, -3.324899911880493, -4.9506001472473145, -3.7679998874664307, -3.612799882888794, -5.331699848175049, -5.176400184631348, -4.000699996948242, -4.479300022125244, -5.0578999519348145, -4.778800010681152, -5.349800109863281, -5.3105998039245605, -4.637499809265137, -4.133900165557861, -4.512800216674805, -5.004199981689453, -5.0131001472473145, -5.031199932098389, -5.006199836730957, -5.151000022888184, -5.136899948120117, -5.103700160980225, -3.2137999534606934, -3.3368000984191895, -3.6958000659942627, -3.917099952697754, -4.246399879455566, -4.684100151062012, -5.190999984741211, -5.197800159454346, -5.411799907684326, -5.481200218200684, -4.524899959564209, -5.563799858093262, -5.670000076293945, -5.791900157928467, -5.813600063323975, -5.679900169372559, -5.861499786376953, -5.8927998542785645, -5.918300151824951, -6.058000087738037, -6.111499786376953, -6.124899864196777, -6.204400062561035, -5.575099945068359, -6.326399803161621, -6.340199947357178, -6.374800205230713, -3.5420000553131104, -6.467800140380859, -6.553100109100342, -5.431300163269043, -5.9542999267578125, -5.18720006942749, -6.008299827575684, -5.044000148773193, -3.8620998859405518, -4.074699878692627, -2.891200065612793, -3.0985000133514404, -3.2744998931884766, -3.5964999198913574, -4.519700050354004, -5.5346999168396, -4.746099948883057, -5.477200031280518, -4.228700160980225, -3.621799945831299, -5.392000198364258, -4.015399932861328, -5.211699962615967, -4.975100040435791, -5.14169979095459, -4.862500190734863, -5.10860013961792, -5.149799823760986, -4.9191999435424805, -5.094600200653076, -5.168700218200684, -4.604499816894531, -4.901299953460693, -5.15880012512207, -5.395299911499023, -5.705100059509277, -5.794400215148926, -5.837100028991699, -5.855299949645996, -5.862599849700928, -5.877600193023682, -5.414599895477295, -5.931700229644775, -6.020500183105469, -5.821800231933594, -6.1265997886657715, -6.132800102233887, -5.000899791717529, -6.19890022277832, -6.323200225830078, -6.4653000831604, -6.48330020904541, -6.509099960327148, -6.518899917602539, -6.578199863433838, -6.591899871826172, -6.591899871826172, -6.397299766540527, -6.695700168609619, -6.719299793243408, -6.729100227355957, -2.788300037384033, -5.237599849700928, -3.922499895095825, -4.997700214385986, -5.938899993896484, -3.0615999698638916, -3.474400043487549, -4.647799968719482, -4.883699893951416, -4.98859977722168, -4.326700210571289, -3.3413000106811523, -3.543800115585327, -5.280700206756592, -4.077499866485596, -4.670499801635742, -4.226500034332275, -4.900300025939941, -5.362500190734863, -4.956200122833252, -4.374100208282471, -4.944399833679199, -4.924300193786621, -4.594799995422363, -4.721499919891357, -4.044899940490723, -4.1149001121521, -4.545899868011475, -4.528600215911865, -5.096799850463867, -4.985199928283691, -4.250699996948242, -4.839900016784668, -4.876399993896484, -3.3987998962402344, -4.765999794006348, -4.994500160217285, -5.551599979400635, -5.454699993133545, -5.806600093841553, -5.825900077819824, -5.864799976348877, -4.044099807739258, -5.917200088500977, -5.963799953460693, -5.966599941253662, -6.014900207519531, -6.101399898529053, -6.124599933624268, -6.205900192260742, -6.234499931335449, -6.241000175476074, -6.262599945068359, -6.519800186157227, -6.554200172424316, -6.562099933624268, -6.570700168609619, -6.61899995803833, -6.6697001457214355, -6.7210001945495605, -6.743199825286865, -3.823199987411499, -4.826000213623047, -4.054299831390381, -2.6040000915527344, -5.446199893951416, -4.570400238037109, -6.0609002113342285, -2.746000051498413, -4.283899784088135, -3.949700117111206, -4.693600177764893, -3.5376999378204346, -3.3703999519348145, -4.452899932861328, -4.439899921417236, -5.405099868774414, -4.949699878692627, -5.425000190734863, -3.795799970626831, -4.922100067138672, -3.7183001041412354, -5.09630012512207, -4.82420015335083, -4.779099941253662, -4.890600204467773, -5.27370023727417, -5.112299919128418, -5.016300201416016, -5.050899982452393, -5.0777997970581055, -4.150400161743164, -4.102499961853027, -4.696300029754639, -5.0665998458862305, -3.33870005607605, -5.470099925994873, -5.527599811553955, -5.743899822235107, -5.899499893188477, -5.989299774169922, -6.069699764251709, -6.068900108337402, -6.238399982452393, -6.239799976348877, -6.424099922180176, -5.378900051116943, -5.356299877166748, -6.489299774169922, -6.528600215911865, -6.534999847412109, -6.262400150299072, -6.5655999183654785, -6.65339994430542, -6.680099964141846, -6.685999870300293, -6.695400238037109, -6.723999977111816, -6.748799800872803, -6.753300189971924, -6.661799907684326, -5.86299991607666, -5.816299915313721, -3.6287999153137207, -5.9593000411987305, -6.118000030517578, -2.8436999320983887, -5.486000061035156, -5.1585001945495605, -4.2104997634887695, -5.182199954986572, -5.660299777984619, -5.825200080871582, -4.461299896240234, -5.262400150299072, -5.111199855804443, -4.417099952697754, -4.318999767303467, -3.9052999019622803, -5.1407999992370605, -3.6054999828338623, -3.4463000297546387, -5.090000152587891, -3.7667999267578125, -4.8414998054504395, -5.4471001625061035, -4.230299949645996, -5.39900016784668, -4.2743000984191895, -4.492099761962891, -4.707600116729736, -4.989699840545654, -5.016300201416016, -5.032299995422363, -4.803899765014648, -5.090199947357178, -5.129300117492676, -2.9971001148223877, -3.737600088119507, -4.434599876403809, -5.231599807739258, -5.279399871826172, -4.645500183105469, -5.390399932861328, -6.137700080871582, -6.162399768829346, -6.289299964904785, -6.343100070953369, -6.353799819946289, -6.363900184631348, -6.377900123596191, -6.306000232696533, -6.453100204467773, -6.4542999267578125, -6.48330020904541, -6.502699851989746, -6.595900058746338, -6.640600204467773, -6.662399768829346, -6.693600177764893, -6.696800231933594, -6.711999893188477, -6.760499954223633, -6.769000053405762, -6.815199851989746, -6.822400093078613, -6.83650016784668, -3.8951001167297363, -3.7995998859405518, -5.3709001541137695, -2.678100109100342, -3.278899908065796, -5.768199920654297, -3.5773000717163086, -5.982100009918213, -6.437099933624268, -4.529300212860107, -4.173600196838379, -4.14109992980957, -5.300899982452393, -4.933599948883057, -4.915800094604492, -4.63640022277832, -4.685800075531006, -5.380099773406982, -5.332399845123291, -5.328000068664551, -4.101600170135498, -3.8689000606536865, -4.1209001541137695, -5.012800216674805, -4.558499813079834, -3.708199977874756, -4.303400039672852, -4.823800086975098, -4.430200099945068, -4.971099853515625, -5.008800029754639, -4.828499794006348, -5.076300144195557, -4.993299961090088, -3.6851999759674072, -4.041399955749512, -4.052800178527832, -4.468999862670898, -4.473199844360352, -4.526199817657471, -3.59879994392395, -5.2769999504089355, -5.343400001525879, -2.8477001190185547, -5.44950008392334, -5.875, -5.964000225067139, -5.98390007019043, -6.000199794769287, -6.162399768829346, -6.232900142669678, -6.238399982452393, -6.263899803161621, -6.284900188446045, -6.2866997718811035, -6.367599964141846, -6.376200199127197, -6.541399955749512, -6.5447998046875, -6.582399845123291, -6.634300231933594, -6.6768999099731445, -6.679900169372559, -6.694200038909912, -3.8736000061035156, -4.5808000564575195, -4.125899791717529, -4.9756999015808105, -5.284900188446045, -3.527899980545044, -4.665800094604492, -4.84060001373291, -4.167699813842773, -4.192500114440918, -4.498000144958496, -5.080399990081787, -3.9258999824523926, -3.6533000469207764, -4.661900043487549, -3.8348000049591064, -4.655700206756592, -4.359799861907959, -4.676700115203857, -3.9446001052856445, -4.604599952697754, -3.8935999870300293, -4.847400188446045, -4.620999813079834, -4.59060001373291, -4.703100204467773, -4.579100131988525, -4.6132001876831055, -4.670000076293945, -3.78629994392395, -4.057600021362305, -4.720399856567383, -3.185499906539917, -4.931399822235107, -5.088900089263916, -5.211699962615967, -5.3383002281188965, -3.4997000694274902, -5.5269999504089355, -4.916600227355957, -5.634399890899658, -5.6616997718811035, -5.704999923706055, -5.671800136566162, -3.944200038909912, -5.7357001304626465, -5.760799884796143, -5.878600120544434, -5.9141998291015625, -5.953400135040283, -6.070899963378906, -6.072400093078613, -6.085400104522705, -6.0929999351501465, -6.085700035095215, -6.1855998039245605, -6.19950008392334, -6.206099987030029, -6.283999919891357, -5.906700134277344, -2.7411000728607178, -4.9253997802734375, -3.741499900817871, -3.0664000511169434, -5.555500030517578, -4.114299774169922, -5.585899829864502, -5.481299877166748, -4.168600082397461, -4.325799942016602, -5.534800052642822, -4.956299781799316, -5.045100212097168, -3.520699977874756, -4.343500137329102, -4.098499774932861, -5.080399990081787, -5.244100093841553, -4.470200061798096, -4.867800235748291, -4.3506999015808105, -4.62529993057251, -4.848299980163574, -5.2241997718811035, -3.071700096130371, -3.4001998901367188, -3.4858999252319336, -3.552799940109253, -3.646399974822998, -4.383399963378906, -4.8597002029418945, -4.85260009765625, -5.084400177001953, -5.344399929046631, -5.506999969482422, -5.5355000495910645, -5.55679988861084, -5.586900234222412, -5.635900020599365, -5.677800178527832, -5.750500202178955, -5.758600234985352, -5.797999858856201, -5.818699836730957, -5.830900192260742, -5.892000198364258, -5.898099899291992, -5.933599948883057, -5.977099895477295, -6.0304999351501465, -6.035799980163574, -6.070099830627441, -6.105000019073486, -6.114999771118164, -3.2553000450134277, -5.082399845123291, -5.080900192260742, -4.527699947357178, -4.328199863433838, -5.085999965667725, -3.533400058746338, -5.208399772644043, -3.4830000400543213, -4.947000026702881, -5.117499828338623, -4.909999847412109, -5.315199851989746, -3.9526000022888184, -3.928999900817871, -5.168700218200684, -4.805699825286865, -4.957600116729736, -5.127600193023682, -4.809800148010254, -4.85860013961792, -4.960000038146973, -5.1483001708984375, -5.117499828338623], \"loglift\": [30.0, 29.0, 28.0, 27.0, 26.0, 25.0, 24.0, 23.0, 22.0, 21.0, 20.0, 19.0, 18.0, 17.0, 16.0, 15.0, 14.0, 13.0, 12.0, 11.0, 10.0, 9.0, 8.0, 7.0, 6.0, 5.0, 4.0, 3.0, 2.0, 1.0, 2.0204, 2.0198, 2.0196, 2.0188, 2.0181, 2.0179, 2.0165, 2.0158, 2.0158, 2.0154, 2.0151, 2.0143, 2.0136, 2.0134, 2.0123, 2.0112, 2.0112, 2.0112, 2.011, 2.0106, 2.0105, 2.0098, 2.0097, 2.0093, 2.0089, 2.0089, 2.0086, 2.0082, 2.0078, 2.0075, 2.0011, 2.0051, 1.9637, 1.9864, 1.9453, 1.9319, 1.9572, 1.843, 1.9588, 1.921, 1.9274, 1.8036, 1.9282, 1.6742, 1.5845, 1.4629, 1.7469, 1.689, 1.515, 1.3464, 1.4547, 1.1918, 1.4712, 0.917, 0.7319, 1.022, 1.4793, 1.1677, 1.1517, 1.3776, 1.3062, 1.4066, 0.8504, 0.3064, 0.4915, -0.675, -0.1381, -0.142, 2.2009, 2.2008, 2.1999, 2.199, 2.1988, 2.1987, 2.1983, 2.1967, 2.1963, 2.1956, 2.1955, 2.1949, 2.1943, 2.1942, 2.1939, 2.1937, 2.1928, 2.1924, 2.1922, 2.1917, 2.1914, 2.1911, 2.1909, 2.1902, 2.1899, 2.1891, 2.1891, 2.189, 2.1889, 2.1885, 2.186, 2.18, 1.9718, 2.058, 2.1209, 2.1127, 1.5207, 1.8564, 1.5479, 1.4059, 1.8024, 1.7179, 1.0911, 1.264, 1.5558, 1.2844, 1.6695, 1.6342, 0.7872, -0.1433, 0.2945, 0.8751, 0.6569, 0.5259, -0.0914, 0.6416, 0.5112, 0.1438, 2.2113, 2.2112, 2.211, 2.2108, 2.2105, 2.2098, 2.2086, 2.2086, 2.2078, 2.2076, 2.2074, 2.2072, 2.2067, 2.2061, 2.2059, 2.2058, 2.2057, 2.2055, 2.2053, 2.2044, 2.204, 2.2038, 2.2032, 2.2025, 2.2021, 2.202, 2.2016, 2.2012, 2.2006, 2.1997, 2.1966, 2.1865, 2.1445, 2.1762, 2.09, 1.9186, 1.9303, 1.7473, 1.7681, 1.7548, 1.8014, 1.8974, 2.082, 1.7514, 2.0088, 1.1959, 0.3689, 1.9223, 0.4639, 1.7311, 1.277, 1.2481, 0.2922, 1.045, 1.0006, -0.0672, 0.5422, -0.0081, 2.2374, 2.2368, 2.236, 2.2353, 2.2339, 2.2333, 2.2331, 2.233, 2.233, 2.2329, 2.2327, 2.2325, 2.2319, 2.2317, 2.2311, 2.2311, 2.2309, 2.2305, 2.2288, 2.2279, 2.2277, 2.2274, 2.2272, 2.2265, 2.2263, 2.2263, 2.2258, 2.2249, 2.2246, 2.2245, 2.1265, 2.1914, 2.1445, 2.1703, 2.2016, 2.0663, 2.0701, 2.0954, 2.0574, 2.0607, 1.9335, 1.5906, 1.475, 1.9665, 1.4847, 1.6784, 1.4103, 1.6501, 1.8717, 1.5516, 1.08, 1.5124, 1.4948, 1.0425, 1.0218, -0.1741, -0.1243, 0.5226, 0.2787, 1.2695, -0.1332, 2.2457, 2.2453, 2.2452, 2.2452, 2.245, 2.2449, 2.243, 2.243, 2.2416, 2.2415, 2.2413, 2.2411, 2.2409, 2.2406, 2.2406, 2.2403, 2.2396, 2.2394, 2.2387, 2.2385, 2.2384, 2.2382, 2.2355, 2.2351, 2.235, 2.2349, 2.2337, 2.2335, 2.2325, 2.2325, 2.2108, 2.2158, 2.1957, 2.1046, 2.1967, 2.139, 2.1992, 1.8962, 2.0281, 1.983, 1.8939, 1.6171, 1.5045, 1.7352, 1.6975, 1.9714, 1.7616, 1.9708, 0.6835, 1.4259, 0.2723, 1.5339, 1.1943, 0.5287, 0.1386, 1.455, 0.4743, -0.209, -0.4125, -0.1342, 2.2682, 2.2676, 2.2674, 2.2665, 2.265, 2.2649, 2.2648, 2.2635, 2.2627, 2.2621, 2.2615, 2.2613, 2.26, 2.2596, 2.2582, 2.2579, 2.2575, 2.2574, 2.2569, 2.2569, 2.2565, 2.2565, 2.2553, 2.2549, 2.2548, 2.2547, 2.2543, 2.2539, 2.2538, 2.2538, 2.2471, 2.2464, 2.1994, 2.2417, 2.2418, 2.123, 2.2176, 2.1975, 2.1462, 2.1928, 2.2027, 2.2114, 2.1082, 2.1482, 2.1187, 1.9882, 1.9654, 1.8722, 2.0783, 1.4629, 1.3993, 1.8235, 1.108, 1.6853, 1.9841, 0.8615, 1.9242, 0.5331, 0.7554, 0.9405, 1.354, 1.3211, 0.8469, -0.1618, 1.027, 0.4329, 2.3624, 2.362, 2.3611, 2.3591, 2.3589, 2.3587, 2.3584, 2.3535, 2.3533, 2.352, 2.3514, 2.3513, 2.3512, 2.351, 2.3505, 2.3501, 2.3501, 2.3497, 2.3495, 2.3482, 2.3475, 2.3472, 2.3467, 2.3466, 2.3464, 2.3455, 2.3454, 2.3446, 2.3444, 2.3442, 2.3427, 2.3041, 2.3286, 2.2654, 2.2332, 2.3125, 2.1601, 2.3052, 2.3287, 2.1198, 2.0399, 1.9427, 2.1107, 1.9809, 1.8814, 1.7542, 1.6874, 1.9189, 1.7892, 1.7683, 0.9669, 0.7732, 0.9084, 1.4758, 1.0788, 0.2825, 0.3351, 0.9569, 0.0491, 1.0474, 0.8704, 0.0463, 1.0611, -0.0614, 2.4005, 2.4002, 2.4002, 2.3996, 2.3996, 2.3995, 2.3992, 2.3973, 2.397, 2.3969, 2.3966, 2.394, 2.3933, 2.3931, 2.393, 2.3915, 2.3908, 2.3908, 2.3905, 2.3903, 2.3902, 2.3893, 2.3892, 2.387, 2.387, 2.3864, 2.3856, 2.385, 2.3849, 2.3846, 2.3683, 2.3296, 2.3108, 2.3323, 2.3193, 2.2032, 2.1926, 2.1898, 2.0922, 2.0902, 2.0135, 2.1353, 1.8668, 1.6625, 1.9295, 1.6192, 1.9204, 1.7848, 1.6896, 0.9221, 1.549, 0.097, 1.4894, 0.8822, 0.7656, 1.0401, 0.2283, -0.1339, 0.5775, 2.5881, 2.5877, 2.5864, 2.5861, 2.5857, 2.585, 2.5846, 2.584, 2.5829, 2.5829, 2.5824, 2.5822, 2.582, 2.5817, 2.5816, 2.5815, 2.5814, 2.5811, 2.5803, 2.5799, 2.5796, 2.5784, 2.5783, 2.5782, 2.5781, 2.5781, 2.5771, 2.5769, 2.5768, 2.5758, 2.5742, 2.4195, 2.4967, 2.4204, 2.2897, 2.5041, 2.2751, 2.4922, 2.4174, 2.0201, 2.0111, 2.3634, 1.9242, 1.9718, 0.47, 1.1105, 0.8334, 1.7307, 1.9611, 0.4046, 0.8022, -0.4799, -0.146, -0.0409, 1.2643, 2.6305, 2.6302, 2.6302, 2.6301, 2.6301, 2.629, 2.6277, 2.627, 2.6268, 2.6256, 2.6246, 2.6244, 2.6243, 2.624, 2.6237, 2.6234, 2.6228, 2.6227, 2.6224, 2.6223, 2.6222, 2.6216, 2.6213, 2.6211, 2.6208, 2.6202, 2.6201, 2.6198, 2.6194, 2.6192, 2.475, 2.5113, 2.4366, 2.3254, 2.1927, 2.2567, 1.5585, 2.2946, 1.369, 1.8632, 1.9918, 1.7317, 2.1311, 0.0381, -0.0582, 1.7795, 0.8424, 1.0937, 1.263, 0.0358, -0.0513, 0.0588, 1.1954, 0.4448]}, \"token.table\": {\"Topic\": [2, 3, 4, 5, 6, 7, 8, 9, 10, 7, 7, 9, 5, 4, 1, 5, 6, 1, 7, 8, 1, 7, 6, 9, 9, 2, 3, 1, 2, 3, 4, 5, 6, 7, 8, 9, 10, 2, 4, 1, 5, 6, 7, 9, 10, 10, 2, 4, 5, 6, 7, 8, 9, 10, 1, 2, 3, 4, 5, 6, 7, 8, 9, 10, 2, 3, 5, 7, 1, 5, 1, 6, 10, 2, 9, 5, 7, 3, 6, 7, 8, 9, 4, 5, 9, 3, 1, 5, 7, 9, 10, 1, 2, 4, 5, 6, 8, 9, 7, 8, 2, 4, 5, 6, 6, 8, 2, 1, 2, 3, 4, 5, 6, 7, 8, 9, 10, 1, 4, 5, 7, 5, 8, 1, 5, 8, 9, 8, 9, 7, 1, 3, 4, 8, 9, 1, 10, 5, 7, 8, 9, 2, 6, 7, 8, 9, 1, 6, 1, 5, 6, 7, 6, 2, 1, 2, 3, 4, 5, 6, 7, 8, 9, 10, 7, 2, 9, 2, 4, 9, 7, 2, 4, 7, 8, 9, 10, 1, 3, 4, 5, 8, 9, 3, 4, 7, 8, 9, 8, 4, 5, 6, 7, 9, 6, 3, 2, 4, 5, 7, 8, 10, 10, 9, 10, 3, 5, 7, 8, 8, 3, 3, 2, 3, 4, 10, 10, 1, 3, 10, 1, 6, 5, 2, 7, 10, 4, 2, 4, 7, 10, 10, 3, 4, 5, 6, 2, 4, 5, 7, 8, 10, 5, 2, 5, 8, 2, 4, 5, 6, 7, 8, 9, 10, 1, 4, 6, 7, 7, 8, 1, 3, 5, 4, 8, 3, 5, 4, 4, 5, 6, 7, 9, 1, 3, 5, 7, 3, 3, 7, 3, 10, 1, 3, 4, 5, 6, 7, 8, 9, 1, 3, 6, 10, 6, 2, 10, 2, 10, 1, 2, 5, 6, 7, 8, 10, 1, 2, 4, 6, 7, 10, 6, 10, 9, 4, 1, 3, 10, 1, 2, 5, 6, 10, 2, 2, 8, 2, 9, 10, 8, 3, 7, 6, 2, 2, 8, 9, 8, 2, 10, 2, 4, 6, 4, 10, 7, 8, 9, 4, 7, 6, 10, 8, 3, 7, 1, 4, 6, 8, 10, 7, 7, 8, 9, 1, 2, 3, 4, 5, 6, 7, 8, 9, 10, 1, 4, 5, 6, 7, 2, 1, 3, 5, 7, 1, 5, 1, 5, 1, 2, 3, 4, 5, 6, 8, 9, 10, 3, 4, 5, 6, 7, 9, 3, 2, 3, 4, 6, 9, 10, 9, 5, 1, 8, 8, 3, 2, 2, 5, 1, 4, 7, 8, 9, 3, 4, 5, 7, 10, 5, 1, 5, 6, 7, 10, 1, 3, 5, 7, 9, 1, 2, 6, 10, 2, 6, 1, 10, 10, 6, 6, 7, 9, 1, 3, 4, 7, 10, 1, 2, 5, 6, 8, 2, 7, 8, 7, 10, 10, 7, 10, 7, 2, 4, 1, 3, 4, 5, 10, 4, 7, 9, 8, 5, 5, 2, 2, 4, 1, 2, 3, 4, 5, 6, 7, 8, 9, 10, 6, 8, 2, 8, 9, 1, 5, 6, 7, 2, 6, 2, 3, 4, 7, 9, 10, 6, 1, 3, 4, 9, 3, 2, 2, 4, 10, 2, 3, 4, 5, 6, 7, 8, 9, 10, 1, 3, 6, 7, 3, 6, 9, 5, 6, 8, 6, 4, 4, 6, 8, 1, 2, 3, 4, 5, 6, 7, 8, 9, 10, 7, 9, 5, 9, 5, 7, 8, 9, 1, 3, 5, 7, 8, 9, 2, 5, 7, 6, 1, 3, 4, 4, 9, 5, 1, 4, 6, 9, 3, 4, 7, 8, 1, 2, 5, 6, 7, 9, 2, 4, 6, 1, 2, 4, 5, 6, 7, 8, 10, 1, 3, 5, 7, 9, 10, 9, 7, 5, 2, 4, 5, 6, 7, 9, 10, 9, 9, 4, 1, 3, 4, 5, 7, 9, 1, 2, 3, 4, 5, 6, 7, 8, 9, 10, 10, 1, 2, 4, 10, 4, 5, 6, 1, 3, 5, 4, 5, 10, 10, 1, 5, 6, 1, 2, 2, 4, 6, 8, 9, 10, 2, 3, 4, 5, 6, 7, 8, 9, 10, 1, 3, 5, 6, 7, 9, 3, 8, 2, 4, 6, 7, 8, 9, 10, 3, 7, 2, 5, 6, 5, 3, 6, 10, 9, 7, 3, 4, 2, 3, 4, 5, 6, 7, 8, 9, 10, 6, 4, 6, 6, 1, 5, 6, 7, 8, 4, 4, 6, 10, 1, 2, 4, 5, 7, 9, 3, 7, 9, 1, 9, 2, 6, 10, 1, 3, 4, 5, 6, 7, 9, 10, 5, 7, 5, 1, 2, 3, 4, 5, 6, 7, 8, 9, 10, 7, 1, 1, 1, 2, 3, 4, 5, 6, 7, 8, 9, 10, 1, 2, 3, 4, 5, 6, 7, 9, 10, 5, 8, 10, 1, 2, 3, 4, 5, 6, 7, 8, 9, 10, 6, 2, 4, 7, 8, 3, 2, 4, 3, 5, 4, 10, 2, 9, 5, 10, 1, 3, 10, 4, 4, 9, 6, 7, 9, 4, 5, 8, 2, 4, 1, 2, 6, 3, 2, 4, 6, 8, 9, 2, 2, 1, 2, 3, 4, 5, 6, 7, 8, 9, 10, 1, 2, 4, 1, 2, 3, 4, 5, 6, 7, 8, 9, 10, 3, 3, 7, 4, 9, 1, 2, 3, 4, 5, 6, 7, 8, 9, 10, 1, 2, 4, 5, 6, 7, 8, 10, 1, 4, 6, 7, 10, 6, 8, 9, 1, 6, 1, 1, 2, 6, 10, 3, 7, 2, 5, 6, 7, 8, 5, 5, 9, 10, 3, 1, 2, 3, 4, 5, 6, 7, 8, 9, 10, 5, 3, 1, 3, 2, 3, 10, 1, 3, 5, 8, 10, 7, 1, 2, 3, 4, 5, 6, 7, 8, 9, 10, 3, 5, 3, 1, 2, 3, 5, 6, 7, 8, 9, 10, 5, 8, 4, 1, 2, 7, 10, 10, 10, 1, 6, 5, 7, 1, 2, 4, 5, 6, 7, 8, 9, 5, 1, 2, 3, 4, 5, 6, 7, 8, 9, 10, 1, 3, 4, 5, 7, 8, 10, 6, 8, 2, 4, 6, 9, 7, 7, 3, 3, 2, 4, 6, 7, 8, 9, 2, 4, 8, 8, 8, 8, 1, 3, 4, 5, 6, 8, 9, 10, 1, 5, 8, 10, 8, 9, 8, 2, 3, 4, 5, 7, 8, 10, 2, 4, 5, 7, 9, 2, 5, 7, 8, 9, 1, 9, 7, 2, 4, 5, 6, 6, 1, 2, 4, 5, 7, 8, 1, 2, 3, 6, 7, 8, 9, 6, 4, 1, 2, 3, 4, 5, 6, 7, 8, 9, 10, 1, 2, 3, 4, 5, 6, 7, 8, 9, 10, 1, 2, 3, 4, 8, 9, 7, 1, 1, 1, 3, 6, 7, 7, 3, 6, 1, 7, 9, 7, 1, 6, 1, 3, 5, 7, 8, 9, 10, 1, 3, 4, 5, 6, 2, 4, 7, 9, 1, 3, 4, 5, 6, 7, 8, 9, 5, 6, 2, 6, 10, 1, 5, 8, 9, 8, 5, 9, 1, 10, 1, 2, 4, 5, 6, 7, 8, 9, 10, 4, 1, 6, 1, 2, 3, 4, 5, 6, 7, 8, 10, 8, 9, 3, 7, 8, 9, 2, 4, 6, 10, 1, 2, 4, 5, 6, 9, 10, 7, 1, 2, 4, 5, 7, 8, 9, 1, 2, 4, 1, 4, 6, 1, 4, 6, 8, 10, 3, 4, 8, 9, 8, 4, 9, 3, 7, 1, 1, 2, 3, 4, 5, 6, 7, 8, 9, 10, 1, 5, 7, 1, 2, 3, 4, 5, 6, 7, 8, 9, 10, 5, 10, 4, 1, 2, 4, 6, 8, 10, 8, 1, 2, 3, 4, 5, 6, 7, 8, 9, 3, 8, 1, 3, 5, 6, 7, 8, 9, 9, 6, 1, 2, 3, 4, 5, 6, 7, 8, 9, 10, 2, 4, 5, 7, 8, 1, 2, 3, 4, 5, 6, 7, 8, 9, 10, 1, 2, 3, 4, 5, 6, 7, 8, 9, 10, 4, 7, 1, 3, 4, 5, 6, 7, 8, 9, 4, 1, 2, 3, 4, 5, 6, 7, 8, 6, 1, 1, 2, 3, 5, 6, 8, 10, 1, 2, 6, 7, 8, 9, 6, 10, 2, 3, 1, 2, 4, 5, 6, 1, 2, 3, 4, 5, 6, 7, 8, 9, 10, 2, 4, 5, 6, 7, 8, 10, 6, 2, 4, 5, 6, 7, 8, 9, 4, 6, 7, 9, 3, 8, 1, 2, 4, 6, 8, 9, 10, 1, 3, 4, 5, 7, 8, 9, 10, 1, 2, 3, 4, 5, 6, 7, 8, 9, 10, 5, 2, 10, 9, 7, 2, 6, 9], \"Freq\": [0.015565877480941152, 0.018396037022930453, 0.5023533187031008, 0.21650720496218148, 0.06650874923674856, 0.1443381366414543, 0.02688651564889835, 0.005660319083978601, 0.0014150797709946501, 0.9983442825755815, 0.9889727976663163, 0.9993658796826652, 0.9857919815878381, 0.9840656273929675, 0.9095784636275145, 0.045896161008727794, 0.03755140446168638, 0.9943510551003021, 0.9837572421011415, 0.9905974708772683, 0.9937787888453996, 0.9905874519140453, 0.8844578843799767, 0.11435906620593922, 0.9958104210145319, 0.12010301382722928, 0.8793256369493573, 0.5719137750769643, 0.019027549551039687, 0.042947897558061006, 0.05436442728868482, 0.029356790735889805, 0.06632460129219549, 0.10166147902984062, 0.05164620592425058, 0.011960174003510661, 0.050558917378476884, 0.004422272911280835, 0.9950114050381879, 0.0009770054507171127, 0.5764332159230965, 0.14850482850900112, 0.27160751529935734, 0.0009770054507171127, 0.0009770054507171127, 0.9942811850025082, 0.033943057793640624, 0.002424504128117187, 0.0003030630160146484, 0.8637295956417479, 0.06849224161931054, 0.005455134288263671, 0.020002159056966794, 0.005152071272249023, 0.008052111211943692, 0.062403861892563625, 0.004361560239802834, 0.17983048373340915, 0.017446240959211337, 0.446556667629044, 0.24760241976726857, 0.007716606578112706, 0.02549835217115503, 0.0006710092676619745, 0.0011325931026876738, 0.004530372410750695, 0.9932841510570899, 0.9995481356940429, 0.9876443461578879, 0.9937758647684545, 0.07329939959595375, 0.8865736903510596, 0.038394923597880534, 0.9888351240058353, 0.9937260752878143, 0.951110427185013, 0.044032890147454304, 0.01508525318895405, 0.006285522162064188, 0.2413640510232648, 0.007542626594477025, 0.7303776752318586, 0.952806193704824, 0.04266296389723093, 0.9901412534723979, 0.9898013985335742, 0.2754753989900215, 0.051798792972482674, 0.0023544905896583034, 0.5391783450317515, 0.1294969824312067, 0.0013179451643741936, 0.0013179451643741936, 0.003953835493122581, 0.05139986141059355, 0.018451232301238712, 0.9133359989113162, 0.010543561314993549, 0.06772956541623121, 0.9312815244731791, 0.16369561544601605, 0.8337563346717083, 0.9914136887922396, 0.9917408130271862, 0.9781975754354199, 0.013399966786786573, 0.9842006596658511, 0.6456308458984479, 0.07892100178140084, 0.050395338486918614, 0.021869675192436377, 0.0123611207609423, 0.061805603804711506, 0.013311976204091708, 0.05705132658896447, 0.0009508554431494078, 0.05705132658896447, 0.7178989080436691, 0.1910537416567829, 0.04824589435777346, 0.04052655126052971, 0.7565723580484348, 0.2372886032061, 0.938974504617191, 0.057656329230880154, 0.9950560091751399, 0.9956086467921681, 0.9191949637741363, 0.0762465868568408, 0.9825946701735776, 0.00616307022308637, 0.01232614044617274, 0.17462032298744715, 0.2917186572260882, 0.5135891852571975, 0.9921378234942206, 0.999677236862961, 0.000849912370729303, 0.000849912370729303, 0.9977971232362017, 0.9891380522762949, 0.24393123335007966, 0.7547819838214507, 0.0006777302651777744, 0.002033190795533323, 0.996941220076506, 0.8365495977555789, 0.1627911613360926, 0.001093564177362407, 0.9492137059505693, 0.001093564177362407, 0.0470232596265835, 0.9862721905103408, 0.9828357270079437, 0.43598545380274784, 0.01022839774317297, 0.08225336518468263, 0.04815870604077273, 0.17942314374482585, 0.043044507169186244, 0.08949848025276348, 0.029832826750921162, 0.04688015632287611, 0.03452084238320877, 0.9846360127043652, 0.07347045884417579, 0.9217203018632962, 0.03402204685577052, 0.054435274969232825, 0.9049864463634957, 0.9791970442227608, 0.0013006564433508724, 0.0006503282216754362, 0.07283676082764885, 0.0006503282216754362, 0.06958511971927167, 0.855831939724874, 0.040712899046700425, 0.3118012268454618, 0.1856905395544629, 0.03475491382035402, 0.42599594368376786, 0.9923789742363488, 0.9885705749199339, 0.02975324433783747, 0.6821993880318449, 0.27840535773262204, 0.008500926953667848, 0.9986976602185293, 0.9849698460820983, 0.4757416872404841, 0.3129224810901964, 0.09868668352402837, 0.11250834788313599, 0.9926807704355814, 0.9878787718962274, 0.9894958085753395, 0.7368736026750105, 0.1756565259750025, 0.08617112595000122, 0.0011047580250000157, 0.9909705934662371, 0.9899045150910775, 0.9897908942901905, 0.9868265880732169, 0.16209386584051277, 0.2718993878615053, 0.5647141132508188, 0.9993912369552185, 0.987576262456798, 0.999330046952893, 0.9928126834915688, 0.4513954675259382, 0.00638466007816037, 0.465760952701799, 0.07629668793401642, 0.9993436829268574, 0.9401457570808428, 0.030165104505267683, 0.025137587087723068, 0.9137694397373982, 0.08476791972406682, 0.9864334542447529, 0.05290357846192534, 0.9428173447321695, 0.0028341202747460006, 0.9865030743504116, 0.5876256734978619, 0.18171556971620628, 0.09675764101772023, 0.13215677797542275, 0.9905316769053688, 0.00179067833012295, 0.8666883117795078, 0.1289288397688524, 0.00179067833012295, 0.17616235438342223, 0.48411028685520613, 0.008068504780920102, 0.10758006374560136, 0.2218838814753028, 0.0026895015936400342, 0.9986791231163406, 0.8658749472066652, 0.016313585961864708, 0.11670488418872445, 0.2104069999520966, 0.035990671044437574, 0.04498833880554697, 0.014534694075638252, 0.003460641446580536, 0.5855405327614267, 0.09136093418972616, 0.013150437497006038, 0.33643808248753604, 0.0037802031740172587, 0.041582234914189845, 0.6180632189518218, 0.9991448819082572, 0.9771635428279241, 0.015135266344747966, 0.9686570460638698, 0.015135266344747966, 0.9970004682903292, 0.9993268688923674, 0.9957593895977442, 0.9908855519428531, 0.996669286520866, 0.001388081649872442, 0.17212212458418283, 0.14852473653635132, 0.4122602500121153, 0.26651167677550885, 0.1311830866685799, 0.6187468921201352, 0.021863847778096652, 0.22738401689220517, 0.9960210487644278, 0.9894585364910508, 0.00988141015137534, 0.9975004257240164, 0.9995426290704, 0.007742586170192275, 0.6332790271703098, 0.0012904310283653791, 0.12130051666634564, 0.0003226077570913448, 0.23356801613413364, 0.0003226077570913448, 0.0022582542996394134, 0.19586915639853106, 0.003997329722419001, 0.06195861069749452, 0.7375073337863057, 0.9944595280469823, 0.996699417490183, 0.001751668572038986, 0.9848220536178917, 0.9947540649515517, 0.01586384538115929, 0.07210838809617859, 0.008653006571541432, 0.5581189238644223, 0.0014421677619235718, 0.1283529308111979, 0.21488299652661222, 0.047872839991121505, 0.1397886927740748, 0.024893876795383185, 0.32170548474033656, 0.0019149135996448603, 0.4634090911140562, 0.9987769219900786, 0.001233057928382813, 0.9973679417702438, 0.9797167776530837, 0.06127967196569786, 0.9353213089501253, 0.9863174473517548, 0.9799504167796431, 0.0004238539864963854, 0.0050862478379566246, 0.002119269932481927, 0.012715619594891562, 0.991123547921789, 0.06300149887740931, 0.9324221833856577, 0.991016724069285, 0.0017942366760457784, 0.006578867812167855, 0.997157092380798, 0.027955772042857936, 0.9644741354785988, 0.9953438770289466, 0.9980143795551379, 0.9882917396121502, 0.19894046765051293, 0.7957618706020517, 0.9894374180688064, 0.9907325080003461, 0.9943815451463087, 0.6165057954682549, 0.004165579699109831, 0.37698496276943966, 0.9820006134244637, 0.9834839438044882, 0.06352196579018334, 0.1945919374558433, 0.7412387134812238, 0.9924134039986847, 0.005837725905874616, 0.9497864411952293, 0.046787509418484204, 0.9854556355249858, 0.002324663944650446, 0.9949561683103908, 0.06471571221224025, 0.4174163437689496, 0.09869146112366638, 0.011325249637142043, 0.40609109413180755, 0.9885849829216762, 0.13116721359239358, 0.024030634551278216, 0.8450773150532839, 0.2752859441182025, 0.027547207389786325, 0.17421747376243243, 0.04001790262705446, 0.2092098723386475, 0.009678748542357358, 0.09883491299984147, 0.07929128613546604, 0.06495929310159072, 0.0212187948813219, 0.002108748857211399, 0.003163123285817098, 0.10121994514614714, 0.16869990857691192, 0.7243552324521155, 0.9925308487037752, 0.9440073310569594, 0.0027204822220661656, 0.051689162219257144, 0.0027204822220661656, 0.8049463037793579, 0.1940039717354055, 0.9907541766009363, 0.9908318343129889, 0.3002471619904135, 0.03723064808681127, 0.001200988647961654, 0.00600494323980827, 0.004803954591846616, 0.39992921977123075, 0.003602965943884962, 0.008406920535731577, 0.23779575229640748, 0.7461626194654618, 0.002735701629570896, 0.000683925407392724, 0.0020517762221781716, 0.24484529584659517, 0.00341962703696362, 0.9932047457318363, 0.7947869617938427, 0.00010128545454235283, 0.0895363418154399, 0.0011141399999658813, 0.04649002363493995, 0.06796253999791875, 0.9956522397123438, 0.99407798535717, 0.9902258241897879, 0.9782671597194452, 0.9872782544878426, 0.9945914892910882, 0.9991515673551744, 0.9931663973999221, 0.9910034713503441, 0.00926099927123441, 0.0009260999271234412, 0.6566048483305198, 0.18614608535181165, 0.1463237884855037, 0.32258954528208533, 0.01146985049891859, 0.017204775748377886, 0.0043011939370944715, 0.6451790905641707, 0.9982689631108839, 0.01810984943062264, 0.0033955967682417444, 0.7379763642978725, 0.2376917737769221, 0.001131865589413915, 0.11493827819194172, 0.016386312573189246, 0.8668359351217112, 0.000936360718467957, 0.000936360718467957, 0.9904586126681597, 0.03841102111269487, 0.9328390841654468, 0.021949154921539923, 0.9914670674752458, 0.9903619062143365, 0.9963224117485457, 0.9991191942960755, 0.9948094286736439, 0.9978615296587859, 0.9892883264699038, 0.9902373936673824, 0.9946467189116608, 0.984687332750207, 0.7481285875351127, 0.107781237187262, 0.053890618593631, 0.08876101886009811, 0.9917508393482967, 0.001163409081750109, 0.8027522664075752, 0.002326818163500218, 0.191962498488768, 0.04092596023479053, 0.9481180787726474, 0.9988444370115843, 0.9477833950343587, 0.050324782037222585, 0.994633211638113, 0.98353399455807, 0.9949244558027492, 0.9918390354440026, 0.23415691650413165, 0.7617509815387574, 0.11415120277709753, 0.003261462936488501, 0.15002729507847104, 0.03913755523786201, 0.6881686795990737, 0.0564893970299027, 0.02824469851495135, 0.9108915271071811, 0.9949868014088008, 0.9970476025447832, 0.9849371409570937, 0.9973901060134547, 0.9926658067380167, 0.005514810037433426, 0.12414756598681222, 0.18704170734576994, 0.08258274213219667, 0.07711368636185252, 0.08258274213219667, 0.13891401656674143, 0.0328143346220649, 0.11867851021646807, 0.0798482142470246, 0.0760198752077837, 0.9952115568171306, 0.9809298903312714, 0.5203140609530675, 0.4777780642277549, 0.001718626130315665, 0.5813179108513349, 0.3428684728881868, 0.07324917375338535, 0.0015584930585826671, 0.9932206843306285, 0.003638171004874097, 0.002584785216251551, 0.7302018235910631, 0.006461963040628877, 0.15379472036696729, 0.10597619386631359, 0.0012923926081257755, 0.9826010024808992, 0.08536411004030078, 0.15941490429212798, 0.18821243539006077, 0.56566578942368, 0.985551199131362, 0.9972396521670294, 0.915090891229725, 0.07443323038710681, 0.008756850633777272, 0.027760906468113782, 0.07721002111444146, 0.08935541769424124, 0.3487463875056794, 0.1353344190320547, 0.2680662530827237, 0.008675283271285557, 0.031231019776628007, 0.01214539657979978, 0.11291723013158013, 0.8167679646184296, 0.007527815342105342, 0.06022252273684273, 0.9953616406840459, 0.0035422122444272097, 0.989056800598292, 0.8967758550150823, 0.102142423640714, 0.9888762603264737, 0.9992426856384462, 0.996013689318555, 0.9937197849696251, 0.9263439871018677, 0.07073899537868808, 0.07068325647990885, 0.1844952796255248, 0.03234657499928032, 0.08805456527581866, 0.03414360694368478, 0.2647627064755908, 0.04252975601757228, 0.10901993796053738, 0.006589117129483029, 0.167123970829615, 0.005549865137755156, 0.9934258596581731, 0.9911446523802787, 0.9977660930403842, 0.0026034018484012624, 0.1672685687597811, 0.8200715822463976, 0.00911190646940442, 0.9932023740085053, 0.9920589644987334, 0.001192747140259726, 0.03578241420779178, 0.40195578626752765, 0.5605911559220712, 0.2037328541415383, 0.011409039831926145, 0.7839640227366395, 0.9938790410918182, 0.9844096858829913, 0.7548759697882865, 0.24392250724451436, 0.003812775954569642, 0.9913217481881069, 0.996259230931216, 0.998335726651564, 0.9958048243563609, 0.00720319179762271, 0.9925998297124095, 0.8841418611052612, 0.00529426264134887, 0.058236889054837565, 0.05029549509281426, 0.16907163355178845, 0.08930799998098503, 0.06203838166618044, 0.6721960914599331, 0.0013634809157402296, 0.004772183205090803, 0.10098778616220871, 0.8933534929733847, 0.005466575319321839, 0.07068407969277779, 0.12369713946236112, 0.017671019923194448, 0.00773107121639757, 0.024297652394392362, 0.0187754586683941, 0.7344517655577691, 0.001104438745199653, 0.010300252117382246, 0.10852051337956295, 0.025014897999356883, 0.011403850558530344, 0.8438849413312455, 0.0003678661470493659, 0.9891401458020835, 0.9906522063328261, 0.993539904374982, 0.07383550626621962, 0.5552430071219716, 0.0014767101253243926, 0.16539153403633197, 0.02215065187986589, 0.008860260751946356, 0.17277508466295394, 0.9812571669029446, 0.989874799226523, 0.9963773820803404, 0.7071087441805484, 0.08679313105465214, 0.014040065317664316, 0.05998936999365662, 0.13146606615631132, 0.0012763695743331198, 0.42581976631007157, 0.05422756940483166, 0.06133938178579319, 0.08178584238105759, 0.05956142869055281, 0.053338592857211466, 0.07556300654771625, 0.07378505345247587, 0.03200315571432688, 0.08178584238105759, 0.9950202471903713, 0.12042939491016338, 0.22402457332750825, 0.4752428809895695, 0.17870168276991985, 0.9944423751019862, 0.008752695674091815, 0.9890546111723751, 0.019309762356961514, 0.007241160883860568, 0.9679018381426959, 0.9923562091544627, 0.9961810583512514, 0.9984286460177051, 0.9949993305189158, 0.16866555120172985, 0.7589949804077843, 0.07083953150472654, 0.9954611439437205, 0.004477336479506989, 0.051163912089555584, 0.028424395605308655, 0.16201905495025934, 0.22171028572140752, 0.5343786373798027, 0.9968027889514022, 0.10884094567313103, 0.010994034916477883, 0.46999499267942946, 0.129729612014439, 0.1594135062889293, 0.0027485087291194707, 0.0027485087291194707, 0.0027485087291194707, 0.1121391561480744, 0.00021904342684232682, 0.0017523474147386146, 0.703786530444396, 0.08783641416377305, 0.20392943039020625, 0.002190434268423268, 0.9960172166382222, 0.9883313259096279, 0.01099088556959458, 0.14288151240472954, 0.1934395860248646, 0.017585416911351327, 0.19783594025270246, 0.01099088556959458, 0.4264463601002697, 0.019443772937516875, 0.9797501141293226, 0.9971578978043326, 0.000826830761031785, 0.000826830761031785, 0.9952431445156723, 0.033535083162398366, 0.07545393711539633, 0.8886797038035568, 0.9920185883334053, 0.9936412644595236, 0.6316624261241809, 0.36835303341609665, 0.24287130959239414, 0.3621513018774161, 0.012933975067050575, 0.1422737257375563, 0.052214936381796764, 0.08191517542465364, 0.0028742166815667945, 0.07616674206152005, 0.026346986247695617, 0.9945085255183929, 0.02308101432890535, 0.9694026018140247, 0.9834526692064521, 0.10450444661707282, 0.022940000476918423, 0.3160622287930983, 0.5505600114460422, 0.002548888941879825, 0.9796433210228536, 0.9856664868294109, 0.9834235552351407, 0.9885491405250064, 0.006292310396674813, 0.5238348405231782, 0.31461551983374064, 0.0031461551983374067, 0.006292310396674813, 0.1447231391235207, 0.013533441588994026, 0.9608743528185759, 0.013533441588994026, 0.989801558243859, 0.9848909454521318, 0.997599131325544, 0.9765085726747945, 0.014050483060068987, 0.2164040818300425, 0.6632038887118975, 0.060164065853610955, 0.022853017262224315, 0.002331940536961665, 0.0013991643221769989, 0.0013991643221769989, 0.03124800319528631, 0.09238291112879327, 0.9072475631366108, 0.9859134337288608, 0.3096990627344136, 0.08354672390044647, 0.08786810617115921, 0.08354672390044647, 0.04969589611319661, 0.07562418973747309, 0.09002879730651558, 0.026648524002728616, 0.10083225298329745, 0.09146925806341984, 0.9866902849923959, 0.9972677657263003, 0.993537272433511, 0.06734411756471168, 0.21366451845531248, 0.05693639030471078, 0.11693387686236299, 0.03795759353647385, 0.16101366290471972, 0.040406470538827004, 0.05509973255294592, 0.1677480746611909, 0.08387403733059545, 0.21381124599877568, 0.09304748668465239, 0.2979499307668124, 0.043554142703454306, 0.05840214589781373, 0.004949334398119808, 0.09898668796239615, 0.16629763577682555, 0.022766938231351116, 0.17001556029887593, 0.22065849315386024, 0.6077151942598118, 0.19662196886286634, 0.12081590857838775, 0.1883306810192515, 0.43647708148172437, 0.001776704537917467, 0.001184469691944978, 0.001776704537917467, 0.014213636303339735, 0.004737878767779912, 0.03434962106640436, 0.9820056608241342, 0.9991894316266006, 0.995794712286412, 0.00400139101112568, 0.9955460835680693, 0.9977187324893306, 0.02896792591290771, 0.9631835366041813, 0.03524502185095458, 0.9639513476236078, 0.9980667942059622, 0.9891260041752518, 0.9893777395151866, 0.009717102798809867, 0.9971454710426675, 0.9868966602277222, 0.9274284419460239, 0.05620778436036509, 0.01580843935135268, 0.984147164119235, 0.9338023033199223, 0.06298373306849916, 0.9319890235366857, 0.026439404923026544, 0.039659107384539816, 0.9096903565342728, 0.08286468713175058, 0.007284807659934116, 0.9827706182912106, 0.9864518246291737, 0.19828016266978793, 0.09274394705522339, 0.7067728379035989, 0.9956985879175809, 0.7080663001227129, 0.005725603505035415, 0.13168888061581452, 0.1526827601342777, 0.0019085345016784715, 0.9928612671217759, 0.9833074554867176, 0.6029648210523516, 0.0153866621002195, 0.050968318206977094, 0.05866164925708684, 0.0461599863006585, 0.017309994862746935, 0.04038998801307619, 0.07500997773857006, 0.02307999315032925, 0.07116331221351518, 0.9983638182534812, 0.9929175329368678, 0.9966964028743384, 0.024121088231830803, 0.08321775439981628, 0.018090816173873103, 0.09166013528095705, 0.4402098602309122, 0.019296870585464643, 0.2363866646719419, 0.05789061175639393, 0.0036181632347746205, 0.026533197055013884, 0.9968779836008985, 0.9979879407356042, 0.983470220793421, 0.9963846570144052, 0.9912851483577351, 0.06589089519124897, 0.148577508764581, 0.07028362153733224, 0.14082563874208112, 0.085787361582332, 0.17622584517816392, 0.05839742083616575, 0.11369409366333155, 0.07209239120924887, 0.06847485186541559, 0.17020622434045093, 0.12071363428400775, 0.5709754901633567, 0.016899908799761085, 0.053113999084963406, 0.00482854537136031, 0.002414272685680155, 0.061563953484843954, 0.02296956111627946, 0.09953476483721099, 0.15695866762790964, 0.0038282601860465766, 0.7158846547907098, 0.9878633849326812, 0.004276464869838447, 0.004276464869838447, 0.9116097388820164, 0.08623335367802858, 0.9941950291503898, 0.9986212356866611, 0.5060697319239432, 0.418816329868091, 0.07463521775854441, 0.992527128217929, 0.005038208772679843, 0.9885094146625862, 0.000654920346197153, 0.10871677746872739, 0.8166856717078498, 0.07335107877408113, 0.9950665374465538, 0.9837064980952657, 0.9903763612945258, 0.9877786765906966, 0.999292248035721, 0.5248670751988169, 0.060099283419711866, 0.02671079263098305, 0.03472403042027797, 0.06944806084055594, 0.060099283419711866, 0.12821180462871865, 0.009348777420844069, 0.02671079263098305, 0.061434823051261016, 0.9958959622759361, 0.9935090207522032, 0.760492856100382, 0.23780884099555918, 0.6697659398844582, 0.2673769167127679, 0.06088781271676893, 0.9891980468923091, 0.9846026275023858, 0.008674913017642167, 0.17478288412957174, 0.8234215874548713, 0.9781103621089728, 0.4191019710489572, 0.025533523446259997, 0.06603497442998275, 0.08276383461891171, 0.11269968969383723, 0.09861222848210757, 0.058991243824117925, 0.07307870503584758, 0.032577254052124825, 0.029935855074925515, 0.9972854379179467, 0.9891476322454239, 0.9955785938871161, 0.3389537274072489, 0.05074730947057681, 0.018192431696999235, 0.11202707939731107, 0.2891639143417773, 0.14266696436067822, 0.0019149928102104457, 0.024894906532735794, 0.0210649209123149, 0.9797256208008347, 0.9927943244075227, 0.9959297901036447, 0.9874494075134806, 0.9917165828205894, 0.982802839776721, 0.9953000846778959, 0.9955573430236535, 0.9990394039366534, 0.9864595135301664, 0.009219247790001555, 0.9974021295042187, 0.0017895971223161817, 0.06237245333132746, 0.09595762050973455, 0.0015992936751622424, 0.4893838645996462, 0.18391877264365789, 0.03838304820389382, 0.035184460853569334, 0.09275903315941006, 0.9975359275140037, 0.2904977166422971, 0.05281776666223584, 0.3810424594918443, 0.02640888333111792, 0.0653934253913396, 0.07042368888298112, 0.0163483563478349, 0.005030263491641509, 0.046529937297683954, 0.045272371424773576, 0.0988579695144866, 0.150888479785269, 0.07804576540617363, 0.615694371537592, 0.050296159928423005, 0.001734350342359414, 0.003468700684718828, 0.9833564959104674, 0.9964483525495659, 0.5673918592534345, 0.29793549366203514, 0.00657210647783901, 0.12706072523822087, 0.9945718392978146, 0.987359584259156, 0.998872672333882, 0.9945942512880473, 0.9915724064778602, 0.048584748354287395, 0.05084450409169611, 0.031636580323722026, 0.732160858920424, 0.1344554663758186, 0.13123033402880444, 0.8446265120207824, 0.02376187118217035, 0.9927079868210265, 0.9926327827900807, 0.9855092062231914, 0.1801364398405186, 0.1743874045264595, 0.0019163451046863682, 0.05174131782653194, 0.0785701492921411, 0.08048649439682747, 0.4235122681356874, 0.007665380418745473, 0.21432691705618878, 0.2556429492597914, 0.002582252012725166, 0.5267794105959338, 0.15353998183792647, 0.841626567111597, 0.9826552552539009, 0.0007120804294536712, 0.08544965153444055, 0.8413230273995125, 0.035960061687410394, 0.0032043619325415203, 0.0007120804294536712, 0.032755699754868875, 0.0071654949100537066, 0.14888306090889367, 0.7675041214768636, 0.06130478978601504, 0.01512715592122449, 0.0028722166451196473, 0.05169989961215365, 0.146483048901102, 0.7668818442469458, 0.028722166451196473, 0.9913067089041631, 0.9864977901350149, 0.984280097849274, 0.16051576614812904, 0.8366276296205514, 0.9549134213530659, 0.04080826586978914, 0.9970298591989326, 0.0012283682728552838, 0.08967088391843571, 0.3795657963122827, 0.01596878754711869, 0.02211062891139511, 0.4913473091421135, 0.18598727594616046, 0.1466248895025286, 0.11611904000871394, 0.001968119322181592, 0.007872477288726368, 0.5392646942777563, 0.000984059661090796, 0.9875508453300155, 0.9946113662555124, 0.06099474168691358, 0.12760742010814816, 0.11476642185827161, 0.06420499124938271, 0.05216655539012346, 0.2199020950291358, 0.0726318963508642, 0.16131504051407408, 0.05497552375728395, 0.07102677156962964, 0.2404145672387298, 0.4000861288765277, 0.005443348692197657, 0.020866169986757683, 0.026309518678955337, 0.1633004607659297, 0.006350573474230599, 0.009072247820329426, 0.02358784433285651, 0.10523807471582135, 0.03384848474366896, 0.07231267195238368, 0.19232093604357361, 0.0138471073951373, 0.6231198327811786, 0.06308126702229215, 0.9803927293290507, 0.987867880211379, 0.9869037242955284, 0.9629689260189385, 0.0267491368338594, 0.3558814739022911, 0.6399622995611375, 0.993441725925449, 0.9992747219124194, 0.9878562563900278, 0.9054203947539018, 0.076360756184064, 0.018181132424777143, 0.9830164102697695, 0.9915538327827648, 0.003998200938640181, 0.13089433377791096, 0.022654788538484585, 0.02391338790173373, 0.54371492492363, 0.0012585993632491437, 0.021396189175235444, 0.254237071376327, 0.5763984417217828, 0.3923016010197685, 0.0021916290559763603, 0.027395363199704505, 0.9902220211020478, 0.03493761016640465, 0.09433154744929255, 0.7756149456941831, 0.09083778643265208, 0.008773550095080265, 0.6418400241432156, 0.0005483468809425165, 0.08033281805807868, 0.00027417344047125827, 0.03920680198738993, 0.22783812903161563, 0.0013708672023562915, 0.052221434606632415, 0.9465135022452125, 0.06597923986102823, 0.9323153458623553, 0.0007171656506633503, 0.08095807783183208, 0.0014203171549444222, 0.6789116000634339, 0.23719296487571853, 0.9906257129233663, 0.9913911800683544, 0.9849524494127145, 0.9906165120585556, 0.9872173862330649, 0.1910814866894274, 0.0318469144482379, 0.00636938288964758, 0.00636938288964758, 0.6411845442245231, 0.02972378681835537, 0.08280197756541854, 0.00636938288964758, 0.00636938288964758, 0.9962358274602184, 0.1369294545102858, 0.8594508315007299, 0.11925087881779343, 0.2656728439485018, 0.004528514385485827, 0.1283079075887651, 0.006038019180647769, 0.2407660148283298, 0.2249162144791294, 0.0030190095903238844, 0.007547523975809711, 0.8117638292369471, 0.18686642603721804, 0.9997046814872447, 0.0010847004757398885, 0.9675528243599806, 0.03037161332071688, 0.15563070736941476, 0.0028820501364706435, 0.8271483891670747, 0.014410250682353217, 0.015324074670031137, 0.21147223044642968, 0.032180556807065386, 0.7018426198874261, 0.026050926939052935, 0.0030648149340062273, 0.007662037335015568, 0.9913700611030406, 0.015882874980020494, 0.04588386105339253, 0.0017647638866689435, 0.45177955498724953, 0.3158927357137409, 0.09176772210678506, 0.07412008324009563, 0.9969039661580414, 0.304285902343009, 0.6934207582239724, 0.0017189438005050259, 0.0022919250673400344, 0.9958414417592449, 0.010689016075076477, 0.11045316610912359, 0.7517941306137123, 0.08907513395897064, 0.03919305894194708, 0.000493338505507424, 0.31376328950272164, 0.45732479460538206, 0.2279223895444299, 0.9862425126998315, 0.01017828930325527, 0.9872940624157612, 0.9779095923218939, 0.021731324273819862, 0.9848473280555432, 0.36789165179838373, 0.06518348729850557, 0.04098658671042396, 0.08641750210029148, 0.09086183077973504, 0.07160307316881294, 0.10221955962720192, 0.10666388830664549, 0.024690714885797566, 0.042961843901287766, 0.4885538015658968, 0.0012368450672554348, 0.5083433226419838, 0.33126500258207736, 0.029721982287135816, 0.10240573897113157, 0.09321894444601687, 0.050257170049156925, 0.050257170049156925, 0.011618593075880364, 0.018373589050229414, 0.029721982287135816, 0.2831694312447121, 0.9971254990619681, 0.9954073929328193, 0.9909534945458321, 0.05131524709446872, 0.2518027241147186, 0.052508624933874974, 0.38784779780703105, 0.15036560776518743, 0.1062106277071562, 0.991689723883931, 0.08591030483430744, 0.0477279471301708, 0.00954558942603416, 0.00477279471301708, 0.00238639735650854, 0.01670478149555978, 0.0119319867825427, 0.808988703856395, 0.0119319867825427, 0.9927835517645336, 0.990838542885012, 0.1799362544883591, 0.14665536188990244, 0.5324942815753066, 0.068390405669356, 0.05705295874021142, 0.0010971722834656043, 0.014628963779541392, 0.9848566926291382, 0.9980206402092905, 0.041238227355155824, 0.09950963557439775, 0.11564633323511089, 0.03585932813491811, 0.07799403869344688, 0.23936101530057835, 0.11116391721824613, 0.05378899220237716, 0.010757798440475431, 0.21515596880950863, 0.0010279000195371612, 0.06372980121130399, 0.5992657113901649, 0.03597650068380064, 0.2991189056853139, 0.5672033489351813, 0.05140552624758171, 0.008712801058912156, 0.04704912571812563, 0.18471138244893767, 0.033108644023866186, 0.060989607412385086, 0.0026138403176736466, 0.029623523600301325, 0.013069201588368232, 0.00029268442366673346, 0.007024426168001603, 0.07492721245868376, 0.522734380668786, 0.00760979501533507, 0.02780502024833968, 0.08868338037102023, 0.09687854423368877, 0.17268380996337274, 0.0011707376946669338, 0.9899209854824176, 0.9948295386396073, 0.11545205870252294, 0.6285480700628848, 0.0006547375729821717, 0.06983867445143165, 0.0026189502919286866, 0.1316022521694165, 0.014185980747947052, 0.036883549944662336, 0.9856276944580278, 0.5091842250179563, 0.0016897706582454305, 0.13123885445706177, 0.07434990896279894, 0.16954032271062486, 0.003942798202572671, 0.03661169759531766, 0.0726601383045535, 0.9777789162853292, 0.9956061864814071, 0.07727413203933198, 0.32935952278097497, 0.0006868811736829509, 0.004464727628939181, 0.24452969783113054, 0.0013737623473659018, 0.3420668244941096, 0.07202710570763274, 0.9236417084861139, 0.031369270315716305, 0.8783395688400566, 0.010979244610500706, 0.07894599696121937, 0.9776905956754877, 0.9953731358272826, 0.9771329780732939, 0.01073772503377246, 0.0015052614157159802, 0.11138934476298253, 0.034621012561467546, 0.0015052614157159802, 0.8504726998795288, 0.06748071421336312, 0.0959116750240694, 0.15836844435521935, 0.09408478597599189, 0.13872938708838609, 0.025918988369599705, 0.12491353866229991, 0.09979381425123411, 0.12011795491109643, 0.07478827040567317, 0.0699235853290498, 0.30221210608318133, 0.14755061649943557, 0.04562810229099012, 0.27673147753106997, 0.15584663509779742, 0.0011851455140516915, 0.995378988092558, 0.07424383992645096, 0.2742476536058699, 0.003030360813324529, 0.003030360813324529, 0.02727324731992076, 0.6181936059182039, 0.0015151804066622645, 0.9943112890860563, 0.9835806961048101, 0.9794399631836844, 0.9956952816404392, 0.9922656464432762, 0.9986548372045214, 0.007246851339528237, 0.39132997233452477, 0.295803295586198, 0.03557545203041135, 0.25627501555240767, 0.0019764140016895193, 0.011858484010137114, 0.5401679052529548, 0.12981935844477088, 0.13578806458016265, 0.0074608826692397065, 0.0074608826692397065, 0.11788194617398737, 0.043273119481590294, 0.016413941872327354, 0.06321621260855827, 0.1362775730823838, 0.08860633078740544, 0.08187017698485416, 0.13679573875950315, 0.04663491094073971, 0.06217988125431961, 0.21866591574435731, 0.06787970370263224, 0.09741514729843406, 0.9896225243883733, 0.9842246361912559, 0.011929995590197041, 0.9985576907142479, 0.9844121158864481, 0.018035047606428812, 0.9738925707471557, 0.9877223010416617], \"Term\": [\"access\", \"access\", \"access\", \"access\", \"access\", \"access\", \"access\", \"access\", \"access\", \"action\", \"actionbar\", \"activity\", \"adapter\", \"administrator\", \"advantage\", \"advantage\", \"advantage\", \"algorithm\", \"alignment\", \"alpha\", \"analysis\", \"anchor\", \"android\", \"android\", \"animation\", \"annotation\", \"annotation\", \"answer\", \"answer\", \"answer\", \"answer\", \"answer\", \"answer\", \"answer\", \"answer\", \"answer\", \"answer\", \"apache\", \"apache\", \"api\", \"api\", \"api\", \"api\", \"api\", \"api\", \"apk\", \"app\", \"app\", \"app\", \"app\", \"app\", \"app\", \"app\", \"app\", \"application\", \"application\", \"application\", \"application\", \"application\", \"application\", \"application\", \"application\", \"application\", \"application\", \"argument\", \"argument\", \"argument\", \"array\", \"artifact\", \"ascii\", \"assembly\", \"assembly\", \"assembly\", \"asset\", \"assignment\", \"async\", \"async\", \"attribute\", \"attribute\", \"attribute\", \"attribute\", \"attribute\", \"authentication\", \"authentication\", \"authorization\", \"axis\", \"b\", \"b\", \"b\", \"b\", \"b\", \"background\", \"background\", \"background\", \"background\", \"background\", \"background\", \"background\", \"bar\", \"bar\", \"bash\", \"bash\", \"basis\", \"bean\", \"beta\", \"beta\", \"binding\", \"bit\", \"bit\", \"bit\", \"bit\", \"bit\", \"bit\", \"bit\", \"bit\", \"bit\", \"bit\", \"block\", \"block\", \"block\", \"block\", \"body\", \"body\", \"book\", \"book\", \"bootstrap\", \"border\", \"bottom\", \"bottom\", \"bound\", \"box\", \"box\", \"box\", \"box\", \"box\", \"bracket\", \"branch\", \"browser\", \"browser\", \"browser\", \"bucket\", \"build\", \"build\", \"button\", \"button\", \"button\", \"c\", \"c\", \"call\", \"call\", \"call\", \"call\", \"card\", \"care\", \"case\", \"case\", \"case\", \"case\", \"case\", \"case\", \"case\", \"case\", \"case\", \"case\", \"catch\", \"category\", \"category\", \"center\", \"center\", \"center\", \"chance\", \"change\", \"change\", \"change\", \"change\", \"change\", \"change\", \"character\", \"character\", \"character\", \"character\", \"character\", \"checkbox\", \"checkout\", \"child\", \"child\", \"child\", \"child\", \"chrome\", \"circle\", \"class\", \"class\", \"class\", \"class\", \"classpath\", \"clause\", \"cli\", \"client\", \"client\", \"client\", \"client\", \"clone\", \"closure\", \"cmake\", \"cmd\", \"collection\", \"collection\", \"collection\", \"color\", \"colour\", \"column\", \"comma\", \"command\", \"command\", \"command\", \"command\", \"commit\", \"comparison\", \"comparison\", \"comparison\", \"compiler\", \"compiler\", \"completion\", \"component\", \"component\", \"component\", \"comprehension\", \"config\", \"config\", \"config\", \"config\", \"conflict\", \"connection\", \"connection\", \"connection\", \"connection\", \"console\", \"console\", \"console\", \"console\", \"console\", \"console\", \"constructor\", \"container\", \"container\", \"container\", \"content\", \"content\", \"content\", \"content\", \"content\", \"content\", \"content\", \"content\", \"context\", \"context\", \"context\", \"context\", \"controller\", \"cor\", \"count\", \"count\", \"count\", \"credential\", \"css\", \"csv\", \"curl\", \"cursor\", \"custom\", \"custom\", \"custom\", \"custom\", \"custom\", \"data\", \"data\", \"data\", \"data\", \"data_frame\", \"database\", \"database\", \"dataframe\", \"date\", \"datum\", \"datum\", \"datum\", \"datum\", \"datum\", \"datum\", \"datum\", \"datum\", \"day\", \"day\", \"day\", \"day\", \"delegate\", \"dependency\", \"dependency\", \"deployment\", \"dev\", \"developer\", \"developer\", \"developer\", \"developer\", \"developer\", \"developer\", \"developer\", \"development\", \"development\", \"development\", \"development\", \"development\", \"development\", \"device\", \"device\", \"dialog\", \"dict\", \"dictionary\", \"dictionary\", \"diff\", \"difference\", \"difference\", \"difference\", \"difference\", \"difference\", \"dimension\", \"directive\", \"directive\", \"directory\", \"directory\", \"directory\", \"div\", \"django\", \"django\", \"dll\", \"docker\", \"dockerfile\", \"dom\", \"dom\", \"dot\", \"drive\", \"driver\", \"eclipse\", \"eclipse\", \"eclipse\", \"edittext\", \"eg\", \"element\", \"element\", \"element\", \"email\", \"email\", \"emulator\", \"emulator\", \"endpoint\", \"entity\", \"entity\", \"environment\", \"environment\", \"environment\", \"environment\", \"environment\", \"equality\", \"event\", \"event\", \"event\", \"example\", \"example\", \"example\", \"example\", \"example\", \"example\", \"example\", \"example\", \"example\", \"example\", \"exception\", \"exception\", \"exception\", \"exception\", \"exception\", \"exe\", \"explanation\", \"explanation\", \"explanation\", \"explanation\", \"expression\", \"expression\", \"factor\", \"factory\", \"feature\", \"feature\", \"feature\", \"feature\", \"feature\", \"feature\", \"feature\", \"feature\", \"feature\", \"field\", \"field\", \"field\", \"field\", \"field\", \"field\", \"figure\", \"file\", \"file\", \"file\", \"file\", \"file\", \"file\", \"filename\", \"filter\", \"firebase\", \"firefox\", \"flexbox\", \"flutter\", \"folder\", \"font\", \"fork\", \"form\", \"form\", \"form\", \"form\", \"form\", \"format\", \"format\", \"format\", \"format\", \"format\", \"fragment\", \"framework\", \"framework\", \"framework\", \"framework\", \"framework\", \"function\", \"function\", \"function\", \"function\", \"function\", \"game\", \"gcc\", \"gcc\", \"gcc\", \"gem\", \"generation\", \"generator\", \"git\", \"github\", \"gradle\", \"grid\", \"handle\", \"handler\", \"hardware\", \"hash\", \"hash\", \"hash\", \"hash\", \"haskell\", \"header\", \"header\", \"header\", \"header\", \"heap\", \"heap\", \"height\", \"helper\", \"helper\", \"heroku\", \"hex\", \"history\", \"hook\", \"host\", \"host\", \"hour\", \"hour\", \"hour\", \"hour\", \"hour\", \"html\", \"html\", \"html\", \"html5\", \"http\", \"httpclient\", \"icon\", \"ide\", \"ide\", \"idea\", \"idea\", \"idea\", \"idea\", \"idea\", \"idea\", \"idea\", \"idea\", \"idea\", \"idea\", \"identity\", \"iframe\", \"image\", \"image\", \"image\", \"implementation\", \"implementation\", \"implementation\", \"implementation\", \"import\", \"import\", \"index\", \"index\", \"index\", \"index\", \"index\", \"index\", \"inheritance\", \"input\", \"input\", \"input\", \"input\", \"insert\", \"install\", \"installation\", \"installation\", \"installation\", \"instance\", \"instance\", \"instance\", \"instance\", \"instance\", \"instance\", \"instance\", \"instance\", \"instance\", \"int\", \"int\", \"int\", \"int\", \"integer\", \"integer\", \"intent\", \"interface\", \"interface\", \"internet_explorer\", \"io\", \"ip\", \"ip_address\", \"iphone\", \"iphone\", \"issue\", \"issue\", \"issue\", \"issue\", \"issue\", \"issue\", \"issue\", \"issue\", \"issue\", \"issue\", \"item\", \"item\", \"iterator\", \"jar\", \"javascript\", \"javascript\", \"javascript\", \"javascript\", \"jenkin\", \"join\", \"jquery\", \"jquery\", \"jquery\", \"jquery\", \"json\", \"json\", \"json\", \"junit\", \"kernel\", \"key\", \"key\", \"keyboard\", \"keyboard\", \"lambda\", \"language\", \"laravel\", \"layout\", \"layout\", \"length\", \"length\", \"length\", \"length\", \"library\", \"library\", \"library\", \"library\", \"library\", \"library\", \"line\", \"line\", \"line\", \"link\", \"link\", \"link\", \"link\", \"link\", \"link\", \"link\", \"link\", \"list\", \"list\", \"list\", \"list\", \"list\", \"list\", \"listener\", \"listview\", \"localhost\", \"log\", \"log\", \"log\", \"log\", \"log\", \"log\", \"log\", \"logger\", \"logging\", \"login\", \"loop\", \"loop\", \"loop\", \"loop\", \"loop\", \"loop\", \"lot\", \"lot\", \"lot\", \"lot\", \"lot\", \"lot\", \"lot\", \"lot\", \"lot\", \"lot\", \"mac\", \"machine\", \"machine\", \"machine\", \"machine\", \"mail\", \"manager\", \"manager\", \"map\", \"map\", \"map\", \"margin\", \"marker\", \"master\", \"matrix\", \"member\", \"member\", \"member\", \"memory\", \"memory\", \"menu\", \"menu\", \"menu\", \"menu\", \"menu\", \"merge\", \"message\", \"message\", \"message\", \"message\", \"message\", \"message\", \"message\", \"message\", \"message\", \"method\", \"method\", \"method\", \"method\", \"method\", \"method\", \"migration\", \"modal\", \"mode\", \"mode\", \"mode\", \"mode\", \"mode\", \"mode\", \"mode\", \"model\", \"model\", \"module\", \"module\", \"module\", \"mongodb\", \"month\", \"month\", \"month\", \"mouse\", \"mvc\", \"mysql\", \"mysql\", \"name\", \"name\", \"name\", \"name\", \"name\", \"name\", \"name\", \"name\", \"name\", \"namespace\", \"navigation\", \"navigation\", \"navigation_bar\", \"net\", \"net\", \"net\", \"net\", \"net\", \"netbean\", \"newline\", \"nexus\", \"nginx\", \"node\", \"node\", \"node\", \"node\", \"node\", \"node\", \"notation\", \"notation\", \"notation\", \"notebook\", \"notepad\", \"npm\", \"nuget\", \"nuget\", \"number\", \"number\", \"number\", \"number\", \"number\", \"number\", \"number\", \"number\", \"object\", \"object\", \"occurrence\", \"one\", \"one\", \"one\", \"one\", \"one\", \"one\", \"one\", \"one\", \"one\", \"one\", \"operating_system\", \"operator\", \"optimization\", \"option\", \"option\", \"option\", \"option\", \"option\", \"option\", \"option\", \"option\", \"option\", \"option\", \"order\", \"order\", \"order\", \"order\", \"order\", \"order\", \"order\", \"order\", \"order\", \"origin\", \"origin\", \"origin\", \"output\", \"output\", \"output\", \"output\", \"output\", \"output\", \"output\", \"output\", \"output\", \"output\", \"overflow\", \"package\", \"padding\", \"page\", \"page\", \"panda\", \"param\", \"param\", \"parameter\", \"parameter\", \"password\", \"patch\", \"path\", \"path\", \"pattern\", \"pdf\", \"performance\", \"performance\", \"performance\", \"perl\", \"permission\", \"permission\", \"phone\", \"phone\", \"phone\", \"php\", \"php\", \"php\", \"pipe\", \"placeholder\", \"platform\", \"platform\", \"platform\", \"plot\", \"plugin\", \"plugin\", \"plugin\", \"plugin\", \"plugin\", \"png\", \"pod\", \"point\", \"point\", \"point\", \"point\", \"point\", \"point\", \"point\", \"point\", \"point\", \"point\", \"pointer\", \"pom\", \"port\", \"post\", \"post\", \"post\", \"post\", \"post\", \"post\", \"post\", \"post\", \"post\", \"post\", \"postgre\", \"postgresql\", \"postman\", \"powershell\", \"press\", \"problem\", \"problem\", \"problem\", \"problem\", \"problem\", \"problem\", \"problem\", \"problem\", \"problem\", \"problem\", \"process\", \"process\", \"process\", \"process\", \"process\", \"process\", \"process\", \"process\", \"production\", \"production\", \"production\", \"production\", \"production\", \"profile\", \"profile\", \"profile\", \"program\", \"program\", \"programmer\", \"programming\", \"project\", \"project\", \"project\", \"promise\", \"promise\", \"prop\", \"property\", \"property\", \"property\", \"property\", \"protocol\", \"prototype\", \"proxy\", \"pull\", \"query\", \"question\", \"question\", \"question\", \"question\", \"question\", \"question\", \"question\", \"question\", \"question\", \"question\", \"queue\", \"quote\", \"r\", \"r\", \"rail\", \"rail\", \"rail\", \"ram\", \"range\", \"range\", \"react\", \"react\", \"reactjs\", \"reason\", \"reason\", \"reason\", \"reason\", \"reason\", \"reason\", \"reason\", \"reason\", \"reason\", \"reason\", \"record\", \"redirect\", \"redis\", \"reference\", \"reference\", \"reference\", \"reference\", \"reference\", \"reference\", \"reference\", \"reference\", \"reference\", \"reflection\", \"refresh\", \"regex\", \"register\", \"registry\", \"relation\", \"remote\", \"repo\", \"repository\", \"representation\", \"representation\", \"request\", \"request\", \"resource\", \"resource\", \"resource\", \"resource\", \"resource\", \"resource\", \"resource\", \"resource\", \"response\", \"result\", \"result\", \"result\", \"result\", \"result\", \"result\", \"result\", \"result\", \"result\", \"result\", \"return\", \"return\", \"return\", \"return\", \"return\", \"return\", \"return\", \"revision\", \"role\", \"root\", \"root\", \"root\", \"root\", \"route\", \"router\", \"row\", \"schema\", \"scheme\", \"screen\", \"screen\", \"screen\", \"screen\", \"screen\", \"script\", \"script\", \"script\", \"scroll\", \"scrollbar\", \"scrollview\", \"search\", \"search\", \"search\", \"search\", \"search\", \"search\", \"search\", \"search\", \"second\", \"second\", \"second\", \"second\", \"selector\", \"selector\", \"selenium\", \"server\", \"server\", \"server\", \"server\", \"server\", \"server\", \"server\", \"service\", \"service\", \"service\", \"service\", \"service\", \"session\", \"session\", \"session\", \"session\", \"session\", \"shadow\", \"shape\", \"sheet\", \"shell\", \"shell\", \"signature\", \"signature\", \"simulator\", \"site\", \"site\", \"site\", \"site\", \"site\", \"site\", \"size\", \"size\", \"size\", \"size\", \"size\", \"size\", \"size\", \"slice\", \"socket\", \"solution\", \"solution\", \"solution\", \"solution\", \"solution\", \"solution\", \"solution\", \"solution\", \"solution\", \"solution\", \"source\", \"source\", \"source\", \"source\", \"source\", \"source\", \"source\", \"source\", \"source\", \"source\", \"space\", \"space\", \"space\", \"space\", \"space\", \"space\", \"span\", \"spark\", \"specification\", \"speed\", \"speed\", \"spring\", \"spring\", \"spring_boot\", \"sql\", \"ssh\", \"stack\", \"stack\", \"stack\", \"stack_trace\", \"standard\", \"standard\", \"state\", \"state\", \"state\", \"state\", \"state\", \"state\", \"state\", \"statement\", \"statement\", \"statement\", \"statement\", \"storyboard\", \"stream\", \"stream\", \"stream\", \"stream\", \"string\", \"string\", \"string\", \"string\", \"string\", \"string\", \"string\", \"string\", \"struct\", \"struct\", \"studio\", \"studio\", \"studio\", \"style\", \"style\", \"style\", \"style\", \"stylesheet\", \"subclass\", \"subdirectory\", \"submit\", \"submodule\", \"support\", \"support\", \"support\", \"support\", \"support\", \"support\", \"support\", \"support\", \"support\", \"svg\", \"swift\", \"swift\", \"system\", \"system\", \"system\", \"system\", \"system\", \"system\", \"system\", \"system\", \"system\", \"tab\", \"tab\", \"table\", \"tag\", \"tag\", \"tag\", \"target\", \"target\", \"target\", \"target\", \"task\", \"task\", \"task\", \"task\", \"task\", \"task\", \"task\", \"temp\", \"template\", \"template\", \"template\", \"template\", \"template\", \"template\", \"template\", \"term\", \"terminal\", \"terminal\", \"test\", \"test\", \"test\", \"testing\", \"testing\", \"testing\", \"testing\", \"testing\", \"text\", \"text\", \"text\", \"text\", \"textbox\", \"textview\", \"textview\", \"theme\", \"theme\", \"theory\", \"thing\", \"thing\", \"thing\", \"thing\", \"thing\", \"thing\", \"thing\", \"thing\", \"thing\", \"thing\", \"thread\", \"thread\", \"thread\", \"time\", \"time\", \"time\", \"time\", \"time\", \"time\", \"time\", \"time\", \"time\", \"time\", \"timeout\", \"timestamp\", \"tomcat\", \"tool\", \"tool\", \"tool\", \"tool\", \"tool\", \"tool\", \"tooltip\", \"top\", \"top\", \"top\", \"top\", \"top\", \"top\", \"top\", \"top\", \"top\", \"training\", \"transition\", \"type\", \"type\", \"type\", \"type\", \"type\", \"type\", \"type\", \"underscore\", \"unit\", \"update\", \"update\", \"update\", \"update\", \"update\", \"update\", \"update\", \"update\", \"update\", \"update\", \"url\", \"url\", \"url\", \"url\", \"url\", \"use\", \"use\", \"use\", \"use\", \"use\", \"use\", \"use\", \"use\", \"use\", \"use\", \"user\", \"user\", \"user\", \"user\", \"user\", \"user\", \"user\", \"user\", \"user\", \"user\", \"username\", \"validation\", \"value\", \"value\", \"value\", \"value\", \"value\", \"value\", \"value\", \"value\", \"var\", \"variable\", \"variable\", \"variable\", \"variable\", \"variable\", \"variable\", \"variable\", \"variable\", \"variant\", \"vector\", \"version\", \"version\", \"version\", \"version\", \"version\", \"version\", \"version\", \"video\", \"video\", \"view\", \"view\", \"view\", \"view\", \"viewcontroller\", \"virtualenv\", \"volume\", \"volume\", \"warning\", \"warning\", \"warning\", \"warning\", \"warning\", \"way\", \"way\", \"way\", \"way\", \"way\", \"way\", \"way\", \"way\", \"way\", \"way\", \"web\", \"web\", \"web\", \"web\", \"web\", \"web\", \"web\", \"webpack\", \"website\", \"website\", \"website\", \"website\", \"website\", \"website\", \"website\", \"websocket\", \"webview\", \"weight\", \"whitespace\", \"widget\", \"width\", \"window\", \"window\", \"window\", \"window\", \"window\", \"window\", \"window\", \"word\", \"word\", \"word\", \"word\", \"word\", \"word\", \"word\", \"word\", \"work\", \"work\", \"work\", \"work\", \"work\", \"work\", \"work\", \"work\", \"work\", \"work\", \"workspace\", \"xcode\", \"xcode\", \"xml\", \"yaml\", \"yesterday\", \"yesterday\", \"zip\"]}, \"R\": 30, \"lambda.step\": 0.01, \"plot.opts\": {\"xlab\": \"PC1\", \"ylab\": \"PC2\"}, \"topic.order\": [7, 3, 6, 1, 9, 10, 5, 2, 8, 4]};\n",
       "\n",
       "function LDAvis_load_lib(url, callback){\n",
       "  var s = document.createElement('script');\n",
       "  s.src = url;\n",
       "  s.async = true;\n",
       "  s.onreadystatechange = s.onload = callback;\n",
       "  s.onerror = function(){console.warn(\"failed to load library \" + url);};\n",
       "  document.getElementsByTagName(\"head\")[0].appendChild(s);\n",
       "}\n",
       "\n",
       "if(typeof(LDAvis) !== \"undefined\"){\n",
       "   // already loaded: just create the visualization\n",
       "   !function(LDAvis){\n",
       "       new LDAvis(\"#\" + \"ldavis_el362071396878306736648827489061\", ldavis_el362071396878306736648827489061_data);\n",
       "   }(LDAvis);\n",
       "}else if(typeof define === \"function\" && define.amd){\n",
       "   // require.js is available: use it to load d3/LDAvis\n",
       "   require.config({paths: {d3: \"https://cdnjs.cloudflare.com/ajax/libs/d3/3.5.5/d3.min\"}});\n",
       "   require([\"d3\"], function(d3){\n",
       "      window.d3 = d3;\n",
       "      LDAvis_load_lib(\"https://cdn.rawgit.com/bmabey/pyLDAvis/files/ldavis.v1.0.0.js\", function(){\n",
       "        new LDAvis(\"#\" + \"ldavis_el362071396878306736648827489061\", ldavis_el362071396878306736648827489061_data);\n",
       "      });\n",
       "    });\n",
       "}else{\n",
       "    // require.js not available: dynamically load d3 & LDAvis\n",
       "    LDAvis_load_lib(\"https://cdnjs.cloudflare.com/ajax/libs/d3/3.5.5/d3.min.js\", function(){\n",
       "         LDAvis_load_lib(\"https://cdn.rawgit.com/bmabey/pyLDAvis/files/ldavis.v1.0.0.js\", function(){\n",
       "                 new LDAvis(\"#\" + \"ldavis_el362071396878306736648827489061\", ldavis_el362071396878306736648827489061_data);\n",
       "            })\n",
       "         });\n",
       "}\n",
       "</script>"
      ],
      "text/plain": [
       "PreparedData(topic_coordinates=              x         y  topics  cluster       Freq\n",
       "topic                                                \n",
       "6     -0.077501 -0.157603       1        1  13.245308\n",
       "2      0.251819  0.029180       2        1  11.063228\n",
       "5     -0.184528 -0.011915       3        1  10.951299\n",
       "0      0.125985  0.080816       4        1  10.654431\n",
       "8     -0.169121 -0.099227       5        1  10.565448\n",
       "9      0.113274 -0.149461       6        1  10.337761\n",
       "4     -0.157411 -0.023440       7        1   9.415408\n",
       "1     -0.022217  0.248422       8        1   9.059046\n",
       "7     -0.052444  0.197214       9        1   7.507907\n",
       "3      0.172144 -0.113985      10        1   7.200162, topic_info=         Term         Freq        Total Category  logprob  loglift\n",
       "50       file  9873.000000  9873.000000  Default  30.0000  30.0000\n",
       "37   function  4271.000000  4271.000000  Default  29.0000  29.0000\n",
       "97     object  3377.000000  3377.000000  Default  28.0000  28.0000\n",
       "26     method  4565.000000  4565.000000  Default  27.0000  27.0000\n",
       "168      line  3475.000000  3475.000000  Default  26.0000  26.0000\n",
       "..        ...          ...          ...      ...      ...      ...\n",
       "145   project   277.960874  3724.783130  Topic10  -4.8098   0.0358\n",
       "111   problem   264.723116  3870.033929  Topic10  -4.8586  -0.0513\n",
       "0     command   239.206288  3132.508192  Topic10  -4.9600   0.0588\n",
       "466   feature   198.142843   832.647337  Topic10  -5.1483   1.1954\n",
       "506   message   204.347831  1819.168317  Topic10  -5.1175   0.4448\n",
       "\n",
       "[633 rows x 6 columns], token_table=      Topic      Freq       Term\n",
       "term                            \n",
       "475       2  0.015566     access\n",
       "475       3  0.018396     access\n",
       "475       4  0.502353     access\n",
       "475       5  0.216507     access\n",
       "475       6  0.066509     access\n",
       "...     ...       ...        ...\n",
       "590       9  0.998558        xml\n",
       "2677      7  0.984412       yaml\n",
       "1490      2  0.018035  yesterday\n",
       "1490      6  0.973893  yesterday\n",
       "4512      9  0.987722        zip\n",
       "\n",
       "[1416 rows x 3 columns], R=30, lambda_step=0.01, plot_opts={'xlab': 'PC1', 'ylab': 'PC2'}, topic_order=[7, 3, 6, 1, 9, 10, 5, 2, 8, 4])"
      ]
     },
     "execution_count": 49,
     "metadata": {},
     "output_type": "execute_result"
    }
   ],
   "source": [
    "pyLDAvis.enable_notebook()\n",
    "vis_lda = pyLDAvis.gensim.prepare(lda_model, corpus, id2word)\n",
    "vis_lda"
   ]
  },
  {
   "cell_type": "markdown",
   "metadata": {},
   "source": [
    "## Optimisation"
   ]
  },
  {
   "cell_type": "markdown",
   "metadata": {},
   "source": [
    "Parametres à optimiser :\n",
    "\n",
    "nombre de topic\n"
   ]
  },
  {
   "cell_type": "code",
   "execution_count": 50,
   "metadata": {},
   "outputs": [],
   "source": [
    "result_list = []\n",
    "\n",
    "for nb_topic in [4,6,8,10,12,14,16,18,20]:\n",
    "    lda_model = gensim.models.LdaMulticore(corpus=corpus,\n",
    "                                       id2word=id2word,\n",
    "                                       num_topics=nb_topic, \n",
    "                                       random_state=100,\n",
    "                                       chunksize=100,\n",
    "                                       passes=10,\n",
    "                                       per_word_topics=True)\n",
    "    coherence_model_lda = CoherenceModel(model=lda_model, texts=data_words_bigrams, dictionary=id2word, coherence='c_v')\n",
    "    coherence_lda = coherence_model_lda.get_coherence()\n",
    "    result_list.append(coherence_lda)\n",
    "    \n",
    "    "
   ]
  },
  {
   "cell_type": "code",
   "execution_count": 51,
   "metadata": {},
   "outputs": [
    {
     "data": {
      "text/plain": [
       "Text(0, 0.5, 'Coherence score')"
      ]
     },
     "execution_count": 51,
     "metadata": {},
     "output_type": "execute_result"
    },
    {
     "data": {
      "image/png": "[encoded data removed]",
      "text/plain": [
       "<Figure size 432x288 with 1 Axes>"
      ]
     },
     "metadata": {
      "needs_background": "light"
     },
     "output_type": "display_data"
    }
   ],
   "source": [
    "plt.scatter([4,6,8,10,12,14,16,18,20],result_list)\n",
    "plt.xlabel('Number of topics')\n",
    "plt.ylabel('Coherence score')"
   ]
  },
  {
   "cell_type": "markdown",
   "metadata": {},
   "source": [
    "### Préparation des données : analyse supervisée"
   ]
  },
  {
   "cell_type": "markdown",
   "metadata": {},
   "source": [
    "Dans la suite de cette étude on va travailler avec les 100 tags les plus fréquents. Il faut donc : \n",
    "* Déterminer les 100 tags les plus fréquents\n",
    "* Sélectionner les lignes ayant au moins 1 de ces tags\n",
    "* Supprimer les autres tags."
   ]
  },
  {
   "cell_type": "code",
   "execution_count": 52,
   "metadata": {},
   "outputs": [],
   "source": [
    "from imp import reload"
   ]
  },
  {
   "cell_type": "code",
   "execution_count": 53,
   "metadata": {},
   "outputs": [],
   "source": [
    "tag_list = df_data_words['Tags'].to_list()\n",
    "flat_list = [item for sublist in tag_list for item in sublist]\n",
    "fdist = nltk.FreqDist(flat_list)\n",
    "frequent_tags = dict(fdist.most_common(100))\n",
    "index_logic = df_data_words['Tags'].apply(lambda x: len([tag for tag in x if tag in frequent_tags]) > 0)"
   ]
  },
  {
   "cell_type": "code",
   "execution_count": 54,
   "metadata": {},
   "outputs": [
    {
     "name": "stderr",
     "output_type": "stream",
     "text": [
      "/home/hugo/.local/lib/python3.8/site-packages/past/builtins/misc.py:45: DeprecationWarning: the imp module is deprecated in favour of importlib; see the module's documentation for alternative uses\n",
      "  from imp import reload\n",
      "/home/hugo/.local/lib/python3.8/site-packages/past/builtins/misc.py:45: DeprecationWarning: the imp module is deprecated in favour of importlib; see the module's documentation for alternative uses\n",
      "  from imp import reload\n",
      "/home/hugo/.local/lib/python3.8/site-packages/past/builtins/misc.py:45: DeprecationWarning: the imp module is deprecated in favour of importlib; see the module's documentation for alternative uses\n",
      "  from imp import reload\n",
      "/home/hugo/.local/lib/python3.8/site-packages/past/builtins/misc.py:45: DeprecationWarning: the imp module is deprecated in favour of importlib; see the module's documentation for alternative uses\n",
      "  from imp import reload\n",
      "/home/hugo/.local/lib/python3.8/site-packages/past/builtins/misc.py:45: DeprecationWarning: the imp module is deprecated in favour of importlib; see the module's documentation for alternative uses\n",
      "  from imp import reload\n",
      "/home/hugo/.local/lib/python3.8/site-packages/past/builtins/misc.py:45: DeprecationWarning: the imp module is deprecated in favour of importlib; see the module's documentation for alternative uses\n",
      "  from imp import reload\n",
      "/home/hugo/.local/lib/python3.8/site-packages/past/builtins/misc.py:45: DeprecationWarning: the imp module is deprecated in favour of importlib; see the module's documentation for alternative uses\n",
      "  from imp import reload\n",
      "/home/hugo/.local/lib/python3.8/site-packages/past/builtins/misc.py:45: DeprecationWarning: the imp module is deprecated in favour of importlib; see the module's documentation for alternative uses\n",
      "  from imp import reload\n"
     ]
    }
   ],
   "source": [
    "df_process = df_data_words.copy()\n",
    "df_process = df_process.loc[index_logic,:]\n",
    "df_process.loc[:,'Body_process'] = df_process.loc[:,'Body'].apply(lambda x:textPreprocessingString(removePunctuation(removeTag(x))))\n",
    "df_process.loc[:,'Tags_process'] = df_process.loc[:,'Tags'].apply(lambda x: [tag for tag in x if tag in frequent_tags])"
   ]
  },
  {
   "cell_type": "code",
   "execution_count": 55,
   "metadata": {},
   "outputs": [],
   "source": [
    "df_process.to_csv('df_process.csv', sep=';', index=False)"
   ]
  }
 ],
 "metadata": {
  "kernelspec": {
   "display_name": "Python 3 (ipykernel)",
   "language": "python",
   "name": "python3"
  },
  "language_info": {
   "codemirror_mode": {
    "name": "ipython",
    "version": 3
   },
   "file_extension": ".py",
   "mimetype": "text/x-python",
   "name": "python",
   "nbconvert_exporter": "python",
   "pygments_lexer": "ipython3",
   "version": "3.8.12"
  }
 },
 "nbformat": 4,
 "nbformat_minor": 4
}
